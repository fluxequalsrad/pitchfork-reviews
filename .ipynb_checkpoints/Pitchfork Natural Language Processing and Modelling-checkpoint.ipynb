{
 "cells": [
  {
   "cell_type": "markdown",
   "id": "20eaaf8d",
   "metadata": {},
   "source": [
    "# Pitchfork Music Reviews - Natural Language Processing\n",
    "\n",
    "I plan to analyse album reviews published on https://pitchfork.com using natural language processing (NLP) techniques to explore how descriptive language varies across music genres. My aim is to identify whether reviews adhere to a consistent terminology, or if certain music styles have terms and descriptors unique to them. Based on these findings, I will train a classification model to predict the genre of unseen reviews.\n",
    "\n",
    "This notebook covers the application of natural language processing techniques to our review dataset, looks at the how language changes between genres and covers the training and testing of a classification model in applying these findings to unseen reviews.\n",
    "\n",
    "#### Contents:\n",
    "1. Text Pre-Processing\n",
    "2. Natural Language Processing\n",
    "    2. Findings\n",
    "3. Review Classification\n",
    "    3. Findings"
   ]
  },
  {
   "cell_type": "markdown",
   "id": "73b020c6",
   "metadata": {},
   "source": [
    "## 1. Text Pre-Processing\n",
    "\n",
    "Before I can apply NLP techniques to my review data, I first need to pre-process the text. I will remove punctuation from the corpus and then define my vectorizer object which will be used to convert the text into numerical vectors that capture their semantic meaning. In the process of doing this, the text will be set to lower case, have stop words removed, be lemmatised and tokenised."
   ]
  },
  {
   "cell_type": "code",
   "execution_count": 7,
   "id": "09c6b9e5",
   "metadata": {},
   "outputs": [],
   "source": [
    "# load libraries\n",
    "import pandas as pd\n",
    "import re\n",
    "import time\n",
    "import plotly.express as px\n",
    "import plotly.figure_factory as ff\n",
    "import plotly.graph_objects as go\n",
    "from plotly.subplots import make_subplots\n",
    "from nltk.tokenize import word_tokenize\n",
    "from nltk.corpus import stopwords\n",
    "from nltk.stem import WordNetLemmatizer\n",
    "import string\n",
    "from sklearn.feature_extraction.text import TfidfVectorizer\n",
    "from sklearn.model_selection import train_test_split\n",
    "from sklearn.ensemble import RandomForestClassifier\n",
    "from sklearn.preprocessing import LabelEncoder\n",
    "from sklearn.naive_bayes import ComplementNB\n",
    "from sklearn.metrics import classification_report"
   ]
  },
  {
   "cell_type": "code",
   "execution_count": 8,
   "id": "e0185b9c",
   "metadata": {},
   "outputs": [],
   "source": [
    "# load cleaned data\n",
    "df = pd.read_csv(\"review_data_clean.csv\")\n",
    "\n",
    "# remove punctuation\n",
    "df['Text'] = df['Text'].apply(lambda x: re.sub(r'[^\\w\\s]', '', x))"
   ]
  },
  {
   "cell_type": "code",
   "execution_count": 9,
   "id": "1a0b414a",
   "metadata": {},
   "outputs": [],
   "source": [
    "# Define Lemmatizing and Tokenizing function\n",
    "class WordLemmaTokenizer(object):\n",
    "    def __init__(self):\n",
    "        self.wnl=WordNetLemmatizer()\n",
    "    def __call__(self,doc):\n",
    "        return [self.wnl.lemmatize(t) for t in word_tokenize(doc)]\n",
    "    \n",
    "# Adding common non-genre specific music terminology to the stop words list\n",
    "stop_words= stopwords.words('english') + ['like', 'album','music','sound','song','track','record','artist','new','one']\n",
    "\n",
    "# Define vectorizer object\n",
    "vectorizer=TfidfVectorizer(analyzer='word',\n",
    "                           input='content',\n",
    "                           lowercase=True,\n",
    "                           stop_words= stop_words,\n",
    "                           min_df=3,\n",
    "                           ngram_range=(1,2),\n",
    "                           tokenizer=WordLemmaTokenizer())"
   ]
  },
  {
   "cell_type": "markdown",
   "id": "0f52e1c1",
   "metadata": {},
   "source": [
    "## Natural Language Processing\n",
    "\n",
    "In this secton I'll be applying my vectorizer to the text data to identify the most important words of each genre. Word importance will be calculated using the Term Frequency - Inverse Document Frequency (TF-IDF) method. This technique is usually applied to the entire body of text after which I could break out the importance by genre however, I found that applying the TF-IDF vectorizer to each genre's text individually produced improved results with less overlap between genres. I have also done some feature engineering by adding non-genre specific music terminology to the list of stop words to be excluded. This helps remove the noise of having words like 'album' and 'song' be deemed as important when they are irrelevant to the genre itself."
   ]
  },
  {
   "cell_type": "code",
   "execution_count": 4,
   "id": "f01490b4",
   "metadata": {
    "scrolled": true
   },
   "outputs": [
    {
     "name": "stderr",
     "output_type": "stream",
     "text": [
      "/Users/simoncrouch/opt/anaconda3/lib/python3.9/site-packages/sklearn/feature_extraction/text.py:396: UserWarning: Your stop_words may be inconsistent with your preprocessing. Tokenizing the stop words generated tokens [\"'d\", \"'ll\", \"'re\", \"'s\", \"'ve\", 'could', 'doe', 'ha', 'might', 'must', \"n't\", 'need', 'sha', 'wa', 'wo', 'would'] not in stop_words.\n",
      "  warnings.warn(\n"
     ]
    }
   ],
   "source": [
    "# create list to store important words\n",
    "important_words_by_genre = {}\n",
    "# define number of words per genre\n",
    "top_n = 40\n",
    "\n",
    "# fit vectorizer on each genre's text data seperately\n",
    "for genre in df['Genre'].unique():\n",
    "    # Filter the text by genre\n",
    "    genre_text = df[df['Genre'] == genre]['Text']\n",
    "    # Fit and transform the vectorizer on this subset\n",
    "    X_genre_tfidf = vectorizer.fit_transform(genre_text)\n",
    "    feature_names = vectorizer.get_feature_names_out()\n",
    "    # Create a DataFrame to hold the TF-IDF scores\n",
    "    genre_tfidf_df = pd.DataFrame(X_genre_tfidf.toarray(), columns=feature_names)\n",
    "    # Sum TF-IDF scores across all documents within the genre\n",
    "    genre_word_scores = genre_tfidf_df.sum(axis=0).sort_values(ascending=False)[:top_n]\n",
    "    # Store as a DataFrame with words and scores for this genre\n",
    "    important_words_by_genre[genre] = pd.DataFrame({\n",
    "        'word': genre_word_scores.index,\n",
    "        'tfidf_score': genre_word_scores.values\n",
    "    })"
   ]
  },
  {
   "cell_type": "code",
   "execution_count": 5,
   "id": "d4effeef",
   "metadata": {},
   "outputs": [],
   "source": [
    "# save important words for each genre in their own dataframe\n",
    "electronic = important_words_by_genre['Electronic']\n",
    "# filter out words less than three letters to remove lemmatizing mistakes\n",
    "electronic = electronic[electronic['word'].apply(lambda x: len(x) > 2)]\n",
    "\n",
    "pop = important_words_by_genre['Pop']\n",
    "pop = pop[pop['word'].apply(lambda x: len(x) > 2)]\n",
    "\n",
    "rock = important_words_by_genre['Rock']\n",
    "rock = rock[rock['word'].apply(lambda x: len(x) > 2)]\n",
    "\n",
    "experimental = important_words_by_genre['Experimental']\n",
    "experimental = experimental[experimental['word'].apply(lambda x: len(x) > 2)]\n",
    "\n",
    "rap = important_words_by_genre['Rap']\n",
    "rap = rap[rap['word'].apply(lambda x: len(x) > 2)]\n",
    "\n",
    "folk = important_words_by_genre['Folk']\n",
    "folk = folk[folk['word'].apply(lambda x: len(x) > 2)]\n",
    "\n",
    "jazz = important_words_by_genre['Jazz']\n",
    "jazz = jazz[jazz['word'].apply(lambda x: len(x) > 2)]\n",
    "\n",
    "metal = important_words_by_genre['Metal']\n",
    "metal = metal[metal['word'].apply(lambda x: len(x) > 2)]"
   ]
  },
  {
   "cell_type": "markdown",
   "id": "35f7c8b7",
   "metadata": {},
   "source": [
    "The top 40 most important words for each genre have now been saved and are visualised below."
   ]
  },
  {
   "cell_type": "code",
   "execution_count": 10,
   "id": "f0c348f5",
   "metadata": {
    "scrolled": false
   },
   "outputs": [
    {
     "data": {
      "application/vnd.plotly.v1+json": {
       "config": {
        "plotlyServerURL": "https://plot.ly"
       },
       "data": [
        {
         "name": "Electronic",
         "type": "scatter",
         "x": [
          "feel",
          "producer",
          "vocal",
          "drum",
          "club",
          "pop",
          "time",
          "beat",
          "first",
          "even",
          "techno",
          "dance",
          "guitar",
          "ambient",
          "voice",
          "year",
          "house",
          "electronic",
          "band",
          "debut",
          "might",
          "make",
          "work",
          "synths",
          "synth",
          "long",
          "take",
          "world",
          "rhythm",
          "much",
          "space",
          "back",
          "set",
          "yet",
          "melody",
          "across"
         ],
         "xaxis": "x",
         "y": [
          3.818589796209124,
          3.7023832839476034,
          3.4953721590324087,
          3.423403316959108,
          3.3832663181394724,
          3.308755107681813,
          3.261842193258468,
          3.1216351511944733,
          3.0598103347147383,
          2.9953220507337748,
          2.9870742980632348,
          2.934373976748284,
          2.8965933084509503,
          2.8862924639541587,
          2.859773414667124,
          2.8286511380387083,
          2.799110649597438,
          2.766734219062349,
          2.7450098880901947,
          2.7222547390128846,
          2.6867513731693218,
          2.6864175530214705,
          2.6738794264089516,
          2.6294738528863157,
          2.607358377718173,
          2.604694262291409,
          2.574461701972204,
          2.536738212739085,
          2.524435113911092,
          2.52127421571564,
          2.496557459057553,
          2.4931522679293927,
          2.4573576886601485,
          2.41405098476928,
          2.4115274234333834,
          2.374032145499169
         ],
         "yaxis": "y"
        },
        {
         "name": "Pop",
         "type": "scatter",
         "x": [
          "pop",
          "love",
          "voice",
          "time",
          "shes",
          "year",
          "vocal",
          "feel",
          "debut",
          "first",
          "singer",
          "producer",
          "even",
          "star",
          "make",
          "life",
          "way",
          "sings",
          "girl",
          "beat",
          "production",
          "guitar",
          "two",
          "take",
          "moment",
          "want",
          "also",
          "past",
          "back",
          "world",
          "something",
          "work",
          "single",
          "woman",
          "might",
          "lyric"
         ],
         "xaxis": "x2",
         "y": [
          4.762319965183439,
          3.4160129603223948,
          3.3753212039621543,
          3.338730380740367,
          3.2748877904217606,
          3.1101850691998667,
          3.079800167599735,
          2.994783933002285,
          2.9857620667013918,
          2.941686758185248,
          2.7308689420764525,
          2.5628943723131687,
          2.480153491220598,
          2.4637024896709576,
          2.410277896861029,
          2.3490245378543557,
          2.345862367326826,
          2.340486507249487,
          2.319899271770019,
          2.2841566117413143,
          2.2014857474111955,
          2.1911858645120237,
          2.179069875631799,
          2.1524074467093457,
          2.1228195756450976,
          2.1063391084464036,
          2.0918542675042393,
          2.0536624674055886,
          2.0494286234314822,
          2.030510189488999,
          1.9933109286097201,
          1.98232574817999,
          1.963026696503751,
          1.9458789805691858,
          1.9419869856054848,
          1.9231127017416723
         ],
         "yaxis": "y2"
        },
        {
         "name": "Rock",
         "type": "scatter",
         "x": [
          "band",
          "guitar",
          "rock",
          "time",
          "year",
          "first",
          "feel",
          "even",
          "love",
          "pop",
          "make",
          "life",
          "way",
          "group",
          "still",
          "get",
          "take",
          "also",
          "moment",
          "day",
          "vocal",
          "debut",
          "set",
          "two",
          "voice",
          "sings",
          "drum",
          "solo",
          "might",
          "live",
          "something",
          "melody",
          "lyric",
          "could",
          "much",
          "indie",
          "back",
          "around"
         ],
         "xaxis": "x3",
         "y": [
          11.145219930742151,
          6.717857384875672,
          5.920515045031608,
          5.365502629354054,
          5.231800752747598,
          4.963080138821006,
          4.9105423630160905,
          4.5533243687365,
          4.326484397635861,
          4.269561480732006,
          4.092244947645667,
          4.023700665179951,
          4.0168673720129675,
          3.9730172513609863,
          3.8718333751476472,
          3.838013654231388,
          3.764942243377072,
          3.74270055467854,
          3.696528824592446,
          3.683299934420241,
          3.6677447162205765,
          3.6495227750306096,
          3.632547453805333,
          3.6103493537557765,
          3.585763624238954,
          3.509973050019366,
          3.488614876048935,
          3.477729282352006,
          3.460122358584339,
          3.449232773121155,
          3.4463774809163263,
          3.382247721525169,
          3.3588374754693198,
          3.3402257389414847,
          3.3012040390169988,
          3.2931658019873775,
          3.2929505530231102,
          3.24025153490323
         ],
         "yaxis": "y3"
        },
        {
         "name": "Experimental",
         "type": "scatter",
         "x": [
          "feel",
          "time",
          "guitar",
          "year",
          "voice",
          "work",
          "band",
          "melody",
          "vocal",
          "first",
          "world",
          "ambient",
          "instrument",
          "pop",
          "life",
          "musician",
          "piano",
          "even",
          "debut",
          "composer",
          "moment",
          "make",
          "back",
          "something",
          "recording",
          "would",
          "take",
          "way",
          "two",
          "could",
          "piece",
          "across",
          "end",
          "come",
          "rock",
          "made",
          "experimental",
          "jazz"
         ],
         "xaxis": "x4",
         "y": [
          2.4316518637189986,
          2.302797596505437,
          2.273088926101215,
          2.152596655103828,
          2.11346704328751,
          2.0944867974237997,
          2.0660811600329616,
          1.9201364847177946,
          1.9016236869879624,
          1.8909654826099118,
          1.8406933473265799,
          1.8302344002245599,
          1.829486096599328,
          1.8208461435946757,
          1.7963571763782913,
          1.7839481552511343,
          1.7736745931018718,
          1.7139824973619053,
          1.6880231555206668,
          1.6611715872674224,
          1.6542039047618111,
          1.636122864844687,
          1.6324722368249165,
          1.6043204593739389,
          1.5908540339671116,
          1.5836082072922406,
          1.570433824073862,
          1.5663732225972749,
          1.5391507825475164,
          1.5024119726343246,
          1.4970508025682396,
          1.4706936669525272,
          1.4644641917728434,
          1.4642773647627554,
          1.4593924670861373,
          1.4566450300409035,
          1.445874935953937,
          1.4401709515946197
         ],
         "yaxis": "y4"
        },
        {
         "name": "Rap",
         "type": "scatter",
         "x": [
          "rap",
          "beat",
          "rapper",
          "feel",
          "make",
          "year",
          "time",
          "still",
          "get",
          "even",
          "life",
          "producer",
          "way",
          "work",
          "mike",
          "moment",
          "first",
          "last",
          "production",
          "much",
          "project",
          "could",
          "voice",
          "take",
          "sample",
          "love",
          "back",
          "drum",
          "two",
          "verse",
          "dont",
          "black",
          "say",
          "bar",
          "vocal",
          "flow"
         ],
         "xaxis": "x5",
         "y": [
          5.589617320456988,
          4.671477680613151,
          4.43604963660247,
          3.52667520746026,
          3.1310786264860035,
          3.1178868467187355,
          3.0240029487415985,
          3.0184638564202095,
          2.8588316848015287,
          2.8254007257777243,
          2.812782030778926,
          2.766921231116159,
          2.750434249970211,
          2.5628917952145907,
          2.4304689612005017,
          2.420707951115117,
          2.3976024090235617,
          2.363639774696303,
          2.3415856285142995,
          2.3348672853236963,
          2.3333119891708134,
          2.315507432116122,
          2.3082732238800188,
          2.306697215205506,
          2.2989250558171923,
          2.297498665452935,
          2.261591239100474,
          2.245913489481488,
          2.237391868586586,
          2.235351791283507,
          2.2169190050100362,
          2.2094234002679443,
          2.1965989049504384,
          2.177863809370134,
          2.1630036727266027,
          2.1489100145012183
         ],
         "yaxis": "y5"
        },
        {
         "name": "Folk",
         "type": "scatter",
         "x": [
          "country",
          "guitar",
          "folk",
          "time",
          "year",
          "way",
          "first",
          "love",
          "voice",
          "carter",
          "rock",
          "feel",
          "last",
          "make",
          "much",
          "two",
          "studio",
          "long",
          "light",
          "band",
          "work",
          "lyric",
          "sings",
          "never",
          "life",
          "debut",
          "moment",
          "instrument",
          "melody",
          "even",
          "acoustic",
          "something",
          "recording",
          "still",
          "thing",
          "also",
          "line"
         ],
         "xaxis": "x6",
         "y": [
          2.4976407479087017,
          2.2835356478980002,
          1.9076175440095189,
          1.8818443991237017,
          1.8131082319778227,
          1.7837384118554758,
          1.695382669607283,
          1.6625646908288985,
          1.652571812382826,
          1.5452048003000354,
          1.5440323821107695,
          1.4557366638750415,
          1.4490846280871847,
          1.3766594937182552,
          1.2939220053022975,
          1.2807338910664705,
          1.279419461640423,
          1.2594169988361463,
          1.2278500819561957,
          1.1872159713235664,
          1.1870586354892576,
          1.1869304457213812,
          1.1780977305604057,
          1.1767324349525081,
          1.1709791930065243,
          1.1663480069966685,
          1.1580648059863037,
          1.15307120149166,
          1.1493287564668082,
          1.1387986121065083,
          1.133468907776384,
          1.1012957606234681,
          1.0977977798501835,
          1.0975827523379371,
          1.0944051559082448,
          1.0916998939877796,
          1.0748954094778806
         ],
         "yaxis": "y6"
        },
        {
         "name": "Jazz",
         "type": "scatter",
         "x": [
          "jazz",
          "gendel",
          "score",
          "time",
          "take",
          "work",
          "piano",
          "two",
          "guitar",
          "feel",
          "saxophonist",
          "musician",
          "around",
          "first",
          "even",
          "solo",
          "instrument",
          "play",
          "make",
          "recorded",
          "moment",
          "bass",
          "recording",
          "get",
          "saxophone",
          "piece",
          "free",
          "live",
          "voice",
          "something",
          "playing",
          "player",
          "melody",
          "sander",
          "little",
          "band",
          "life",
          "decade"
         ],
         "xaxis": "x7",
         "y": [
          2.747130428831174,
          1.488231792481842,
          1.1957803743869577,
          1.1671095510545502,
          1.1480222487117224,
          1.1319173897011252,
          1.107859828523559,
          1.0573625704371474,
          1.0301220996269913,
          0.9983942278617883,
          0.9891035322413839,
          0.9883734891268648,
          0.9846658218350851,
          0.9813582230311981,
          0.9733171863880861,
          0.9731463235551969,
          0.9510721237782526,
          0.9387770680929477,
          0.9205528639506291,
          0.9048824321364158,
          0.89318546210184,
          0.8785399581544509,
          0.8739398625310364,
          0.8643092029363026,
          0.854531739931909,
          0.8477466551841462,
          0.8349718183919453,
          0.8284209618086128,
          0.8249642169927117,
          0.8150444357829763,
          0.8087117158256457,
          0.7833436887938833,
          0.7774595473340934,
          0.7679641095486681,
          0.765505784017109,
          0.7633950424098932,
          0.7618342621587625,
          0.7609481171789441
         ],
         "yaxis": "y7"
        },
        {
         "name": "Metal",
         "type": "scatter",
         "x": [
          "band",
          "metal",
          "death",
          "riff",
          "death metal",
          "everything",
          "guitar",
          "darkness",
          "first",
          "full",
          "another",
          "make",
          "rock",
          "nothing",
          "even",
          "lyric",
          "duo",
          "past",
          "year",
          "solo",
          "take",
          "thats",
          "something",
          "way",
          "feel",
          "could",
          "southern",
          "black",
          "two",
          "time",
          "also",
          "yet",
          "back",
          "find",
          "live",
          "return",
          "piece",
          "early"
         ],
         "xaxis": "x8",
         "y": [
          2.1918954412017517,
          1.86103915378915,
          1.0490787983668537,
          1.0283678366180993,
          0.9150218473073573,
          0.9122222632399085,
          0.9098369445498897,
          0.8553317531963909,
          0.7890318613674526,
          0.7491754147157382,
          0.7371729862428861,
          0.7260175272501088,
          0.7205551871419968,
          0.713276616525445,
          0.6874477905925644,
          0.6678624326875298,
          0.6497572087934652,
          0.6468808830572053,
          0.6448835255886574,
          0.6245617973316041,
          0.6157379089663582,
          0.6022871580009569,
          0.6018069471767741,
          0.6002573452176987,
          0.5906249125970875,
          0.5856475233151915,
          0.5841752401572157,
          0.5638318999730538,
          0.5498754970948962,
          0.5487793554823702,
          0.5338082146236176,
          0.5304269365464197,
          0.5284519028157633,
          0.5235106551741248,
          0.5195198598871184,
          0.5164439499107281,
          0.5121907598304933,
          0.4924013366367276
         ],
         "yaxis": "y8"
        }
       ],
       "layout": {
        "annotations": [
         {
          "font": {
           "size": 12
          },
          "showarrow": false,
          "text": "Electronic",
          "x": 0.5,
          "xanchor": "center",
          "xref": "paper",
          "y": 1,
          "yanchor": "bottom",
          "yref": "paper"
         },
         {
          "font": {
           "size": 12
          },
          "showarrow": false,
          "text": "Pop",
          "x": 0.5,
          "xanchor": "center",
          "xref": "paper",
          "y": 0.8687499999999999,
          "yanchor": "bottom",
          "yref": "paper"
         },
         {
          "font": {
           "size": 12
          },
          "showarrow": false,
          "text": "Rock",
          "x": 0.5,
          "xanchor": "center",
          "xref": "paper",
          "y": 0.7375,
          "yanchor": "bottom",
          "yref": "paper"
         },
         {
          "font": {
           "size": 12
          },
          "showarrow": false,
          "text": "Experimental",
          "x": 0.5,
          "xanchor": "center",
          "xref": "paper",
          "y": 0.60625,
          "yanchor": "bottom",
          "yref": "paper"
         },
         {
          "font": {
           "size": 12
          },
          "showarrow": false,
          "text": "Rap",
          "x": 0.5,
          "xanchor": "center",
          "xref": "paper",
          "y": 0.475,
          "yanchor": "bottom",
          "yref": "paper"
         },
         {
          "font": {
           "size": 12
          },
          "showarrow": false,
          "text": "Folk",
          "x": 0.5,
          "xanchor": "center",
          "xref": "paper",
          "y": 0.34374999999999994,
          "yanchor": "bottom",
          "yref": "paper"
         },
         {
          "font": {
           "size": 12
          },
          "showarrow": false,
          "text": "Jazz",
          "x": 0.5,
          "xanchor": "center",
          "xref": "paper",
          "y": 0.21249999999999997,
          "yanchor": "bottom",
          "yref": "paper"
         },
         {
          "font": {
           "size": 12
          },
          "showarrow": false,
          "text": "Metal",
          "x": 0.5,
          "xanchor": "center",
          "xref": "paper",
          "y": 0.08124999999999999,
          "yanchor": "bottom",
          "yref": "paper"
         }
        ],
        "height": 2000,
        "showlegend": false,
        "template": {
         "data": {
          "bar": [
           {
            "error_x": {
             "color": "#2a3f5f"
            },
            "error_y": {
             "color": "#2a3f5f"
            },
            "marker": {
             "line": {
              "color": "#E5ECF6",
              "width": 0.5
             },
             "pattern": {
              "fillmode": "overlay",
              "size": 10,
              "solidity": 0.2
             }
            },
            "type": "bar"
           }
          ],
          "barpolar": [
           {
            "marker": {
             "line": {
              "color": "#E5ECF6",
              "width": 0.5
             },
             "pattern": {
              "fillmode": "overlay",
              "size": 10,
              "solidity": 0.2
             }
            },
            "type": "barpolar"
           }
          ],
          "carpet": [
           {
            "aaxis": {
             "endlinecolor": "#2a3f5f",
             "gridcolor": "white",
             "linecolor": "white",
             "minorgridcolor": "white",
             "startlinecolor": "#2a3f5f"
            },
            "baxis": {
             "endlinecolor": "#2a3f5f",
             "gridcolor": "white",
             "linecolor": "white",
             "minorgridcolor": "white",
             "startlinecolor": "#2a3f5f"
            },
            "type": "carpet"
           }
          ],
          "choropleth": [
           {
            "colorbar": {
             "outlinewidth": 0,
             "ticks": ""
            },
            "type": "choropleth"
           }
          ],
          "contour": [
           {
            "colorbar": {
             "outlinewidth": 0,
             "ticks": ""
            },
            "colorscale": [
             [
              0,
              "#0d0887"
             ],
             [
              0.1111111111111111,
              "#46039f"
             ],
             [
              0.2222222222222222,
              "#7201a8"
             ],
             [
              0.3333333333333333,
              "#9c179e"
             ],
             [
              0.4444444444444444,
              "#bd3786"
             ],
             [
              0.5555555555555556,
              "#d8576b"
             ],
             [
              0.6666666666666666,
              "#ed7953"
             ],
             [
              0.7777777777777778,
              "#fb9f3a"
             ],
             [
              0.8888888888888888,
              "#fdca26"
             ],
             [
              1,
              "#f0f921"
             ]
            ],
            "type": "contour"
           }
          ],
          "contourcarpet": [
           {
            "colorbar": {
             "outlinewidth": 0,
             "ticks": ""
            },
            "type": "contourcarpet"
           }
          ],
          "heatmap": [
           {
            "colorbar": {
             "outlinewidth": 0,
             "ticks": ""
            },
            "colorscale": [
             [
              0,
              "#0d0887"
             ],
             [
              0.1111111111111111,
              "#46039f"
             ],
             [
              0.2222222222222222,
              "#7201a8"
             ],
             [
              0.3333333333333333,
              "#9c179e"
             ],
             [
              0.4444444444444444,
              "#bd3786"
             ],
             [
              0.5555555555555556,
              "#d8576b"
             ],
             [
              0.6666666666666666,
              "#ed7953"
             ],
             [
              0.7777777777777778,
              "#fb9f3a"
             ],
             [
              0.8888888888888888,
              "#fdca26"
             ],
             [
              1,
              "#f0f921"
             ]
            ],
            "type": "heatmap"
           }
          ],
          "heatmapgl": [
           {
            "colorbar": {
             "outlinewidth": 0,
             "ticks": ""
            },
            "colorscale": [
             [
              0,
              "#0d0887"
             ],
             [
              0.1111111111111111,
              "#46039f"
             ],
             [
              0.2222222222222222,
              "#7201a8"
             ],
             [
              0.3333333333333333,
              "#9c179e"
             ],
             [
              0.4444444444444444,
              "#bd3786"
             ],
             [
              0.5555555555555556,
              "#d8576b"
             ],
             [
              0.6666666666666666,
              "#ed7953"
             ],
             [
              0.7777777777777778,
              "#fb9f3a"
             ],
             [
              0.8888888888888888,
              "#fdca26"
             ],
             [
              1,
              "#f0f921"
             ]
            ],
            "type": "heatmapgl"
           }
          ],
          "histogram": [
           {
            "marker": {
             "pattern": {
              "fillmode": "overlay",
              "size": 10,
              "solidity": 0.2
             }
            },
            "type": "histogram"
           }
          ],
          "histogram2d": [
           {
            "colorbar": {
             "outlinewidth": 0,
             "ticks": ""
            },
            "colorscale": [
             [
              0,
              "#0d0887"
             ],
             [
              0.1111111111111111,
              "#46039f"
             ],
             [
              0.2222222222222222,
              "#7201a8"
             ],
             [
              0.3333333333333333,
              "#9c179e"
             ],
             [
              0.4444444444444444,
              "#bd3786"
             ],
             [
              0.5555555555555556,
              "#d8576b"
             ],
             [
              0.6666666666666666,
              "#ed7953"
             ],
             [
              0.7777777777777778,
              "#fb9f3a"
             ],
             [
              0.8888888888888888,
              "#fdca26"
             ],
             [
              1,
              "#f0f921"
             ]
            ],
            "type": "histogram2d"
           }
          ],
          "histogram2dcontour": [
           {
            "colorbar": {
             "outlinewidth": 0,
             "ticks": ""
            },
            "colorscale": [
             [
              0,
              "#0d0887"
             ],
             [
              0.1111111111111111,
              "#46039f"
             ],
             [
              0.2222222222222222,
              "#7201a8"
             ],
             [
              0.3333333333333333,
              "#9c179e"
             ],
             [
              0.4444444444444444,
              "#bd3786"
             ],
             [
              0.5555555555555556,
              "#d8576b"
             ],
             [
              0.6666666666666666,
              "#ed7953"
             ],
             [
              0.7777777777777778,
              "#fb9f3a"
             ],
             [
              0.8888888888888888,
              "#fdca26"
             ],
             [
              1,
              "#f0f921"
             ]
            ],
            "type": "histogram2dcontour"
           }
          ],
          "mesh3d": [
           {
            "colorbar": {
             "outlinewidth": 0,
             "ticks": ""
            },
            "type": "mesh3d"
           }
          ],
          "parcoords": [
           {
            "line": {
             "colorbar": {
              "outlinewidth": 0,
              "ticks": ""
             }
            },
            "type": "parcoords"
           }
          ],
          "pie": [
           {
            "automargin": true,
            "type": "pie"
           }
          ],
          "scatter": [
           {
            "marker": {
             "colorbar": {
              "outlinewidth": 0,
              "ticks": ""
             }
            },
            "type": "scatter"
           }
          ],
          "scatter3d": [
           {
            "line": {
             "colorbar": {
              "outlinewidth": 0,
              "ticks": ""
             }
            },
            "marker": {
             "colorbar": {
              "outlinewidth": 0,
              "ticks": ""
             }
            },
            "type": "scatter3d"
           }
          ],
          "scattercarpet": [
           {
            "marker": {
             "colorbar": {
              "outlinewidth": 0,
              "ticks": ""
             }
            },
            "type": "scattercarpet"
           }
          ],
          "scattergeo": [
           {
            "marker": {
             "colorbar": {
              "outlinewidth": 0,
              "ticks": ""
             }
            },
            "type": "scattergeo"
           }
          ],
          "scattergl": [
           {
            "marker": {
             "colorbar": {
              "outlinewidth": 0,
              "ticks": ""
             }
            },
            "type": "scattergl"
           }
          ],
          "scattermapbox": [
           {
            "marker": {
             "colorbar": {
              "outlinewidth": 0,
              "ticks": ""
             }
            },
            "type": "scattermapbox"
           }
          ],
          "scatterpolar": [
           {
            "marker": {
             "colorbar": {
              "outlinewidth": 0,
              "ticks": ""
             }
            },
            "type": "scatterpolar"
           }
          ],
          "scatterpolargl": [
           {
            "marker": {
             "colorbar": {
              "outlinewidth": 0,
              "ticks": ""
             }
            },
            "type": "scatterpolargl"
           }
          ],
          "scatterternary": [
           {
            "marker": {
             "colorbar": {
              "outlinewidth": 0,
              "ticks": ""
             }
            },
            "type": "scatterternary"
           }
          ],
          "surface": [
           {
            "colorbar": {
             "outlinewidth": 0,
             "ticks": ""
            },
            "colorscale": [
             [
              0,
              "#0d0887"
             ],
             [
              0.1111111111111111,
              "#46039f"
             ],
             [
              0.2222222222222222,
              "#7201a8"
             ],
             [
              0.3333333333333333,
              "#9c179e"
             ],
             [
              0.4444444444444444,
              "#bd3786"
             ],
             [
              0.5555555555555556,
              "#d8576b"
             ],
             [
              0.6666666666666666,
              "#ed7953"
             ],
             [
              0.7777777777777778,
              "#fb9f3a"
             ],
             [
              0.8888888888888888,
              "#fdca26"
             ],
             [
              1,
              "#f0f921"
             ]
            ],
            "type": "surface"
           }
          ],
          "table": [
           {
            "cells": {
             "fill": {
              "color": "#EBF0F8"
             },
             "line": {
              "color": "white"
             }
            },
            "header": {
             "fill": {
              "color": "#C8D4E3"
             },
             "line": {
              "color": "white"
             }
            },
            "type": "table"
           }
          ]
         },
         "layout": {
          "annotationdefaults": {
           "arrowcolor": "#2a3f5f",
           "arrowhead": 0,
           "arrowwidth": 1
          },
          "autotypenumbers": "strict",
          "coloraxis": {
           "colorbar": {
            "outlinewidth": 0,
            "ticks": ""
           }
          },
          "colorscale": {
           "diverging": [
            [
             0,
             "#8e0152"
            ],
            [
             0.1,
             "#c51b7d"
            ],
            [
             0.2,
             "#de77ae"
            ],
            [
             0.3,
             "#f1b6da"
            ],
            [
             0.4,
             "#fde0ef"
            ],
            [
             0.5,
             "#f7f7f7"
            ],
            [
             0.6,
             "#e6f5d0"
            ],
            [
             0.7,
             "#b8e186"
            ],
            [
             0.8,
             "#7fbc41"
            ],
            [
             0.9,
             "#4d9221"
            ],
            [
             1,
             "#276419"
            ]
           ],
           "sequential": [
            [
             0,
             "#0d0887"
            ],
            [
             0.1111111111111111,
             "#46039f"
            ],
            [
             0.2222222222222222,
             "#7201a8"
            ],
            [
             0.3333333333333333,
             "#9c179e"
            ],
            [
             0.4444444444444444,
             "#bd3786"
            ],
            [
             0.5555555555555556,
             "#d8576b"
            ],
            [
             0.6666666666666666,
             "#ed7953"
            ],
            [
             0.7777777777777778,
             "#fb9f3a"
            ],
            [
             0.8888888888888888,
             "#fdca26"
            ],
            [
             1,
             "#f0f921"
            ]
           ],
           "sequentialminus": [
            [
             0,
             "#0d0887"
            ],
            [
             0.1111111111111111,
             "#46039f"
            ],
            [
             0.2222222222222222,
             "#7201a8"
            ],
            [
             0.3333333333333333,
             "#9c179e"
            ],
            [
             0.4444444444444444,
             "#bd3786"
            ],
            [
             0.5555555555555556,
             "#d8576b"
            ],
            [
             0.6666666666666666,
             "#ed7953"
            ],
            [
             0.7777777777777778,
             "#fb9f3a"
            ],
            [
             0.8888888888888888,
             "#fdca26"
            ],
            [
             1,
             "#f0f921"
            ]
           ]
          },
          "colorway": [
           "#636efa",
           "#EF553B",
           "#00cc96",
           "#ab63fa",
           "#FFA15A",
           "#19d3f3",
           "#FF6692",
           "#B6E880",
           "#FF97FF",
           "#FECB52"
          ],
          "font": {
           "color": "#2a3f5f"
          },
          "geo": {
           "bgcolor": "white",
           "lakecolor": "white",
           "landcolor": "#E5ECF6",
           "showlakes": true,
           "showland": true,
           "subunitcolor": "white"
          },
          "hoverlabel": {
           "align": "left"
          },
          "hovermode": "closest",
          "mapbox": {
           "style": "light"
          },
          "paper_bgcolor": "white",
          "plot_bgcolor": "#E5ECF6",
          "polar": {
           "angularaxis": {
            "gridcolor": "white",
            "linecolor": "white",
            "ticks": ""
           },
           "bgcolor": "#E5ECF6",
           "radialaxis": {
            "gridcolor": "white",
            "linecolor": "white",
            "ticks": ""
           }
          },
          "scene": {
           "xaxis": {
            "backgroundcolor": "#E5ECF6",
            "gridcolor": "white",
            "gridwidth": 2,
            "linecolor": "white",
            "showbackground": true,
            "ticks": "",
            "zerolinecolor": "white"
           },
           "yaxis": {
            "backgroundcolor": "#E5ECF6",
            "gridcolor": "white",
            "gridwidth": 2,
            "linecolor": "white",
            "showbackground": true,
            "ticks": "",
            "zerolinecolor": "white"
           },
           "zaxis": {
            "backgroundcolor": "#E5ECF6",
            "gridcolor": "white",
            "gridwidth": 2,
            "linecolor": "white",
            "showbackground": true,
            "ticks": "",
            "zerolinecolor": "white"
           }
          },
          "shapedefaults": {
           "line": {
            "color": "#2a3f5f"
           }
          },
          "ternary": {
           "aaxis": {
            "gridcolor": "white",
            "linecolor": "white",
            "ticks": ""
           },
           "baxis": {
            "gridcolor": "white",
            "linecolor": "white",
            "ticks": ""
           },
           "bgcolor": "#E5ECF6",
           "caxis": {
            "gridcolor": "white",
            "linecolor": "white",
            "ticks": ""
           }
          },
          "title": {
           "x": 0.05
          },
          "xaxis": {
           "automargin": true,
           "gridcolor": "white",
           "linecolor": "white",
           "ticks": "",
           "title": {
            "standoff": 15
           },
           "zerolinecolor": "white",
           "zerolinewidth": 2
          },
          "yaxis": {
           "automargin": true,
           "gridcolor": "white",
           "linecolor": "white",
           "ticks": "",
           "title": {
            "standoff": 15
           },
           "zerolinecolor": "white",
           "zerolinewidth": 2
          }
         }
        },
        "title": {
         "text": "Top Words by TF-IDF Score for Each Genre"
        },
        "width": 1000,
        "xaxis": {
         "anchor": "y",
         "domain": [
          0,
          1
         ],
         "tickangle": 45
        },
        "xaxis2": {
         "anchor": "y2",
         "domain": [
          0,
          1
         ],
         "tickangle": 45
        },
        "xaxis3": {
         "anchor": "y3",
         "domain": [
          0,
          1
         ],
         "tickangle": 45
        },
        "xaxis4": {
         "anchor": "y4",
         "domain": [
          0,
          1
         ],
         "tickangle": 45
        },
        "xaxis5": {
         "anchor": "y5",
         "domain": [
          0,
          1
         ],
         "tickangle": 45
        },
        "xaxis6": {
         "anchor": "y6",
         "domain": [
          0,
          1
         ],
         "tickangle": 45
        },
        "xaxis7": {
         "anchor": "y7",
         "domain": [
          0,
          1
         ],
         "tickangle": 45
        },
        "xaxis8": {
         "anchor": "y8",
         "domain": [
          0,
          1
         ],
         "tickangle": 45
        },
        "yaxis": {
         "anchor": "x",
         "domain": [
          0.91875,
          1
         ]
        },
        "yaxis2": {
         "anchor": "x2",
         "domain": [
          0.7875,
          0.8687499999999999
         ]
        },
        "yaxis3": {
         "anchor": "x3",
         "domain": [
          0.65625,
          0.7375
         ]
        },
        "yaxis4": {
         "anchor": "x4",
         "domain": [
          0.5249999999999999,
          0.60625
         ]
        },
        "yaxis5": {
         "anchor": "x5",
         "domain": [
          0.39375,
          0.475
         ]
        },
        "yaxis6": {
         "anchor": "x6",
         "domain": [
          0.26249999999999996,
          0.34374999999999994
         ]
        },
        "yaxis7": {
         "anchor": "x7",
         "domain": [
          0.13124999999999998,
          0.21249999999999997
         ]
        },
        "yaxis8": {
         "anchor": "x8",
         "domain": [
          0,
          0.08124999999999999
         ]
        }
       }
      },
      "text/html": [
       "<div>                            <div id=\"8e50dca0-15a5-4b23-af81-e34eae43d979\" class=\"plotly-graph-div\" style=\"height:2000px; width:1000px;\"></div>            <script type=\"text/javascript\">                require([\"plotly\"], function(Plotly) {                    window.PLOTLYENV=window.PLOTLYENV || {};                                    if (document.getElementById(\"8e50dca0-15a5-4b23-af81-e34eae43d979\")) {                    Plotly.newPlot(                        \"8e50dca0-15a5-4b23-af81-e34eae43d979\",                        [{\"name\":\"Electronic\",\"x\":[\"feel\",\"producer\",\"vocal\",\"drum\",\"club\",\"pop\",\"time\",\"beat\",\"first\",\"even\",\"techno\",\"dance\",\"guitar\",\"ambient\",\"voice\",\"year\",\"house\",\"electronic\",\"band\",\"debut\",\"might\",\"make\",\"work\",\"synths\",\"synth\",\"long\",\"take\",\"world\",\"rhythm\",\"much\",\"space\",\"back\",\"set\",\"yet\",\"melody\",\"across\"],\"y\":[3.818589796209124,3.7023832839476034,3.4953721590324087,3.423403316959108,3.3832663181394724,3.308755107681813,3.261842193258468,3.1216351511944733,3.0598103347147383,2.9953220507337748,2.9870742980632348,2.934373976748284,2.8965933084509503,2.8862924639541587,2.859773414667124,2.8286511380387083,2.799110649597438,2.766734219062349,2.7450098880901947,2.7222547390128846,2.6867513731693218,2.6864175530214705,2.6738794264089516,2.6294738528863157,2.607358377718173,2.604694262291409,2.574461701972204,2.536738212739085,2.524435113911092,2.52127421571564,2.496557459057553,2.4931522679293927,2.4573576886601485,2.41405098476928,2.4115274234333834,2.374032145499169],\"type\":\"scatter\",\"xaxis\":\"x\",\"yaxis\":\"y\"},{\"name\":\"Pop\",\"x\":[\"pop\",\"love\",\"voice\",\"time\",\"shes\",\"year\",\"vocal\",\"feel\",\"debut\",\"first\",\"singer\",\"producer\",\"even\",\"star\",\"make\",\"life\",\"way\",\"sings\",\"girl\",\"beat\",\"production\",\"guitar\",\"two\",\"take\",\"moment\",\"want\",\"also\",\"past\",\"back\",\"world\",\"something\",\"work\",\"single\",\"woman\",\"might\",\"lyric\"],\"y\":[4.762319965183439,3.4160129603223948,3.3753212039621543,3.338730380740367,3.2748877904217606,3.1101850691998667,3.079800167599735,2.994783933002285,2.9857620667013918,2.941686758185248,2.7308689420764525,2.5628943723131687,2.480153491220598,2.4637024896709576,2.410277896861029,2.3490245378543557,2.345862367326826,2.340486507249487,2.319899271770019,2.2841566117413143,2.2014857474111955,2.1911858645120237,2.179069875631799,2.1524074467093457,2.1228195756450976,2.1063391084464036,2.0918542675042393,2.0536624674055886,2.0494286234314822,2.030510189488999,1.9933109286097201,1.98232574817999,1.963026696503751,1.9458789805691858,1.9419869856054848,1.9231127017416723],\"type\":\"scatter\",\"xaxis\":\"x2\",\"yaxis\":\"y2\"},{\"name\":\"Rock\",\"x\":[\"band\",\"guitar\",\"rock\",\"time\",\"year\",\"first\",\"feel\",\"even\",\"love\",\"pop\",\"make\",\"life\",\"way\",\"group\",\"still\",\"get\",\"take\",\"also\",\"moment\",\"day\",\"vocal\",\"debut\",\"set\",\"two\",\"voice\",\"sings\",\"drum\",\"solo\",\"might\",\"live\",\"something\",\"melody\",\"lyric\",\"could\",\"much\",\"indie\",\"back\",\"around\"],\"y\":[11.145219930742151,6.717857384875672,5.920515045031608,5.365502629354054,5.231800752747598,4.963080138821006,4.9105423630160905,4.5533243687365,4.326484397635861,4.269561480732006,4.092244947645667,4.023700665179951,4.0168673720129675,3.9730172513609863,3.8718333751476472,3.838013654231388,3.764942243377072,3.74270055467854,3.696528824592446,3.683299934420241,3.6677447162205765,3.6495227750306096,3.632547453805333,3.6103493537557765,3.585763624238954,3.509973050019366,3.488614876048935,3.477729282352006,3.460122358584339,3.449232773121155,3.4463774809163263,3.382247721525169,3.3588374754693198,3.3402257389414847,3.3012040390169988,3.2931658019873775,3.2929505530231102,3.24025153490323],\"type\":\"scatter\",\"xaxis\":\"x3\",\"yaxis\":\"y3\"},{\"name\":\"Experimental\",\"x\":[\"feel\",\"time\",\"guitar\",\"year\",\"voice\",\"work\",\"band\",\"melody\",\"vocal\",\"first\",\"world\",\"ambient\",\"instrument\",\"pop\",\"life\",\"musician\",\"piano\",\"even\",\"debut\",\"composer\",\"moment\",\"make\",\"back\",\"something\",\"recording\",\"would\",\"take\",\"way\",\"two\",\"could\",\"piece\",\"across\",\"end\",\"come\",\"rock\",\"made\",\"experimental\",\"jazz\"],\"y\":[2.4316518637189986,2.302797596505437,2.273088926101215,2.152596655103828,2.11346704328751,2.0944867974237997,2.0660811600329616,1.9201364847177946,1.9016236869879624,1.8909654826099118,1.8406933473265799,1.8302344002245599,1.829486096599328,1.8208461435946757,1.7963571763782913,1.7839481552511343,1.7736745931018718,1.7139824973619053,1.6880231555206668,1.6611715872674224,1.6542039047618111,1.636122864844687,1.6324722368249165,1.6043204593739389,1.5908540339671116,1.5836082072922406,1.570433824073862,1.5663732225972749,1.5391507825475164,1.5024119726343246,1.4970508025682396,1.4706936669525272,1.4644641917728434,1.4642773647627554,1.4593924670861373,1.4566450300409035,1.445874935953937,1.4401709515946197],\"type\":\"scatter\",\"xaxis\":\"x4\",\"yaxis\":\"y4\"},{\"name\":\"Rap\",\"x\":[\"rap\",\"beat\",\"rapper\",\"feel\",\"make\",\"year\",\"time\",\"still\",\"get\",\"even\",\"life\",\"producer\",\"way\",\"work\",\"mike\",\"moment\",\"first\",\"last\",\"production\",\"much\",\"project\",\"could\",\"voice\",\"take\",\"sample\",\"love\",\"back\",\"drum\",\"two\",\"verse\",\"dont\",\"black\",\"say\",\"bar\",\"vocal\",\"flow\"],\"y\":[5.589617320456988,4.671477680613151,4.43604963660247,3.52667520746026,3.1310786264860035,3.1178868467187355,3.0240029487415985,3.0184638564202095,2.8588316848015287,2.8254007257777243,2.812782030778926,2.766921231116159,2.750434249970211,2.5628917952145907,2.4304689612005017,2.420707951115117,2.3976024090235617,2.363639774696303,2.3415856285142995,2.3348672853236963,2.3333119891708134,2.315507432116122,2.3082732238800188,2.306697215205506,2.2989250558171923,2.297498665452935,2.261591239100474,2.245913489481488,2.237391868586586,2.235351791283507,2.2169190050100362,2.2094234002679443,2.1965989049504384,2.177863809370134,2.1630036727266027,2.1489100145012183],\"type\":\"scatter\",\"xaxis\":\"x5\",\"yaxis\":\"y5\"},{\"name\":\"Folk\",\"x\":[\"country\",\"guitar\",\"folk\",\"time\",\"year\",\"way\",\"first\",\"love\",\"voice\",\"carter\",\"rock\",\"feel\",\"last\",\"make\",\"much\",\"two\",\"studio\",\"long\",\"light\",\"band\",\"work\",\"lyric\",\"sings\",\"never\",\"life\",\"debut\",\"moment\",\"instrument\",\"melody\",\"even\",\"acoustic\",\"something\",\"recording\",\"still\",\"thing\",\"also\",\"line\"],\"y\":[2.4976407479087017,2.2835356478980002,1.9076175440095189,1.8818443991237017,1.8131082319778227,1.7837384118554758,1.695382669607283,1.6625646908288985,1.652571812382826,1.5452048003000354,1.5440323821107695,1.4557366638750415,1.4490846280871847,1.3766594937182552,1.2939220053022975,1.2807338910664705,1.279419461640423,1.2594169988361463,1.2278500819561957,1.1872159713235664,1.1870586354892576,1.1869304457213812,1.1780977305604057,1.1767324349525081,1.1709791930065243,1.1663480069966685,1.1580648059863037,1.15307120149166,1.1493287564668082,1.1387986121065083,1.133468907776384,1.1012957606234681,1.0977977798501835,1.0975827523379371,1.0944051559082448,1.0916998939877796,1.0748954094778806],\"type\":\"scatter\",\"xaxis\":\"x6\",\"yaxis\":\"y6\"},{\"name\":\"Jazz\",\"x\":[\"jazz\",\"gendel\",\"score\",\"time\",\"take\",\"work\",\"piano\",\"two\",\"guitar\",\"feel\",\"saxophonist\",\"musician\",\"around\",\"first\",\"even\",\"solo\",\"instrument\",\"play\",\"make\",\"recorded\",\"moment\",\"bass\",\"recording\",\"get\",\"saxophone\",\"piece\",\"free\",\"live\",\"voice\",\"something\",\"playing\",\"player\",\"melody\",\"sander\",\"little\",\"band\",\"life\",\"decade\"],\"y\":[2.747130428831174,1.488231792481842,1.1957803743869577,1.1671095510545502,1.1480222487117224,1.1319173897011252,1.107859828523559,1.0573625704371474,1.0301220996269913,0.9983942278617883,0.9891035322413839,0.9883734891268648,0.9846658218350851,0.9813582230311981,0.9733171863880861,0.9731463235551969,0.9510721237782526,0.9387770680929477,0.9205528639506291,0.9048824321364158,0.89318546210184,0.8785399581544509,0.8739398625310364,0.8643092029363026,0.854531739931909,0.8477466551841462,0.8349718183919453,0.8284209618086128,0.8249642169927117,0.8150444357829763,0.8087117158256457,0.7833436887938833,0.7774595473340934,0.7679641095486681,0.765505784017109,0.7633950424098932,0.7618342621587625,0.7609481171789441],\"type\":\"scatter\",\"xaxis\":\"x7\",\"yaxis\":\"y7\"},{\"name\":\"Metal\",\"x\":[\"band\",\"metal\",\"death\",\"riff\",\"death metal\",\"everything\",\"guitar\",\"darkness\",\"first\",\"full\",\"another\",\"make\",\"rock\",\"nothing\",\"even\",\"lyric\",\"duo\",\"past\",\"year\",\"solo\",\"take\",\"thats\",\"something\",\"way\",\"feel\",\"could\",\"southern\",\"black\",\"two\",\"time\",\"also\",\"yet\",\"back\",\"find\",\"live\",\"return\",\"piece\",\"early\"],\"y\":[2.1918954412017517,1.86103915378915,1.0490787983668537,1.0283678366180993,0.9150218473073573,0.9122222632399085,0.9098369445498897,0.8553317531963909,0.7890318613674526,0.7491754147157382,0.7371729862428861,0.7260175272501088,0.7205551871419968,0.713276616525445,0.6874477905925644,0.6678624326875298,0.6497572087934652,0.6468808830572053,0.6448835255886574,0.6245617973316041,0.6157379089663582,0.6022871580009569,0.6018069471767741,0.6002573452176987,0.5906249125970875,0.5856475233151915,0.5841752401572157,0.5638318999730538,0.5498754970948962,0.5487793554823702,0.5338082146236176,0.5304269365464197,0.5284519028157633,0.5235106551741248,0.5195198598871184,0.5164439499107281,0.5121907598304933,0.4924013366367276],\"type\":\"scatter\",\"xaxis\":\"x8\",\"yaxis\":\"y8\"}],                        {\"template\":{\"data\":{\"bar\":[{\"error_x\":{\"color\":\"#2a3f5f\"},\"error_y\":{\"color\":\"#2a3f5f\"},\"marker\":{\"line\":{\"color\":\"#E5ECF6\",\"width\":0.5},\"pattern\":{\"fillmode\":\"overlay\",\"size\":10,\"solidity\":0.2}},\"type\":\"bar\"}],\"barpolar\":[{\"marker\":{\"line\":{\"color\":\"#E5ECF6\",\"width\":0.5},\"pattern\":{\"fillmode\":\"overlay\",\"size\":10,\"solidity\":0.2}},\"type\":\"barpolar\"}],\"carpet\":[{\"aaxis\":{\"endlinecolor\":\"#2a3f5f\",\"gridcolor\":\"white\",\"linecolor\":\"white\",\"minorgridcolor\":\"white\",\"startlinecolor\":\"#2a3f5f\"},\"baxis\":{\"endlinecolor\":\"#2a3f5f\",\"gridcolor\":\"white\",\"linecolor\":\"white\",\"minorgridcolor\":\"white\",\"startlinecolor\":\"#2a3f5f\"},\"type\":\"carpet\"}],\"choropleth\":[{\"colorbar\":{\"outlinewidth\":0,\"ticks\":\"\"},\"type\":\"choropleth\"}],\"contour\":[{\"colorbar\":{\"outlinewidth\":0,\"ticks\":\"\"},\"colorscale\":[[0.0,\"#0d0887\"],[0.1111111111111111,\"#46039f\"],[0.2222222222222222,\"#7201a8\"],[0.3333333333333333,\"#9c179e\"],[0.4444444444444444,\"#bd3786\"],[0.5555555555555556,\"#d8576b\"],[0.6666666666666666,\"#ed7953\"],[0.7777777777777778,\"#fb9f3a\"],[0.8888888888888888,\"#fdca26\"],[1.0,\"#f0f921\"]],\"type\":\"contour\"}],\"contourcarpet\":[{\"colorbar\":{\"outlinewidth\":0,\"ticks\":\"\"},\"type\":\"contourcarpet\"}],\"heatmap\":[{\"colorbar\":{\"outlinewidth\":0,\"ticks\":\"\"},\"colorscale\":[[0.0,\"#0d0887\"],[0.1111111111111111,\"#46039f\"],[0.2222222222222222,\"#7201a8\"],[0.3333333333333333,\"#9c179e\"],[0.4444444444444444,\"#bd3786\"],[0.5555555555555556,\"#d8576b\"],[0.6666666666666666,\"#ed7953\"],[0.7777777777777778,\"#fb9f3a\"],[0.8888888888888888,\"#fdca26\"],[1.0,\"#f0f921\"]],\"type\":\"heatmap\"}],\"heatmapgl\":[{\"colorbar\":{\"outlinewidth\":0,\"ticks\":\"\"},\"colorscale\":[[0.0,\"#0d0887\"],[0.1111111111111111,\"#46039f\"],[0.2222222222222222,\"#7201a8\"],[0.3333333333333333,\"#9c179e\"],[0.4444444444444444,\"#bd3786\"],[0.5555555555555556,\"#d8576b\"],[0.6666666666666666,\"#ed7953\"],[0.7777777777777778,\"#fb9f3a\"],[0.8888888888888888,\"#fdca26\"],[1.0,\"#f0f921\"]],\"type\":\"heatmapgl\"}],\"histogram\":[{\"marker\":{\"pattern\":{\"fillmode\":\"overlay\",\"size\":10,\"solidity\":0.2}},\"type\":\"histogram\"}],\"histogram2d\":[{\"colorbar\":{\"outlinewidth\":0,\"ticks\":\"\"},\"colorscale\":[[0.0,\"#0d0887\"],[0.1111111111111111,\"#46039f\"],[0.2222222222222222,\"#7201a8\"],[0.3333333333333333,\"#9c179e\"],[0.4444444444444444,\"#bd3786\"],[0.5555555555555556,\"#d8576b\"],[0.6666666666666666,\"#ed7953\"],[0.7777777777777778,\"#fb9f3a\"],[0.8888888888888888,\"#fdca26\"],[1.0,\"#f0f921\"]],\"type\":\"histogram2d\"}],\"histogram2dcontour\":[{\"colorbar\":{\"outlinewidth\":0,\"ticks\":\"\"},\"colorscale\":[[0.0,\"#0d0887\"],[0.1111111111111111,\"#46039f\"],[0.2222222222222222,\"#7201a8\"],[0.3333333333333333,\"#9c179e\"],[0.4444444444444444,\"#bd3786\"],[0.5555555555555556,\"#d8576b\"],[0.6666666666666666,\"#ed7953\"],[0.7777777777777778,\"#fb9f3a\"],[0.8888888888888888,\"#fdca26\"],[1.0,\"#f0f921\"]],\"type\":\"histogram2dcontour\"}],\"mesh3d\":[{\"colorbar\":{\"outlinewidth\":0,\"ticks\":\"\"},\"type\":\"mesh3d\"}],\"parcoords\":[{\"line\":{\"colorbar\":{\"outlinewidth\":0,\"ticks\":\"\"}},\"type\":\"parcoords\"}],\"pie\":[{\"automargin\":true,\"type\":\"pie\"}],\"scatter\":[{\"marker\":{\"colorbar\":{\"outlinewidth\":0,\"ticks\":\"\"}},\"type\":\"scatter\"}],\"scatter3d\":[{\"line\":{\"colorbar\":{\"outlinewidth\":0,\"ticks\":\"\"}},\"marker\":{\"colorbar\":{\"outlinewidth\":0,\"ticks\":\"\"}},\"type\":\"scatter3d\"}],\"scattercarpet\":[{\"marker\":{\"colorbar\":{\"outlinewidth\":0,\"ticks\":\"\"}},\"type\":\"scattercarpet\"}],\"scattergeo\":[{\"marker\":{\"colorbar\":{\"outlinewidth\":0,\"ticks\":\"\"}},\"type\":\"scattergeo\"}],\"scattergl\":[{\"marker\":{\"colorbar\":{\"outlinewidth\":0,\"ticks\":\"\"}},\"type\":\"scattergl\"}],\"scattermapbox\":[{\"marker\":{\"colorbar\":{\"outlinewidth\":0,\"ticks\":\"\"}},\"type\":\"scattermapbox\"}],\"scatterpolar\":[{\"marker\":{\"colorbar\":{\"outlinewidth\":0,\"ticks\":\"\"}},\"type\":\"scatterpolar\"}],\"scatterpolargl\":[{\"marker\":{\"colorbar\":{\"outlinewidth\":0,\"ticks\":\"\"}},\"type\":\"scatterpolargl\"}],\"scatterternary\":[{\"marker\":{\"colorbar\":{\"outlinewidth\":0,\"ticks\":\"\"}},\"type\":\"scatterternary\"}],\"surface\":[{\"colorbar\":{\"outlinewidth\":0,\"ticks\":\"\"},\"colorscale\":[[0.0,\"#0d0887\"],[0.1111111111111111,\"#46039f\"],[0.2222222222222222,\"#7201a8\"],[0.3333333333333333,\"#9c179e\"],[0.4444444444444444,\"#bd3786\"],[0.5555555555555556,\"#d8576b\"],[0.6666666666666666,\"#ed7953\"],[0.7777777777777778,\"#fb9f3a\"],[0.8888888888888888,\"#fdca26\"],[1.0,\"#f0f921\"]],\"type\":\"surface\"}],\"table\":[{\"cells\":{\"fill\":{\"color\":\"#EBF0F8\"},\"line\":{\"color\":\"white\"}},\"header\":{\"fill\":{\"color\":\"#C8D4E3\"},\"line\":{\"color\":\"white\"}},\"type\":\"table\"}]},\"layout\":{\"annotationdefaults\":{\"arrowcolor\":\"#2a3f5f\",\"arrowhead\":0,\"arrowwidth\":1},\"autotypenumbers\":\"strict\",\"coloraxis\":{\"colorbar\":{\"outlinewidth\":0,\"ticks\":\"\"}},\"colorscale\":{\"diverging\":[[0,\"#8e0152\"],[0.1,\"#c51b7d\"],[0.2,\"#de77ae\"],[0.3,\"#f1b6da\"],[0.4,\"#fde0ef\"],[0.5,\"#f7f7f7\"],[0.6,\"#e6f5d0\"],[0.7,\"#b8e186\"],[0.8,\"#7fbc41\"],[0.9,\"#4d9221\"],[1,\"#276419\"]],\"sequential\":[[0.0,\"#0d0887\"],[0.1111111111111111,\"#46039f\"],[0.2222222222222222,\"#7201a8\"],[0.3333333333333333,\"#9c179e\"],[0.4444444444444444,\"#bd3786\"],[0.5555555555555556,\"#d8576b\"],[0.6666666666666666,\"#ed7953\"],[0.7777777777777778,\"#fb9f3a\"],[0.8888888888888888,\"#fdca26\"],[1.0,\"#f0f921\"]],\"sequentialminus\":[[0.0,\"#0d0887\"],[0.1111111111111111,\"#46039f\"],[0.2222222222222222,\"#7201a8\"],[0.3333333333333333,\"#9c179e\"],[0.4444444444444444,\"#bd3786\"],[0.5555555555555556,\"#d8576b\"],[0.6666666666666666,\"#ed7953\"],[0.7777777777777778,\"#fb9f3a\"],[0.8888888888888888,\"#fdca26\"],[1.0,\"#f0f921\"]]},\"colorway\":[\"#636efa\",\"#EF553B\",\"#00cc96\",\"#ab63fa\",\"#FFA15A\",\"#19d3f3\",\"#FF6692\",\"#B6E880\",\"#FF97FF\",\"#FECB52\"],\"font\":{\"color\":\"#2a3f5f\"},\"geo\":{\"bgcolor\":\"white\",\"lakecolor\":\"white\",\"landcolor\":\"#E5ECF6\",\"showlakes\":true,\"showland\":true,\"subunitcolor\":\"white\"},\"hoverlabel\":{\"align\":\"left\"},\"hovermode\":\"closest\",\"mapbox\":{\"style\":\"light\"},\"paper_bgcolor\":\"white\",\"plot_bgcolor\":\"#E5ECF6\",\"polar\":{\"angularaxis\":{\"gridcolor\":\"white\",\"linecolor\":\"white\",\"ticks\":\"\"},\"bgcolor\":\"#E5ECF6\",\"radialaxis\":{\"gridcolor\":\"white\",\"linecolor\":\"white\",\"ticks\":\"\"}},\"scene\":{\"xaxis\":{\"backgroundcolor\":\"#E5ECF6\",\"gridcolor\":\"white\",\"gridwidth\":2,\"linecolor\":\"white\",\"showbackground\":true,\"ticks\":\"\",\"zerolinecolor\":\"white\"},\"yaxis\":{\"backgroundcolor\":\"#E5ECF6\",\"gridcolor\":\"white\",\"gridwidth\":2,\"linecolor\":\"white\",\"showbackground\":true,\"ticks\":\"\",\"zerolinecolor\":\"white\"},\"zaxis\":{\"backgroundcolor\":\"#E5ECF6\",\"gridcolor\":\"white\",\"gridwidth\":2,\"linecolor\":\"white\",\"showbackground\":true,\"ticks\":\"\",\"zerolinecolor\":\"white\"}},\"shapedefaults\":{\"line\":{\"color\":\"#2a3f5f\"}},\"ternary\":{\"aaxis\":{\"gridcolor\":\"white\",\"linecolor\":\"white\",\"ticks\":\"\"},\"baxis\":{\"gridcolor\":\"white\",\"linecolor\":\"white\",\"ticks\":\"\"},\"bgcolor\":\"#E5ECF6\",\"caxis\":{\"gridcolor\":\"white\",\"linecolor\":\"white\",\"ticks\":\"\"}},\"title\":{\"x\":0.05},\"xaxis\":{\"automargin\":true,\"gridcolor\":\"white\",\"linecolor\":\"white\",\"ticks\":\"\",\"title\":{\"standoff\":15},\"zerolinecolor\":\"white\",\"zerolinewidth\":2},\"yaxis\":{\"automargin\":true,\"gridcolor\":\"white\",\"linecolor\":\"white\",\"ticks\":\"\",\"title\":{\"standoff\":15},\"zerolinecolor\":\"white\",\"zerolinewidth\":2}}},\"xaxis\":{\"anchor\":\"y\",\"domain\":[0.0,1.0],\"tickangle\":45},\"yaxis\":{\"anchor\":\"x\",\"domain\":[0.91875,1.0]},\"xaxis2\":{\"anchor\":\"y2\",\"domain\":[0.0,1.0],\"tickangle\":45},\"yaxis2\":{\"anchor\":\"x2\",\"domain\":[0.7875,0.8687499999999999]},\"xaxis3\":{\"anchor\":\"y3\",\"domain\":[0.0,1.0],\"tickangle\":45},\"yaxis3\":{\"anchor\":\"x3\",\"domain\":[0.65625,0.7375]},\"xaxis4\":{\"anchor\":\"y4\",\"domain\":[0.0,1.0],\"tickangle\":45},\"yaxis4\":{\"anchor\":\"x4\",\"domain\":[0.5249999999999999,0.60625]},\"xaxis5\":{\"anchor\":\"y5\",\"domain\":[0.0,1.0],\"tickangle\":45},\"yaxis5\":{\"anchor\":\"x5\",\"domain\":[0.39375,0.475]},\"xaxis6\":{\"anchor\":\"y6\",\"domain\":[0.0,1.0],\"tickangle\":45},\"yaxis6\":{\"anchor\":\"x6\",\"domain\":[0.26249999999999996,0.34374999999999994]},\"xaxis7\":{\"anchor\":\"y7\",\"domain\":[0.0,1.0],\"tickangle\":45},\"yaxis7\":{\"anchor\":\"x7\",\"domain\":[0.13124999999999998,0.21249999999999997]},\"xaxis8\":{\"anchor\":\"y8\",\"domain\":[0.0,1.0],\"tickangle\":45},\"yaxis8\":{\"anchor\":\"x8\",\"domain\":[0.0,0.08124999999999999]},\"annotations\":[{\"font\":{\"size\":12},\"showarrow\":false,\"text\":\"Electronic\",\"x\":0.5,\"xanchor\":\"center\",\"xref\":\"paper\",\"y\":1.0,\"yanchor\":\"bottom\",\"yref\":\"paper\"},{\"font\":{\"size\":12},\"showarrow\":false,\"text\":\"Pop\",\"x\":0.5,\"xanchor\":\"center\",\"xref\":\"paper\",\"y\":0.8687499999999999,\"yanchor\":\"bottom\",\"yref\":\"paper\"},{\"font\":{\"size\":12},\"showarrow\":false,\"text\":\"Rock\",\"x\":0.5,\"xanchor\":\"center\",\"xref\":\"paper\",\"y\":0.7375,\"yanchor\":\"bottom\",\"yref\":\"paper\"},{\"font\":{\"size\":12},\"showarrow\":false,\"text\":\"Experimental\",\"x\":0.5,\"xanchor\":\"center\",\"xref\":\"paper\",\"y\":0.60625,\"yanchor\":\"bottom\",\"yref\":\"paper\"},{\"font\":{\"size\":12},\"showarrow\":false,\"text\":\"Rap\",\"x\":0.5,\"xanchor\":\"center\",\"xref\":\"paper\",\"y\":0.475,\"yanchor\":\"bottom\",\"yref\":\"paper\"},{\"font\":{\"size\":12},\"showarrow\":false,\"text\":\"Folk\",\"x\":0.5,\"xanchor\":\"center\",\"xref\":\"paper\",\"y\":0.34374999999999994,\"yanchor\":\"bottom\",\"yref\":\"paper\"},{\"font\":{\"size\":12},\"showarrow\":false,\"text\":\"Jazz\",\"x\":0.5,\"xanchor\":\"center\",\"xref\":\"paper\",\"y\":0.21249999999999997,\"yanchor\":\"bottom\",\"yref\":\"paper\"},{\"font\":{\"size\":12},\"showarrow\":false,\"text\":\"Metal\",\"x\":0.5,\"xanchor\":\"center\",\"xref\":\"paper\",\"y\":0.08124999999999999,\"yanchor\":\"bottom\",\"yref\":\"paper\"}],\"title\":{\"text\":\"Top Words by TF-IDF Score for Each Genre\"},\"height\":2000,\"width\":1000,\"showlegend\":false},                        {\"responsive\": true}                    ).then(function(){\n",
       "                            \n",
       "var gd = document.getElementById('8e50dca0-15a5-4b23-af81-e34eae43d979');\n",
       "var x = new MutationObserver(function (mutations, observer) {{\n",
       "        var display = window.getComputedStyle(gd).display;\n",
       "        if (!display || display === 'none') {{\n",
       "            console.log([gd, 'removed!']);\n",
       "            Plotly.purge(gd);\n",
       "            observer.disconnect();\n",
       "        }}\n",
       "}});\n",
       "\n",
       "// Listen for the removal of the full notebook cells\n",
       "var notebookContainer = gd.closest('#notebook-container');\n",
       "if (notebookContainer) {{\n",
       "    x.observe(notebookContainer, {childList: true});\n",
       "}}\n",
       "\n",
       "// Listen for the clearing of the current output cell\n",
       "var outputEl = gd.closest('.output');\n",
       "if (outputEl) {{\n",
       "    x.observe(outputEl, {childList: true});\n",
       "}}\n",
       "\n",
       "                        })                };                });            </script>        </div>"
      ]
     },
     "metadata": {},
     "output_type": "display_data"
    }
   ],
   "source": [
    "# create visualisation\n",
    "genres = [\"Electronic\", \"Pop\", \"Rock\", \"Experimental\", \"Rap\", \"Folk\", \"Jazz\", \"Metal\"]\n",
    "\n",
    "fig = make_subplots(rows=len(genres), cols=1, shared_yaxes=True, subplot_titles=genres, vertical_spacing = 0.05)\n",
    "\n",
    "for i, genre in enumerate(genres):\n",
    "    genre_df = important_words_by_genre[genre]  # This assumes each genre's words & scores are in a dictionary\n",
    "    genre_df = genre_df[genre_df['word'].apply(lambda x: len(x) > 2)]\n",
    "    fig.add_trace(go.Scatter(x=genre_df['word'], y=genre_df['tfidf_score'], name=genre), row=i+1, col=1)\n",
    "\n",
    "fig.update_annotations(font_size=12)\n",
    "fig.update_xaxes(tickangle=45)  \n",
    "\n",
    "fig.update_layout(height=2000, width=1000, title_text=\"Top Words by TF-IDF Score for Each Genre\", showlegend=False)\n",
    "\n",
    "fig.show()"
   ]
  },
  {
   "cell_type": "code",
   "execution_count": 31,
   "id": "5983583d",
   "metadata": {},
   "outputs": [],
   "source": [
    "# add genre tags\n",
    "pop['genre']= 'pop'\n",
    "electronic['genre']='electronic'\n",
    "rock['genre']= 'rock'\n",
    "experimental['genre']= 'experimental'\n",
    "rap['genre']= 'rap'\n",
    "folk['genre']= 'folk'\n",
    "jazz['genre']= 'jazz'\n",
    "metal['genre']= 'metal'\n",
    "\n",
    "# combine into single dataframe\n",
    "data_frames = [electronic, pop, rock, experimental, rap, folk, jazz, metal]\n",
    "full_tfidf = pd.concat(data_frames).reset_index()\n",
    "full_tfidf = full_tfidf.iloc[:,1:]\n",
    "\n",
    "# save output\n",
    "full_tfidf.to_csv('/Users/simoncrouch/Desktop/analysis_data.csv', index=False)"
   ]
  },
  {
   "cell_type": "markdown",
   "id": "dfc99175",
   "metadata": {},
   "source": [
    "### 2B. Findings\n",
    "\n",
    "My analysis of TF-IDF scores across different music genres reveals the presence of genre-specific vocabularly with significant variations in the language used. The distribution of the TF-IDF scores provide insight into how distinctive and specialized the language is within each genre's reviews.\n",
    "\n",
    "Rock music displayed the highest genre-specific vocabularly followed by rap, with metal displaying the lowest, though this is likely explained by the dataset for Metal being particularly small. \n",
    "\n",
    "Rock, folk, electronic and jazz reviews all had a strong focus on the instruments used with rock and folk focusing on 'guitar', electronic music on 'producer' and 'synth' and jazz on 'saxophone' and 'piano'. \n",
    "\n",
    "Pop was found to centre around the identity of the artist with words such as 'girl', 'singer', 'vocal', and 'star' dominating the pop genre, while rap focused on the performers lyrics and delivery emphasising 'flow', 'verse' and 'bar'. \n",
    "\n",
    "Upon initially conducting this analysis, several terms such as 'album', 'music', 'song' and 'artist' were found to be common across all genres due to them being universal terms used to describe music and so were removed from the dataset to reduce noise and promote genre specific terminology. "
   ]
  },
  {
   "cell_type": "markdown",
   "id": "1432f288",
   "metadata": {},
   "source": [
    "## 3. Text Classification\n",
    "\n",
    "The distinctive vocabulary used within each genre suggests these words can serve as reliable predictors in genre classification models. In this section, I will be using this data to train and test models on their ability to correctly predict an album's genre based on its review."
   ]
  },
  {
   "cell_type": "markdown",
   "id": "c44bbe11",
   "metadata": {},
   "source": [
    "### Random Forest Classifier\n",
    "Here I fit a Random Forest Classifier with the vectorizer being applied to the entire corpus in a single action"
   ]
  },
  {
   "cell_type": "code",
   "execution_count": 37,
   "id": "4c256de9",
   "metadata": {
    "scrolled": false
   },
   "outputs": [],
   "source": [
    "# vectorize entire body of text\n",
    "X = vectorizer.fit_transform(df['Text'])\n",
    "feature_names = vectorizer.get_feature_names_out()\n",
    "# Create a DataFrame to hold the TF-IDF scores\n",
    "tfidf_df = pd.DataFrame(X.toarray(), columns=feature_names)\n",
    "# add target column to tf-idf dataframe\n",
    "tfidf_df['Genre'] = df['Genre'].values"
   ]
  },
  {
   "cell_type": "code",
   "execution_count": 46,
   "id": "6fefd5e1",
   "metadata": {},
   "outputs": [],
   "source": [
    "# assign feature columns (TF-IDF scores)\n",
    "X = tfidf_df.drop(columns=['Genre'])\n",
    "# assign target column (Genre)\n",
    "y = tfidf_df['Genre']\n",
    "\n",
    "# encode genre labels\n",
    "le = LabelEncoder()\n",
    "y_encoded = le.fit_transform(y)\n",
    "\n",
    "# split data for training and testing\n",
    "X_train, X_test, y_train, y_test = train_test_split(X, y, test_size=0.2, random_state=12, stratify=y_encoded)"
   ]
  },
  {
   "cell_type": "code",
   "execution_count": 47,
   "id": "fc608a07",
   "metadata": {},
   "outputs": [],
   "source": [
    "# fit training data to model\n",
    "model = RandomForestClassifier()\n",
    "model.fit(X_train, y_train)\n",
    "# make predictions\n",
    "y_pred = model.predict(X_test)"
   ]
  },
  {
   "cell_type": "code",
   "execution_count": 48,
   "id": "344db620",
   "metadata": {
    "scrolled": true
   },
   "outputs": [
    {
     "name": "stdout",
     "output_type": "stream",
     "text": [
      "Classification Report - Random Forest Classifier:\n",
      "              precision    recall  f1-score   support\n",
      "\n",
      "  Electronic       0.67      0.57      0.62        28\n",
      "         Pop       0.50      0.07      0.12        15\n",
      "        Rock       0.00      0.00      0.00        10\n",
      "Experimental       0.00      0.00      0.00         6\n",
      "         Rap       0.00      0.00      0.00         2\n",
      "        Folk       0.57      0.17      0.26        24\n",
      "        Jazz       0.95      0.77      0.85        26\n",
      "       Metal       0.46      1.00      0.63        48\n",
      "\n",
      "    accuracy                           0.56       159\n",
      "   macro avg       0.39      0.32      0.31       159\n",
      "weighted avg       0.54      0.56      0.49       159\n",
      "\n"
     ]
    },
    {
     "name": "stderr",
     "output_type": "stream",
     "text": [
      "/Users/simoncrouch/opt/anaconda3/lib/python3.9/site-packages/sklearn/metrics/_classification.py:1318: UndefinedMetricWarning:\n",
      "\n",
      "Precision and F-score are ill-defined and being set to 0.0 in labels with no predicted samples. Use `zero_division` parameter to control this behavior.\n",
      "\n",
      "/Users/simoncrouch/opt/anaconda3/lib/python3.9/site-packages/sklearn/metrics/_classification.py:1318: UndefinedMetricWarning:\n",
      "\n",
      "Precision and F-score are ill-defined and being set to 0.0 in labels with no predicted samples. Use `zero_division` parameter to control this behavior.\n",
      "\n",
      "/Users/simoncrouch/opt/anaconda3/lib/python3.9/site-packages/sklearn/metrics/_classification.py:1318: UndefinedMetricWarning:\n",
      "\n",
      "Precision and F-score are ill-defined and being set to 0.0 in labels with no predicted samples. Use `zero_division` parameter to control this behavior.\n",
      "\n"
     ]
    }
   ],
   "source": [
    "# print evaluation metrics\n",
    "print(\"Classification Report - Random Forest Classifier:\")\n",
    "print(classification_report(y_test, y_pred, \n",
    "                            target_names=tfidf_df['Genre'].unique()))"
   ]
  },
  {
   "cell_type": "markdown",
   "id": "08ebc37b",
   "metadata": {},
   "source": [
    "Our Random Forest Classifier model has an initial accuracy of 56%"
   ]
  },
  {
   "cell_type": "markdown",
   "id": "8db42cad",
   "metadata": {},
   "source": [
    "### Naive Bayes Classifier\n",
    "Here I fit a Naive Bayes Classifier with the vectorizer being applied to the entire corpus in a single action. I am using the ComplementNB model due to the imbalanced dataset."
   ]
  },
  {
   "cell_type": "code",
   "execution_count": 50,
   "id": "add5f23c",
   "metadata": {
    "scrolled": true
   },
   "outputs": [
    {
     "name": "stdout",
     "output_type": "stream",
     "text": [
      "Classification Report - ComplementNB:\n",
      "              precision    recall  f1-score   support\n",
      "\n",
      "  Electronic       0.64      0.50      0.56        28\n",
      "Experimental       0.00      0.00      0.00        15\n",
      "        Folk       1.00      0.10      0.18        10\n",
      "        Jazz       1.00      0.17      0.29         6\n",
      "       Metal       0.00      0.00      0.00         2\n",
      "         Pop       0.80      0.33      0.47        24\n",
      "         Rap       0.91      0.81      0.86        26\n",
      "        Rock       0.46      0.98      0.63        48\n",
      "\n",
      "    accuracy                           0.58       159\n",
      "   macro avg       0.60      0.36      0.37       159\n",
      "weighted avg       0.62      0.58      0.52       159\n",
      "\n"
     ]
    },
    {
     "name": "stderr",
     "output_type": "stream",
     "text": [
      "/Users/simoncrouch/opt/anaconda3/lib/python3.9/site-packages/sklearn/metrics/_classification.py:1318: UndefinedMetricWarning:\n",
      "\n",
      "Precision and F-score are ill-defined and being set to 0.0 in labels with no predicted samples. Use `zero_division` parameter to control this behavior.\n",
      "\n",
      "/Users/simoncrouch/opt/anaconda3/lib/python3.9/site-packages/sklearn/metrics/_classification.py:1318: UndefinedMetricWarning:\n",
      "\n",
      "Precision and F-score are ill-defined and being set to 0.0 in labels with no predicted samples. Use `zero_division` parameter to control this behavior.\n",
      "\n",
      "/Users/simoncrouch/opt/anaconda3/lib/python3.9/site-packages/sklearn/metrics/_classification.py:1318: UndefinedMetricWarning:\n",
      "\n",
      "Precision and F-score are ill-defined and being set to 0.0 in labels with no predicted samples. Use `zero_division` parameter to control this behavior.\n",
      "\n"
     ]
    }
   ],
   "source": [
    "# We are using the same data as the previous model so don't need to re-vectorize \n",
    "# or split into training and testing groups\n",
    "\n",
    "# Train the classifier\n",
    "clf = ComplementNB()\n",
    "clf.fit(X_train, y_train)\n",
    "    \n",
    "# Make predictions\n",
    "y_pred = clf.predict(X_test)\n",
    "    \n",
    "# Print evaluation metrics\n",
    "print(\"Classification Report - ComplementNB:\")\n",
    "print(classification_report(y_test, y_pred, \n",
    "                            target_names=le.classes_))"
   ]
  },
  {
   "cell_type": "markdown",
   "id": "3a4b646c",
   "metadata": {},
   "source": [
    "Our Naive Bayes Classifier has an initial accuracy of 58%\n",
    "\n",
    "### Naive Bayes Classifier - Model 2\n",
    "\n",
    "I will now train a new ComplementNB model using the approach I took in our NLP analysis. This is where the data is vectorised one genre at a time, improving the algorithm's ability to identify key terminology."
   ]
  },
  {
   "cell_type": "code",
   "execution_count": 56,
   "id": "2891c474",
   "metadata": {},
   "outputs": [],
   "source": [
    "# Create an empty list to hold each genre's TF-IDF DataFrame\n",
    "tfidf_dfs = []\n",
    "\n",
    "for genre in df['Genre'].unique():\n",
    "    # Filter text by genre\n",
    "    genre_text = df[df['Genre'] == genre]['Text']\n",
    "    # Fit and transform the vectorizer on this genre's text data\n",
    "    X_genre_tfidf = vectorizer.fit_transform(genre_text)\n",
    "    feature_names = vectorizer.get_feature_names_out()\n",
    "    # remove words less than two characters\n",
    "    feature_names = [word for word in feature_names if len(word) > 2]\n",
    "    # Create a DataFrame with TF-IDF scores and add the genre as a column\n",
    "    genre_tfidf_df = pd.DataFrame(X_genre_tfidf.toarray(), columns=vectorizer.get_feature_names_out())\n",
    "    genre_tfidf_df = genre_tfidf_df[feature_names]\n",
    "    genre_tfidf_df['Genre'] = genre  # Add genre label as a new column\n",
    "    # Append to the list\n",
    "    tfidf_dfs.append(genre_tfidf_df)\n",
    "\n",
    "# Concatenate all genre-specific TF-IDF DataFrames into one\n",
    "combined_tfidf_df = pd.concat(tfidf_dfs, ignore_index=True)\n",
    "# Due to different word lists between genres the dataframe contains NaN values which must be converted to 0s\n",
    "combined_tfidf_df = combined_tfidf_df.fillna(0)\n"
   ]
  },
  {
   "cell_type": "code",
   "execution_count": 57,
   "id": "396f86c1",
   "metadata": {
    "scrolled": true
   },
   "outputs": [
    {
     "name": "stdout",
     "output_type": "stream",
     "text": [
      "Classification Report - Naive Bayes trained by genre:\n",
      "              precision    recall  f1-score   support\n",
      "\n",
      "  Electronic       0.93      0.89      0.91        28\n",
      "Experimental       1.00      0.73      0.85        15\n",
      "        Folk       1.00      0.20      0.33        10\n",
      "        Jazz       1.00      0.67      0.80         6\n",
      "       Metal       0.00      0.00      0.00         2\n",
      "         Pop       0.96      0.92      0.94        24\n",
      "         Rap       1.00      0.96      0.98        26\n",
      "        Rock       0.70      0.98      0.82        48\n",
      "\n",
      "    accuracy                           0.86       159\n",
      "   macro avg       0.82      0.67      0.70       159\n",
      "weighted avg       0.88      0.86      0.84       159\n",
      "\n"
     ]
    },
    {
     "name": "stderr",
     "output_type": "stream",
     "text": [
      "/Users/simoncrouch/opt/anaconda3/lib/python3.9/site-packages/sklearn/metrics/_classification.py:1318: UndefinedMetricWarning:\n",
      "\n",
      "Precision and F-score are ill-defined and being set to 0.0 in labels with no predicted samples. Use `zero_division` parameter to control this behavior.\n",
      "\n",
      "/Users/simoncrouch/opt/anaconda3/lib/python3.9/site-packages/sklearn/metrics/_classification.py:1318: UndefinedMetricWarning:\n",
      "\n",
      "Precision and F-score are ill-defined and being set to 0.0 in labels with no predicted samples. Use `zero_division` parameter to control this behavior.\n",
      "\n",
      "/Users/simoncrouch/opt/anaconda3/lib/python3.9/site-packages/sklearn/metrics/_classification.py:1318: UndefinedMetricWarning:\n",
      "\n",
      "Precision and F-score are ill-defined and being set to 0.0 in labels with no predicted samples. Use `zero_division` parameter to control this behavior.\n",
      "\n"
     ]
    }
   ],
   "source": [
    "# assign feature columns (TF-IDF scores)\n",
    "X = combined_tfidf_df.drop(columns=['Genre'])\n",
    "# assign target column (genre)\n",
    "y = combined_tfidf_df['Genre']                \n",
    "\n",
    "# Encode genre labels\n",
    "le = LabelEncoder()\n",
    "y_encoded = le.fit_transform(y)\n",
    "\n",
    "# Split the data\n",
    "X_train, X_test, y_train, y_test = train_test_split(\n",
    "    X, y_encoded, \n",
    "    test_size=0.2, \n",
    "    random_state=12,\n",
    "    stratify=y_encoded  # Maintain genre distribution in train/test sets\n",
    ")\n",
    "    \n",
    "# Train the classifier\n",
    "clf = ComplementNB()\n",
    "clf.fit(X_train, y_train)\n",
    "    \n",
    "# Make predictions\n",
    "y_pred = clf.predict(X_test)\n",
    "    \n",
    "# Print evaluation metrics\n",
    "print(\"Classification Report - Naive Bayes trained by genre:\")\n",
    "print(classification_report(y_test, y_pred, \n",
    "                            target_names=le.classes_))"
   ]
  },
  {
   "cell_type": "markdown",
   "id": "93d0dd36",
   "metadata": {},
   "source": [
    "By vectorising our corpus by genre, this version of the Naive Bayes Classifier has an improved model accuracy of 86%"
   ]
  },
  {
   "cell_type": "markdown",
   "id": "4e4838d2",
   "metadata": {},
   "source": [
    "## 3B. Conclusion\n",
    "\n",
    "Having demonstrated that album reviews are comprised of genre specific language, I have applied multiple machine learning approaches to train models to classify an album's genre based upon its written review.\n",
    "\n",
    "The genre-specific TF-IDF vectorization provided the best results with a Naive Bayes classifier, achieving an 86% overall accuracy. Though TF-IDF is usualy applied across the entire corpus, this method suggests that separating the text by genre prior to vectorizing enhances its ability to capture these difference. Model accuracy varied significantly across genres, with high performance in \"Electronic,\" \"Pop,\" and \"Rap,\" but lower success in other such as \"Folk\" and \"Experimental\". This likely reflects both the limited data available for these genres and the more nuanced or ambiguous language often found in their descriptions.\n",
    "\n",
    "Future improvements could focus on gathering additional data to balance classes, which would help the model generalize better across all genres and support testing with other Naive Bayes variants. Using GridSearch for hyperparameter tuning would also allow for optimizing the model’s performance while balancing accuracy and runtime. Lastly, expanding the dataset to include reviews from other sources could provide insights into how consistent genre prediction remains across different review styles and vocabularies. Finally, it would be interesting to apply the model to album reviews sourced from other websites to view how consistent the language used is between publications."
   ]
  }
 ],
 "metadata": {
  "kernelspec": {
   "display_name": "Python 3 (ipykernel)",
   "language": "python",
   "name": "python3"
  },
  "language_info": {
   "codemirror_mode": {
    "name": "ipython",
    "version": 3
   },
   "file_extension": ".py",
   "mimetype": "text/x-python",
   "name": "python",
   "nbconvert_exporter": "python",
   "pygments_lexer": "ipython3",
   "version": "3.9.12"
  }
 },
 "nbformat": 4,
 "nbformat_minor": 5
}
