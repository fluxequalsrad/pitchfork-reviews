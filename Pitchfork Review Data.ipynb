{
 "cells": [
  {
   "cell_type": "markdown",
   "id": "20eaaf8d",
   "metadata": {},
   "source": [
    "# Natural Language Processing - Pitchfork Music Reviews\n",
    "\n",
    "I will be using NLP techniques, both regression and classification, to see if music reviews can be used to determine the review score or music genre. Before starting this I need to build a web scraper to obtain the required data."
   ]
  },
  {
   "cell_type": "markdown",
   "id": "932a04e1",
   "metadata": {},
   "source": [
    "### Pitchfork Webscraper Build"
   ]
  },
  {
   "cell_type": "code",
   "execution_count": 46,
   "id": "4272cd70",
   "metadata": {},
   "outputs": [],
   "source": [
    "import requests\n",
    "import random\n",
    "from bs4 import BeautifulSoup\n",
    "import pandas as pd\n",
    "import re\n",
    "import time\n",
    "\n",
    "\n",
    "# list of user agents to resolve 403 forbidden error\n",
    "userAgents = ['Mozilla/5.0 (Macintosh; Intel Mac OS X 10_15_7) AppleWebKit/605.1.15 (KHTML, like Gecko) Version/16.6 Safari/605.1.1',\n",
    "              'Mozilla/5.0 (Macintosh; Intel Mac OS X 10_15_7) AppleWebKit/605.1.15 (KHTML, like Gecko) Version/17.2.1 Safari/605.1.1',\n",
    "              'Mozilla/5.0 (Macintosh; Intel Mac OS X 10_15_7) AppleWebKit/605.1.15 (KHTML, like Gecko) Version/16.3 Safari/605.1.1',\n",
    "              'Mozilla/5.0 (Windows NT 10.0; Win64; x64) AppleWebKit/537.36 (KHTML, like Gecko) Chrome/120.0.0.0 Safari/537.3',\n",
    "              'Mozilla/5.0 (Windows NT 10.0; Win64; x64) AppleWebKit/537.36 (KHTML, like Gecko) Chrome/109.0.0.0 Safari/537.3']\n",
    "\n",
    "# Function to clean and extract the desired text from the <a> and <em> tags located in the review_text\n",
    "def extract_text(soup):\n",
    "    for a_tag in soup.find_all('a'):\n",
    "        if a_tag.find('em'):\n",
    "            # Replace <a> with its <em> content\n",
    "            a_tag.replace_with(a_tag.em.text)\n",
    "        else:\n",
    "            # Remove the entire <a> tag but keep its text content\n",
    "            a_tag.unwrap()\n",
    "\n",
    "    return soup.get_text()\n",
    "\n",
    "\n",
    "# function to extract review data from each url\n",
    "def extract_review_data(url):\n",
    "    html_data = requests.get(url, headers={'User-Agent': random.choice(userAgents)})\n",
    "    # create beautifulsoup object\n",
    "    soup = BeautifulSoup(html_data.content, \"html.parser\")\n",
    "    \n",
    "    # Find relevant review elements\n",
    "    intro_text = soup.find_all(\"div\", class_=\"BaseWrap-sc-gjQpdd BaseText-ewhhUZ SplitScreenContentHeaderDekDown-csTFQR iUEiRd esultD MVQMg\")\n",
    "    review_text = soup.find_all(\"div\", class_=\"body__inner-container\")\n",
    "    genre = soup.find_all(\"p\", class_=\"BaseWrap-sc-gjQpdd BaseText-ewhhUZ InfoSliceValue-tfmqg iUEiRd gpUuZE fkSlPp\")\n",
    "    #score_element = soup.find_all(\"div\", class_=\"ScoreCircle-jAxRuP akdGf\")\n",
    "    score_element = soup.find_all(\"div\", class_=re.compile(r\"^ScoreCircle-\"))\n",
    "    \n",
    "    # Clean the intro and review body text\n",
    "    cleaned_intro = extract_text(intro_text[0]) if intro_text else \"N/A\"\n",
    "    cleaned_review = extract_text(review_text[0]) if review_text else \"N/A\"\n",
    "    cleaned_genre = genre[0].get_text().strip() if genre else \"N/A\"\n",
    "    cleaned_score = score_element[0].find(\"p\").get_text().strip() if score_element else \"N/A\"\n",
    "    \n",
    "    # Return the collected data\n",
    "    return {\n",
    "        \"Text\": cleaned_intro + cleaned_review,\n",
    "        \"Genre\": cleaned_genre,\n",
    "        \"Score\": cleaned_score\n",
    "    }"
   ]
  },
  {
   "cell_type": "code",
   "execution_count": null,
   "id": "ae77fa9c",
   "metadata": {},
   "outputs": [],
   "source": [
    "# Prepare an empty list to store the extracted data\n",
    "data = []"
   ]
  },
  {
   "cell_type": "code",
   "execution_count": 48,
   "id": "e1f6c40d",
   "metadata": {},
   "outputs": [],
   "source": [
    "# define urls\n",
    "urls = [\"https://pitchfork.com/reviews/albums/how-to-dress-well-i-am-toward-you/\", \"https://pitchfork.com/reviews/albums/lou-reed-the-blue-mask/\", \n",
    "        \"https://pitchfork.com/reviews/albums/cloud-nothings-final-summer/\"]"
   ]
  },
  {
   "cell_type": "code",
   "execution_count": 49,
   "id": "cc6bb6f0",
   "metadata": {},
   "outputs": [],
   "source": [
    "# Loop over each URL and extract the review data\n",
    "for url in urls:\n",
    "    review_data = extract_review_data(url)\n",
    "    data.append(review_data)\n",
    "    \n",
    "    # Add a delay to avoid getting blocked\n",
    "    time.sleep(2)\n",
    "\n",
    "# Convert the list of dictionaries into a DataFrame\n",
    "df = pd.DataFrame(data)"
   ]
  },
  {
   "cell_type": "code",
   "execution_count": 50,
   "id": "e31a5537",
   "metadata": {
    "scrolled": true
   },
   "outputs": [
    {
     "data": {
      "text/html": [
       "<div>\n",
       "<style scoped>\n",
       "    .dataframe tbody tr th:only-of-type {\n",
       "        vertical-align: middle;\n",
       "    }\n",
       "\n",
       "    .dataframe tbody tr th {\n",
       "        vertical-align: top;\n",
       "    }\n",
       "\n",
       "    .dataframe thead th {\n",
       "        text-align: right;\n",
       "    }\n",
       "</style>\n",
       "<table border=\"1\" class=\"dataframe\">\n",
       "  <thead>\n",
       "    <tr style=\"text-align: right;\">\n",
       "      <th></th>\n",
       "      <th>Text</th>\n",
       "      <th>Genre</th>\n",
       "      <th>Score</th>\n",
       "    </tr>\n",
       "  </thead>\n",
       "  <tbody>\n",
       "    <tr>\n",
       "      <th>0</th>\n",
       "      <td>Finally reissued in full, the 1996 debut from ...</td>\n",
       "      <td>Electronic</td>\n",
       "      <td>8.3</td>\n",
       "    </tr>\n",
       "    <tr>\n",
       "      <th>1</th>\n",
       "      <td>The Philly group’s second live album is a cele...</td>\n",
       "      <td>Rock</td>\n",
       "      <td>7.9</td>\n",
       "    </tr>\n",
       "    <tr>\n",
       "      <th>2</th>\n",
       "      <td>Filtered through warped hip-hop beats and garb...</td>\n",
       "      <td>Rock</td>\n",
       "      <td>7.6</td>\n",
       "    </tr>\n",
       "    <tr>\n",
       "      <th>3</th>\n",
       "      <td>On his first album in six years, Tom Krell shr...</td>\n",
       "      <td>Pop/R&amp;B</td>\n",
       "      <td>7.1</td>\n",
       "    </tr>\n",
       "    <tr>\n",
       "      <th>4</th>\n",
       "      <td>Each Sunday, Pitchfork takes an in-depth look ...</td>\n",
       "      <td>Rock</td>\n",
       "      <td>9.2</td>\n",
       "    </tr>\n",
       "    <tr>\n",
       "      <th>5</th>\n",
       "      <td>With spruced-up production highlighting new su...</td>\n",
       "      <td>Rock</td>\n",
       "      <td>7.5</td>\n",
       "    </tr>\n",
       "  </tbody>\n",
       "</table>\n",
       "</div>"
      ],
      "text/plain": [
       "                                                Text       Genre Score\n",
       "0  Finally reissued in full, the 1996 debut from ...  Electronic   8.3\n",
       "1  The Philly group’s second live album is a cele...        Rock   7.9\n",
       "2  Filtered through warped hip-hop beats and garb...        Rock   7.6\n",
       "3  On his first album in six years, Tom Krell shr...     Pop/R&B   7.1\n",
       "4  Each Sunday, Pitchfork takes an in-depth look ...        Rock   9.2\n",
       "5  With spruced-up production highlighting new su...        Rock   7.5"
      ]
     },
     "execution_count": 50,
     "metadata": {},
     "output_type": "execute_result"
    }
   ],
   "source": [
    "df"
   ]
  },
  {
   "cell_type": "markdown",
   "id": "a526e8b6",
   "metadata": {},
   "source": [
    "### Data Analysis\n",
    "\n",
    "Shown below is a high level analysis of the collected data.\n",
    "Distribution of review scores\n",
    "Number of reviews\n",
    "Word cloud broken out by score range"
   ]
  },
  {
   "cell_type": "markdown",
   "id": "59da78e3",
   "metadata": {},
   "source": [
    "### NLP"
   ]
  },
  {
   "cell_type": "code",
   "execution_count": null,
   "id": "c21fd14b",
   "metadata": {},
   "outputs": [],
   "source": []
  }
 ],
 "metadata": {
  "kernelspec": {
   "display_name": "Python 3 (ipykernel)",
   "language": "python",
   "name": "python3"
  },
  "language_info": {
   "codemirror_mode": {
    "name": "ipython",
    "version": 3
   },
   "file_extension": ".py",
   "mimetype": "text/x-python",
   "name": "python",
   "nbconvert_exporter": "python",
   "pygments_lexer": "ipython3",
   "version": "3.9.12"
  }
 },
 "nbformat": 4,
 "nbformat_minor": 5
}
