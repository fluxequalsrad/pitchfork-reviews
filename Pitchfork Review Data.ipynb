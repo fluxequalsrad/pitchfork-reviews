{
 "cells": [
  {
   "cell_type": "markdown",
   "id": "20eaaf8d",
   "metadata": {},
   "source": [
    "# Natural Language Processing - Pitchfork Music Reviews\n",
    "\n",
    "I will be using NLP techniques, both regression and classification, to see if music reviews can be used to determine the review score or music genre. Before starting this I need to build a web scraper to obtain the required data."
   ]
  },
  {
   "cell_type": "markdown",
   "id": "932a04e1",
   "metadata": {},
   "source": [
    "### Pitchfork Webscraper Build\n",
    "Data Extraction"
   ]
  },
  {
   "cell_type": "code",
   "execution_count": 2,
   "id": "4272cd70",
   "metadata": {},
   "outputs": [],
   "source": [
    "import requests\n",
    "import random\n",
    "from bs4 import BeautifulSoup\n",
    "import pandas as pd\n",
    "import re\n",
    "import time\n",
    "import plotly.express as px\n",
    "import plotly.figure_factory as ff\n",
    "\n",
    "\n",
    "# list of user agents to resolve 403 forbidden error\n",
    "userAgents = ['Mozilla/5.0 (Macintosh; Intel Mac OS X 10_15_7) AppleWebKit/605.1.15 (KHTML, like Gecko) Version/16.6 Safari/605.1.1',\n",
    "              'Mozilla/5.0 (Macintosh; Intel Mac OS X 10_15_7) AppleWebKit/605.1.15 (KHTML, like Gecko) Version/17.2.1 Safari/605.1.1',\n",
    "              'Mozilla/5.0 (Macintosh; Intel Mac OS X 10_15_7) AppleWebKit/605.1.15 (KHTML, like Gecko) Version/16.3 Safari/605.1.1',\n",
    "              'Mozilla/5.0 (Windows NT 10.0; Win64; x64) AppleWebKit/537.36 (KHTML, like Gecko) Chrome/120.0.0.0 Safari/537.3',\n",
    "              'Mozilla/5.0 (Windows NT 10.0; Win64; x64) AppleWebKit/537.36 (KHTML, like Gecko) Chrome/109.0.0.0 Safari/537.3']\n",
    "\n",
    "# Function to clean and extract the desired text from the <a> and <em> tags located in the review_text\n",
    "def extract_text(soup):\n",
    "    for a_tag in soup.find_all('a'):\n",
    "        if a_tag.find('em'):\n",
    "            # Replace <a> with its <em> content\n",
    "            a_tag.replace_with(a_tag.em.text)\n",
    "        else:\n",
    "            # Remove the entire <a> tag but keep its text content\n",
    "            a_tag.unwrap()\n",
    "\n",
    "    return soup.get_text()\n",
    "\n",
    "\n",
    "# function to extract review data from each url\n",
    "def extract_review_data(url):\n",
    "    html_data = requests.get(url, headers={'User-Agent': random.choice(userAgents)})\n",
    "    # create beautifulsoup object\n",
    "    soup = BeautifulSoup(html_data.content, \"html.parser\")\n",
    "    \n",
    "    # Find relevant review elements\n",
    "    intro_text = soup.find_all(\"div\", class_=\"BaseWrap-sc-gjQpdd BaseText-ewhhUZ SplitScreenContentHeaderDekDown-csTFQR iUEiRd Byyns MVQMg\")\n",
    "    review_text = soup.find_all(\"div\", class_=\"body__inner-container\")\n",
    "    genre = soup.find_all(\"p\", class_=\"BaseWrap-sc-gjQpdd BaseText-ewhhUZ InfoSliceValue-tfmqg iUEiRd hUQWfW fkSlPp\")\n",
    "    #score_element = soup.find_all(\"div\", class_=\"ScoreCircle-jAxRuP akdGf\")\n",
    "    score_element = soup.find_all(\"div\", class_=re.compile(r\"^ScoreCircle-\"))\n",
    "    \n",
    "    # Clean the intro and review body text\n",
    "    cleaned_intro = extract_text(intro_text[0]) if intro_text else \"N/A\"\n",
    "    cleaned_review = extract_text(review_text[0]) if review_text else \"N/A\"\n",
    "    cleaned_genre = genre[0].get_text().strip() if genre else \"N/A\"\n",
    "    cleaned_score = score_element[0].find(\"p\").get_text().strip() if score_element else \"N/A\"\n",
    "    \n",
    "    # Return the collected data\n",
    "    return {\n",
    "        \"Text\": cleaned_intro + ' ' + cleaned_review,\n",
    "        \"Genre\": cleaned_genre,\n",
    "        \"Score\": cleaned_score\n",
    "    }"
   ]
  },
  {
   "cell_type": "code",
   "execution_count": 4,
   "id": "ae77fa9c",
   "metadata": {},
   "outputs": [],
   "source": [
    "# Prepare an empty list to store the extracted data\n",
    "data = []"
   ]
  },
  {
   "cell_type": "code",
   "execution_count": 5,
   "id": "e1f6c40d",
   "metadata": {},
   "outputs": [],
   "source": [
    "# define urls\n",
    "url_df = pd.read_csv(\"pitchfork_urls.csv\", header=None)\n",
    "# Extract the data from the column into a list\n",
    "url_list = url_df.values.tolist()\n",
    "# Flatten nested list\n",
    "url_list = [item for sublist in url_list for item in sublist]"
   ]
  },
  {
   "cell_type": "code",
   "execution_count": 6,
   "id": "0f42cebb",
   "metadata": {},
   "outputs": [
    {
     "data": {
      "text/plain": [
       "['https://pitchfork.com/reviews/albums/jamie-xx-in-waves/',\n",
       " 'https://pitchfork.com/reviews/albums/laila-gap-year/',\n",
       " 'https://pitchfork.com/reviews/albums/nidia-and-valentina-estradas/',\n",
       " 'https://pitchfork.com/reviews/albums/the-war-on-drugs-live-drugs-again/',\n",
       " 'https://pitchfork.com/reviews/albums/wendy-eisenberg-viewfinder/',\n",
       " 'https://pitchfork.com/reviews/albums/nilufer-yanya-my-method-actor/',\n",
       " 'https://pitchfork.com/reviews/albums/porches-shirt/',\n",
       " 'https://pitchfork.com/reviews/albums/callahan-and-witscher-think-differently/',\n",
       " 'https://pitchfork.com/reviews/albums/foxing-foxing/',\n",
       " 'https://pitchfork.com/reviews/albums/basic-this-is-basic/',\n",
       " 'https://pitchfork.com/reviews/albums/hayden-pedigo-live-in-amarillo-texas/',\n",
       " 'https://pitchfork.com/reviews/albums/julie-my-anti-aircraft-friend/',\n",
       " 'https://pitchfork.com/reviews/albums/phiik-lungs-carrot-season/',\n",
       " 'https://pitchfork.com/reviews/albums/chow-lee-sex-drive/',\n",
       " 'https://pitchfork.com/reviews/albums/basic-channel-bcd/',\n",
       " 'https://pitchfork.com/reviews/albums/travis-scott-days-before-rodeo/',\n",
       " 'https://pitchfork.com/reviews/albums/floating-points-cascade/',\n",
       " 'https://pitchfork.com/reviews/albums/allegra-krieger-art-of-the-unseen-infinity-machine/',\n",
       " 'https://pitchfork.com/reviews/albums/masayoshi-fujita-migratory/',\n",
       " 'https://pitchfork.com/reviews/albums/max-richter-in-a-landscape/',\n",
       " 'https://pitchfork.com/reviews/albums/fat-dog-woof/',\n",
       " 'https://pitchfork.com/reviews/albums/nala-sinephro-endlessness/',\n",
       " 'https://pitchfork.com/reviews/albums/dummy-free-energy/',\n",
       " 'https://pitchfork.com/reviews/albums/toro-y-moi-hole-erth/',\n",
       " 'https://pitchfork.com/reviews/albums/okay-kaya-oh-my-god-thats-so-me/',\n",
       " 'https://pitchfork.com/reviews/albums/gas-gas/',\n",
       " 'https://pitchfork.com/reviews/albums/mercury-rev-born-horses/',\n",
       " 'https://pitchfork.com/reviews/albums/the-dare-whats-wrong-with-new-york/',\n",
       " 'https://pitchfork.com/reviews/albums/molchat-doma-belaya-polosa/',\n",
       " 'https://pitchfork.com/reviews/albums/cold-gawd-ill-drown-on-this-earth/',\n",
       " 'https://pitchfork.com/reviews/albums/the-pogues-rum-sodomy-and-the-lash/',\n",
       " 'https://pitchfork.com/reviews/albums/laurie-anderson-amelia/',\n",
       " 'https://pitchfork.com/reviews/albums/duster-in-dreams/',\n",
       " 'https://pitchfork.com/reviews/albums/mj-lenderman-manning-fireworks/',\n",
       " 'https://pitchfork.com/reviews/albums/fcukers-baggy-ep/',\n",
       " 'https://pitchfork.com/reviews/albums/destroy-lonely-love-lasts-forever/',\n",
       " 'https://pitchfork.com/reviews/albums/doechii-alligator-bites-never-heal/',\n",
       " 'https://pitchfork.com/reviews/albums/why-bonnie-wish-on-the-bone/',\n",
       " 'https://pitchfork.com/reviews/albums/nick-cave-wild-god/',\n",
       " 'https://pitchfork.com/reviews/albums/laurie-anderson-amelia/',\n",
       " 'https://pitchfork.com/reviews/albums/peel-dream-magazine-rose-main-reading-room/',\n",
       " 'https://pitchfork.com/reviews/albums/jon-hopkins-ritual/',\n",
       " 'https://pitchfork.com/reviews/albums/lia-kohl-normal-sounds/',\n",
       " 'https://pitchfork.com/reviews/albums/1tbsp-megacity1000/',\n",
       " 'https://pitchfork.com/reviews/albums/ween-chocolate-and-cheese/',\n",
       " 'https://pitchfork.com/reviews/albums/dorothy-carter-troubadour/',\n",
       " 'https://pitchfork.com/reviews/albums/seefeel-everything-squared/',\n",
       " 'https://pitchfork.com/reviews/albums/coco-and-clair-clair-girl/',\n",
       " 'https://pitchfork.com/reviews/albums/paris-paloma-cacophony/',\n",
       " 'https://pitchfork.com/reviews/albums/the-softies-the-bed-i-made/',\n",
       " 'https://pitchfork.com/reviews/albums/jaeychino-watch-the-throne/',\n",
       " 'https://pitchfork.com/reviews/albums/ka-the-thief-next-to-jesus/',\n",
       " 'https://pitchfork.com/reviews/albums/spirit-of-the-beehive-youll-have-to-lose-something/',\n",
       " 'https://pitchfork.com/reviews/albums/illuminati-hotties-power/',\n",
       " 'https://pitchfork.com/reviews/albums/body-meat-starchris/',\n",
       " 'https://pitchfork.com/reviews/albums/etelin-patio-user-manual/',\n",
       " 'https://pitchfork.com/reviews/albums/j-mamana-for-every-set-of-eyes/',\n",
       " 'https://pitchfork.com/reviews/albums/sabrina-carpenter-short-n-sweet/',\n",
       " 'https://pitchfork.com/reviews/albums/the-get-up-kids-something-to-write-home-about-25th-anniversary-deluxe-edition/',\n",
       " 'https://pitchfork.com/reviews/albums/heems-veena/',\n",
       " 'https://pitchfork.com/reviews/albums/various-artists-soundbombing-ii/',\n",
       " 'https://pitchfork.com/reviews/albums/throbbing-gristle-tgcd1-the-third-mind-movements/',\n",
       " 'https://pitchfork.com/reviews/albums/magdalena-bay-imaginal-disk/',\n",
       " 'https://pitchfork.com/reviews/albums/cash-cobain-play-cash-cobain/',\n",
       " 'https://pitchfork.com/reviews/albums/fake-fruit-mucho-mistrust/',\n",
       " 'https://pitchfork.com/reviews/albums/fontaines-dc-romance/',\n",
       " 'https://pitchfork.com/reviews/albums/gillian-welch-david-rawlings-woodland/',\n",
       " 'https://pitchfork.com/reviews/albums/charly-bliss-forever/',\n",
       " 'https://pitchfork.com/reviews/albums/rosie-lowe-lover-other/',\n",
       " 'https://pitchfork.com/reviews/albums/charley-crockett-10-dollar-cowboy-visions-of-dallas/',\n",
       " 'https://pitchfork.com/reviews/albums/post-malone-f-1-trillion/',\n",
       " 'https://pitchfork.com/reviews/albums/chuck-johnson-sun-glories/',\n",
       " 'https://pitchfork.com/reviews/albums/delicate-steve-delicate-steve-sings/',\n",
       " 'https://pitchfork.com/reviews/albums/parannoul-sky-hundred/',\n",
       " 'https://pitchfork.com/reviews/albums/gel-persona-ep/',\n",
       " 'https://pitchfork.com/reviews/albums/panda-bear-sonic-boom-mariachi-2000-de-cutberto-perez-reset-mariachi-ep/',\n",
       " 'https://pitchfork.com/reviews/albums/terry-riley-descending-moonshine-dervishes/',\n",
       " 'https://pitchfork.com/reviews/albums/tinashe-quantum-baby/',\n",
       " 'https://pitchfork.com/reviews/albums/asake-lungu-boy/',\n",
       " 'https://pitchfork.com/reviews/albums/peter-cat-recording-co-beta/',\n",
       " 'https://pitchfork.com/reviews/albums/jus-3rd-shift/',\n",
       " 'https://pitchfork.com/reviews/albums/horse-jumper-of-love-disaster-trick/',\n",
       " 'https://pitchfork.com/reviews/albums/wishy-triple-seven/',\n",
       " 'https://pitchfork.com/reviews/albums/kanye-west-ty-dolla-sign-vultures-2/',\n",
       " 'https://pitchfork.com/reviews/albums/latto-sugar-honey-iced-tea/',\n",
       " 'https://pitchfork.com/reviews/albums/ryuichi-sakamoto-opus/',\n",
       " 'https://pitchfork.com/reviews/albums/mavi-shadowbox/',\n",
       " 'https://pitchfork.com/reviews/albums/osees-sorcs-80/',\n",
       " 'https://pitchfork.com/reviews/albums/reviews/albums/beabadoobee-this-is-how-tomorrow-moves/',\n",
       " 'https://pitchfork.com/reviews/albums/oso-oso-life-till-bones/',\n",
       " 'https://pitchfork.com/reviews/albums/fucked-up-another-day/',\n",
       " 'https://pitchfork.com/reviews/albums/art-ensemble-of-chicago-nice-guys/',\n",
       " 'https://pitchfork.com/reviews/albums/belong-realistic-ix/',\n",
       " 'https://pitchfork.com/reviews/albums/ravyn-lenae-birds-eye/',\n",
       " 'https://pitchfork.com/reviews/albums/larry-june-doing-it-for-me/',\n",
       " 'https://pitchfork.com/reviews/albums/google-earth-james-riotto-john-vanderslice-street-view/',\n",
       " 'https://pitchfork.com/reviews/albums/jpegmafia-i-lay-down-my-life-for-you/',\n",
       " 'https://pitchfork.com/reviews/albums/x-smoke-and-fiction/',\n",
       " 'https://pitchfork.com/reviews/albums/jack-white-no-name/',\n",
       " 'https://pitchfork.com/reviews/albums/killer-mike-michael-and-the-mighty-midnight-revival-songs-for-sinners-and-saints/',\n",
       " 'https://pitchfork.com/reviews/albums/araabmuzik-aggro-dr1ft-original-motion-picture-soundtrack/',\n",
       " 'https://pitchfork.com/reviews/albums/moses-sumney-sophcore-ep/',\n",
       " 'https://pitchfork.com/reviews/albums/dave-harrington-skull-dream/',\n",
       " 'https://pitchfork.com/reviews/albums/chrystabell-david-lynch-cellophane-memories/',\n",
       " 'https://pitchfork.com/reviews/albums/doris-ultimate-love-songs-collection/',\n",
       " 'https://pitchfork.com/reviews/albums/various-artists-kampire-presents-a-dancefloor-in-ndola/',\n",
       " 'https://pitchfork.com/reviews/albums/loidis-one-day/',\n",
       " 'https://pitchfork.com/reviews/albums/britney-spears-blackout/',\n",
       " 'https://pitchfork.com/reviews/albums/bill-callahan-resuscitate/',\n",
       " 'https://pitchfork.com/reviews/albums/navy-blue-memoirs-in-armour/',\n",
       " 'https://pitchfork.com/reviews/albums/rakim-gods-network-reb7rth/',\n",
       " 'https://pitchfork.com/reviews/albums/julia-sophie-forgive-too-slow/',\n",
       " 'https://pitchfork.com/reviews/albums/cults-to-the-ghosts/',\n",
       " 'https://pitchfork.com/reviews/albums/raz-fresco-dj-muggs-the-eternal-now/',\n",
       " 'https://pitchfork.com/reviews/albums/klein-marked/',\n",
       " 'https://pitchfork.com/reviews/albums/font-strange-burden/',\n",
       " 'https://pitchfork.com/reviews/albums/nathan-bowles-trio-are-possible/',\n",
       " 'https://pitchfork.com/reviews/albums/wand-vertigo/',\n",
       " 'https://pitchfork.com/reviews/albums/kmru-natur/',\n",
       " 'https://pitchfork.com/reviews/albums/role-model-kansas-anymore/',\n",
       " 'https://pitchfork.com/reviews/albums/ice-spice-y2k/',\n",
       " 'https://pitchfork.com/reviews/albums/robber-robber-wild-guess/',\n",
       " 'https://pitchfork.com/reviews/albums/daddy-yankee-barrio-fino/',\n",
       " 'https://pitchfork.com/reviews/albums/blur-live-at-wembley-stadium/',\n",
       " 'https://pitchfork.com/reviews/albums/porter-robinson-smile/',\n",
       " 'https://pitchfork.com/reviews/albums/griff-vertigo/',\n",
       " 'https://pitchfork.com/reviews/albums/total-blue-total-blue/',\n",
       " 'https://pitchfork.com/reviews/albums/200-stab-wounds-manual-manic-procedures/',\n",
       " 'https://pitchfork.com/reviews/albums/new-york-rapstar/',\n",
       " 'https://pitchfork.com/reviews/albums/ghost-dubs-damaged/',\n",
       " 'https://pitchfork.com/reviews/albums/childish-gambino-bando-stone-and-the-new-world/',\n",
       " 'https://pitchfork.com/reviews/albums/kokoko-butu/',\n",
       " 'https://pitchfork.com/reviews/albums/joe-goddard-harmonics/',\n",
       " 'https://pitchfork.com/reviews/albums/zuli-lambda/',\n",
       " 'https://pitchfork.com/reviews/albums/ashanti-ashanti/',\n",
       " 'https://pitchfork.com/reviews/albums/lava-la-rue-starface/',\n",
       " 'https://pitchfork.com/reviews/albums/los-campesinos-all-hell/',\n",
       " 'https://pitchfork.com/reviews/albums/salute-true-magic/',\n",
       " 'https://pitchfork.com/reviews/albums/cassandra-jenkins-my-light-my-destroyer/',\n",
       " 'https://pitchfork.com/reviews/albums/remi-wolf-big-ideas/',\n",
       " 'https://pitchfork.com/reviews/albums/jeff-mills-the-eyewitness/',\n",
       " 'https://pitchfork.com/reviews/albums/rema-heis/',\n",
       " 'https://pitchfork.com/reviews/albums/jake-xerxes-fussell-when-im-called/',\n",
       " 'https://pitchfork.com/reviews/albums/eminem-the-death-of-slim-shady-coup-de-grace/',\n",
       " 'https://pitchfork.com/reviews/albums/boldy-james-conductor-williams-across-the-tracks/',\n",
       " 'https://pitchfork.com/reviews/albums/pan-pan-the-pansexual/',\n",
       " 'https://pitchfork.com/reviews/albums/zach-bryan-the-great-american-bar-scene/',\n",
       " 'https://pitchfork.com/reviews/albums/chris-cohen-paint-a-room/',\n",
       " 'https://pitchfork.com/reviews/albums/brijean-macro/',\n",
       " 'https://pitchfork.com/reviews/albums/abida-parveen-raqs-e-bismil/',\n",
       " 'https://pitchfork.com/reviews/albums/mas-aya-coming-and-going/',\n",
       " 'https://pitchfork.com/reviews/albums/johnny-blue-skies-sturgill-simpson-passage-du-desir/',\n",
       " 'https://pitchfork.com/reviews/albums/kucka-can-you-hear-me-dreaming/',\n",
       " 'https://pitchfork.com/reviews/albums/clairo-charm/',\n",
       " 'https://pitchfork.com/reviews/albums/deon-leviathan/',\n",
       " 'https://pitchfork.com/reviews/albums/syzy-the-weight-of-the-world/',\n",
       " 'https://pitchfork.com/reviews/albums/omar-apollo-god-said-no/',\n",
       " 'https://pitchfork.com/reviews/albums/sml-small-medium-large/',\n",
       " 'https://pitchfork.com/reviews/albums/art-brut-a-record-collection-reduced-to-a-mixtape-and-yes-this-is-my-singing-voice/',\n",
       " 'https://pitchfork.com/reviews/albums/lucky-daye-algorithm/',\n",
       " 'https://pitchfork.com/reviews/albums/the-folk-implosion-walk-thru-me/',\n",
       " 'https://pitchfork.com/reviews/albums/lupe-fiasco-samurai/',\n",
       " 'https://pitchfork.com/reviews/albums/asher-white-home-constellation-study/',\n",
       " 'https://pitchfork.com/reviews/albums/previous-industries-service-merchandise/',\n",
       " 'https://pitchfork.com/reviews/albums/redd-kross-redd-kross/',\n",
       " 'https://pitchfork.com/reviews/albums/washed-out-notes-from-a-quiet-life/',\n",
       " 'https://pitchfork.com/reviews/albums/suss-birds-and-beasts/',\n",
       " 'https://pitchfork.com/reviews/albums/dirty-three-love-changes-everything/',\n",
       " 'https://pitchfork.com/reviews/albums/eiko-ishibashi-evil-does-not-exist/',\n",
       " 'https://pitchfork.com/reviews/albums/megan-thee-stallion-megan/',\n",
       " 'https://pitchfork.com/reviews/albums/sour-widows-revival-of-a-friend/',\n",
       " 'https://pitchfork.com/reviews/albums/lil-yachty-james-blake-bad-cameo/',\n",
       " 'https://pitchfork.com/reviews/albums/kehlani-crash/',\n",
       " 'https://pitchfork.com/reviews/albums/happy-mondays-pills-n-thrills-and-bellyaches/',\n",
       " 'https://pitchfork.com/reviews/albums/johnny-cash-songwriter/',\n",
       " 'https://pitchfork.com/reviews/albums/camila-cabello-c-xoxo/',\n",
       " 'https://pitchfork.com/reviews/albums/amaarae-roses-are-red-tears-are-blue-a-fountain-baby-extended-play/',\n",
       " 'https://pitchfork.com/reviews/albums/yetsuby-b-b-ep/',\n",
       " 'https://pitchfork.com/reviews/albums/mabe-fratti-sentir-que-no-sabes/',\n",
       " 'https://pitchfork.com/reviews/albums/wilco-hot-sun-cool-shroud-ep/',\n",
       " 'https://pitchfork.com/reviews/albums/polo-perks-feardorian-ayoolii-a-dogs-chance/',\n",
       " 'https://pitchfork.com/reviews/albums/linda-thompson-proxy-music/',\n",
       " 'https://pitchfork.com/reviews/albums/skaiwater-gigi/',\n",
       " 'https://pitchfork.com/reviews/albums/sumac-the-healer/',\n",
       " 'https://pitchfork.com/reviews/albums/been-stellar-scream-from-new-york-ny/',\n",
       " 'https://pitchfork.com/reviews/albums/th-blisks-elixa/',\n",
       " 'https://pitchfork.com/reviews/albums/peso-pluma-exodo/',\n",
       " 'https://pitchfork.com/reviews/albums/o-weirdos/',\n",
       " 'https://pitchfork.com/reviews/albums/tim-koh-sun-an-salt-and-sugar-look-the-same/',\n",
       " 'https://pitchfork.com/reviews/albums/frankie-goes-to-hollywood-welcome-to-the-pleasuredome/',\n",
       " 'https://pitchfork.com/reviews/albums/krm-kmru-disconnect/',\n",
       " 'https://pitchfork.com/reviews/albums/skee-mask-resort/',\n",
       " 'https://pitchfork.com/reviews/albums/cola-the-gloss/',\n",
       " 'https://pitchfork.com/reviews/albums/zsela-big-for-you/',\n",
       " 'https://pitchfork.com/reviews/albums/the-decemberists-as-it-ever-was-so-it-will-be-again/',\n",
       " 'https://pitchfork.com/reviews/albums/u-ziq-grush/',\n",
       " 'https://pitchfork.com/reviews/albums/normani-dopamine/',\n",
       " 'https://pitchfork.com/reviews/albums/fana-hues-moth/',\n",
       " 'https://pitchfork.com/reviews/albums/fax-gang-parannoul-scattersun/',\n",
       " 'https://pitchfork.com/reviews/albums/carlos-nino-and-friends-placenta/',\n",
       " 'https://pitchfork.com/reviews/albums/pedro-the-lion-santa-cruz/',\n",
       " 'https://pitchfork.com/reviews/albums/sideshow-fun-toy/',\n",
       " 'https://pitchfork.com/reviews/albums/iasos-inter-dimensional-music/',\n",
       " 'https://pitchfork.com/reviews/albums/paul-mccartney-wings-one-hand-clapping/',\n",
       " 'https://pitchfork.com/reviews/albums/nxworries-why-lawd/',\n",
       " 'https://pitchfork.com/reviews/albums/2hollis-boy/',\n",
       " 'https://pitchfork.com/reviews/albums/this-is-lorelei-box-for-buddy-box-for-star/',\n",
       " 'https://pitchfork.com/reviews/albums/tems-born-in-the-wild/',\n",
       " 'https://pitchfork.com/reviews/albums/marina-allen-eight-pointed-star/',\n",
       " 'https://pitchfork.com/reviews/albums/kaytranada-timeless/',\n",
       " 'https://pitchfork.com/reviews/albums/good-looks-lived-here-for-a-while/',\n",
       " 'https://pitchfork.com/reviews/albums/xaviersobased-with-2/',\n",
       " 'https://pitchfork.com/reviews/albums/verraco-breathe-godspeed-ep/',\n",
       " 'https://pitchfork.com/reviews/albums/actress-statik/',\n",
       " 'https://pitchfork.com/reviews/albums/margaux-inside-the-marble/',\n",
       " 'https://pitchfork.com/reviews/albums/goat-girl-below-the-waste/',\n",
       " 'https://pitchfork.com/reviews/albums/ice-cube-amerikkkas-most-wanted/',\n",
       " 'https://pitchfork.com/reviews/albums/tashi-wada-what-is-not-strange/',\n",
       " 'https://pitchfork.com/reviews/albums/charli-xcx-brat/',\n",
       " 'https://pitchfork.com/reviews/albums/peggy-gou-i-hear-you/',\n",
       " 'https://pitchfork.com/reviews/albums/ayra-starr-the-year-i-turned-21/',\n",
       " 'https://pitchfork.com/reviews/albums/shaboozey-where-ive-been-isnt-where-im-going/',\n",
       " 'https://pitchfork.com/reviews/albums/king-hannah-big-swimmer/',\n",
       " 'https://pitchfork.com/reviews/albums/bat-for-lashes-the-dream-of-delphi/',\n",
       " 'https://pitchfork.com/reviews/albums/daydream-plus-escape-at-your-own-pace-ep/',\n",
       " 'https://pitchfork.com/reviews/albums/thou-umbilical/',\n",
       " 'https://pitchfork.com/reviews/albums/sexyy-red-in-sexyy-we-trust/',\n",
       " 'https://pitchfork.com/reviews/albums/cyndi-lauper-shes-so-unusual/',\n",
       " 'https://pitchfork.com/reviews/albums/alan-vega-insurrection/',\n",
       " 'https://pitchfork.com/reviews/albums/arooj-aftab-night-reign/',\n",
       " 'https://pitchfork.com/reviews/albums/vince-staples-dark-times/',\n",
       " 'https://pitchfork.com/reviews/albums/young-jesus-the-fool/',\n",
       " 'https://pitchfork.com/reviews/albums/mike-shabb-sewaside-iii/',\n",
       " 'https://pitchfork.com/reviews/albums/gastr-del-sol-we-have-dozens-of-titles/',\n",
       " 'https://pitchfork.com/reviews/albums/james-devane-searching/',\n",
       " 'https://pitchfork.com/reviews/albums/one-dove-morning-dove-white/',\n",
       " 'https://pitchfork.com/reviews/albums/wadada-leo-smith-amina-claudine-myers-central-parks-mosaics-of-reservoir-lake-paths-and-gardens/',\n",
       " 'https://pitchfork.com/reviews/albums/diiv-frog-in-boiling-water/',\n",
       " 'https://pitchfork.com/reviews/albums/m-wagner-we-could-stay/',\n",
       " 'https://pitchfork.com/reviews/albums/mach-hommy-richaxxhaitian/',\n",
       " 'https://pitchfork.com/reviews/albums/rapsody-please-dont-cry/',\n",
       " 'https://pitchfork.com/reviews/albums/ian-valedictorian/',\n",
       " 'https://pitchfork.com/reviews/albums/shellac-to-all-trains/',\n",
       " 'https://pitchfork.com/reviews/albums/zayn-room-under-the-stairs/',\n",
       " 'https://pitchfork.com/reviews/albums/nikki-nair-snake-ep/',\n",
       " 'https://pitchfork.com/reviews/albums/billie-eilish-hit-me-hard-and-soft/',\n",
       " 'https://pitchfork.com/reviews/albums/wolfacejoeyy-valentino/',\n",
       " 'https://pitchfork.com/reviews/albums/rachel-chinouriri-what-a-devastating-turn-of-events/',\n",
       " 'https://pitchfork.com/reviews/albums/crumb-amama/',\n",
       " 'https://pitchfork.com/reviews/albums/lip-critic-hex-dealer/',\n",
       " 'https://pitchfork.com/reviews/albums/yhapojj-ps-fuck-you/',\n",
       " 'https://pitchfork.com/reviews/albums/judy-garland-judy-at-carnegie-hall/',\n",
       " 'https://pitchfork.com/reviews/albums/taylor-deupree-still/',\n",
       " 'https://pitchfork.com/reviews/albums/beth-gibbons-lives-outgrown/',\n",
       " 'https://pitchfork.com/reviews/albums/i-jordan-i-am-jordan/',\n",
       " 'https://pitchfork.com/reviews/albums/keeley-forsyth-the-hollow/',\n",
       " 'https://pitchfork.com/reviews/albums/myriam-gendron-mayday/',\n",
       " 'https://pitchfork.com/reviews/albums/naemi-dust-devil/',\n",
       " 'https://pitchfork.com/reviews/albums/yaya-bey-ten-fold/',\n",
       " 'https://pitchfork.com/reviews/albums/gunna-one-of-wun/',\n",
       " 'https://pitchfork.com/reviews/albums/chief-keef-almighty-so-2/',\n",
       " 'https://pitchfork.com/reviews/albums/arab-strap-im-totally-fine-with-it-dont-give-a-fuck-anymore/',\n",
       " 'https://pitchfork.com/reviews/albums/sisso-maiko-singeli-ya-maajabu/',\n",
       " 'https://pitchfork.com/reviews/albums/amen-dunes-death-jokes/',\n",
       " 'https://pitchfork.com/reviews/albums/how-to-dress-well-i-am-toward-you/',\n",
       " 'https://pitchfork.com/reviews/albums/hana-vu-romanticism/',\n",
       " 'https://pitchfork.com/reviews/albums/fishmans-long-season/',\n",
       " 'https://pitchfork.com/reviews/albums/various-artists-i-saw-the-tv-glow-original-soundtrack/',\n",
       " 'https://pitchfork.com/reviews/albums/mdou-moctar-funeral-for-justice/',\n",
       " 'https://pitchfork.com/reviews/albums/dehd-poetry/',\n",
       " 'https://pitchfork.com/reviews/albums/knocked-loose-you-wont-go-before-youre-supposed-to/',\n",
       " 'https://pitchfork.com/reviews/albums/a-g-cook-britpop/',\n",
       " 'https://pitchfork.com/reviews/albums/willow-empathogen/',\n",
       " 'https://pitchfork.com/reviews/albums/dettinger-intershop-oasis/',\n",
       " 'https://pitchfork.com/reviews/albums/broadcast-spell-blanket-collected-demos-2006-2009/',\n",
       " 'https://pitchfork.com/reviews/albums/les-savy-fav-oui-lsf/',\n",
       " 'https://pitchfork.com/reviews/albums/kamasi-washington-fearless-movement/',\n",
       " 'https://pitchfork.com/reviews/albums/sam-gendel-sam-wilkes-the-doober/',\n",
       " 'https://pitchfork.com/reviews/albums/trent-reznor-atticus-ross-challengers-original-score/',\n",
       " 'https://pitchfork.com/reviews/albums/sia-reasonable-woman/',\n",
       " 'https://pitchfork.com/reviews/albums/slum-village-fun/',\n",
       " 'https://pitchfork.com/reviews/albums/camera-obscura-look-to-the-east-look-to-the-west/',\n",
       " 'https://pitchfork.com/reviews/albums/dua-lipa-radical-optimism/',\n",
       " 'https://pitchfork.com/reviews/albums/jon-mckiel-hex/',\n",
       " 'https://pitchfork.com/reviews/albums/jawnino-40/',\n",
       " 'https://pitchfork.com/reviews/albums/jessica-pratt-here-in-the-pitch/',\n",
       " 'https://pitchfork.com/reviews/albums/neil-young-and-crazy-horse-fn-up/',\n",
       " 'https://pitchfork.com/reviews/albums/bullion-affection/',\n",
       " 'https://pitchfork.com/reviews/albums/anycia-princess-pop-that/',\n",
       " 'https://pitchfork.com/reviews/albums/sega-bodega-dennis/',\n",
       " 'https://pitchfork.com/reviews/albums/bladee-cold-visions/',\n",
       " 'https://pitchfork.com/reviews/albums/hr-gigers-studiolo-hr-gigers-studiolo-vol-1-and-vol-2/',\n",
       " 'https://pitchfork.com/reviews/albums/gangrene-heads-i-win-tails-you-lose/',\n",
       " 'https://pitchfork.com/reviews/albums/hovvdy-hovvdy/',\n",
       " 'https://pitchfork.com/reviews/albums/six-organs-of-admittance-time-is-glass/',\n",
       " 'https://pitchfork.com/reviews/albums/lustsickpuppy-carousel-from-hell/',\n",
       " 'https://pitchfork.com/reviews/albums/lou-reed-the-blue-mask/',\n",
       " 'https://pitchfork.com/reviews/albums/iron-and-wine-light-verse/',\n",
       " 'https://pitchfork.com/reviews/albums/justice-hyperdrama/',\n",
       " 'https://pitchfork.com/reviews/albums/cavalier-different-type-time/',\n",
       " 'https://pitchfork.com/reviews/albums/st-vincent-all-born-screaming/',\n",
       " 'https://pitchfork.com/reviews/albums/eris-drew-raving-disco-breaks-vol-ii/',\n",
       " 'https://pitchfork.com/reviews/albums/english-teacher-this-could-be-texas/',\n",
       " 'https://pitchfork.com/reviews/albums/claire-rousay-sentiment/',\n",
       " 'https://pitchfork.com/reviews/albums/big-brave-a-chaos-of-flowers/',\n",
       " 'https://pitchfork.com/reviews/albums/still-house-plants-if-i-dont-make-it-i-love-u/',\n",
       " 'https://pitchfork.com/reviews/albums/pearl-jam-dark-matter/',\n",
       " 'https://pitchfork.com/reviews/albums/elyanna-woledto/',\n",
       " 'https://pitchfork.com/reviews/albums/taylor-swift-the-tortured-poets-department-the-anthology/',\n",
       " 'https://pitchfork.com/reviews/albums/bbymutha-sleep-paralysis/',\n",
       " 'https://pitchfork.com/reviews/albums/water-damage-in-e/',\n",
       " 'https://pitchfork.com/reviews/albums/bark-psychosis-hex/',\n",
       " 'https://pitchfork.com/reviews/albums/lord-spikeheart-the-adept/',\n",
       " 'https://pitchfork.com/reviews/albums/cloud-nothings-final-summer/',\n",
       " 'https://pitchfork.com/reviews/albums/lucy-rose-this-aint-the-way-you-go-out/',\n",
       " 'https://pitchfork.com/reviews/albums/vegyn-the-road-to-hell-is-paved-with-good-intentions/',\n",
       " 'https://pitchfork.com/reviews/albums/chanel-beads-your-day-will-come/',\n",
       " 'https://pitchfork.com/reviews/albums/ka-baird-bearings-soundtracks-for-the-bardos/',\n",
       " 'https://pitchfork.com/reviews/albums/future-metro-boomin-we-still-dont-trust-you/',\n",
       " 'https://pitchfork.com/reviews/albums/ekko-astral-pink-balloons/',\n",
       " 'https://pitchfork.com/reviews/albums/bnny-one-million-love-songs/',\n",
       " 'https://pitchfork.com/reviews/albums/girl-in-red-im-doing-it-again-baby/',\n",
       " 'https://pitchfork.com/reviews/albums/blue-bendy-so-medieval/',\n",
       " 'https://pitchfork.com/reviews/albums/anoushka-shankar-chapter-ii-how-dark-it-is-before-dawn-ep/',\n",
       " 'https://pitchfork.com/reviews/albums/nia-archives-silence-is-loud/',\n",
       " 'https://pitchfork.com/reviews/albums/skee-mask-iss010/',\n",
       " 'https://pitchfork.com/reviews/albums/concrete-boys-its-us-vol-1/',\n",
       " 'https://pitchfork.com/reviews/albums/the-waterboys-this-is-the-sea/',\n",
       " 'https://pitchfork.com/reviews/albums/ahmed-wood-blues/',\n",
       " 'https://pitchfork.com/reviews/albums/cindy-lee-diamond-jubilee/',\n",
       " 'https://pitchfork.com/reviews/albums/maggie-rogers-dont-forget-me/',\n",
       " 'https://pitchfork.com/reviews/albums/grace-cummings-ramona/',\n",
       " 'https://pitchfork.com/reviews/albums/shabaka-perceive-its-beauty-acknowledge-its-grace/',\n",
       " 'https://pitchfork.com/reviews/albums/adam-wiltzie-eleven-fugues-for-sodium-pentothal/',\n",
       " 'https://pitchfork.com/reviews/albums/reyna-tropical-malegria/',\n",
       " 'https://pitchfork.com/reviews/albums/j-cole-might-delete-later/',\n",
       " 'https://pitchfork.com/reviews/albums/khruangbin-a-la-sala/',\n",
       " 'https://pitchfork.com/reviews/albums/feardorian-feardorian/',\n",
       " 'https://pitchfork.com/reviews/albums/wisp-pandora-ep/',\n",
       " 'https://pitchfork.com/reviews/albums/sinkane-we-belong/',\n",
       " 'https://pitchfork.com/reviews/albums/beatenberg-the-great-fire-of-beatenberg/',\n",
       " 'https://pitchfork.com/reviews/albums/mount-kimbie-the-sunset-violent/',\n",
       " 'https://pitchfork.com/reviews/albums/arushi-jain-delight/',\n",
       " 'https://pitchfork.com/reviews/albums/the-libertines-all-quiet-on-the-eastern-esplanade/',\n",
       " 'https://pitchfork.com/reviews/albums/tlc-crazysexycool/',\n",
       " 'https://pitchfork.com/reviews/albums/omar-souleyman-erbil/',\n",
       " 'https://pitchfork.com/reviews/albums/the-black-keys-ohio-players/',\n",
       " 'https://pitchfork.com/reviews/albums/ride-interplay/',\n",
       " 'https://pitchfork.com/reviews/albums/gesaffelstein-gamma/',\n",
       " 'https://pitchfork.com/reviews/albums/vampire-weekend-only-god-was-above-us/',\n",
       " 'https://pitchfork.com/reviews/albums/shakira-las-mujeres-ya-no-lloran/',\n",
       " 'https://pitchfork.com/reviews/albums/roc-marciano-marciology/',\n",
       " 'https://pitchfork.com/reviews/albums/vial-burnout/',\n",
       " 'https://pitchfork.com/reviews/albums/majesty-crush-butterflies-dont-go-away/',\n",
       " 'https://pitchfork.com/reviews/albums/sheryl-crow-evolution/',\n",
       " 'https://pitchfork.com/reviews/albums/shabazz-palaces-exotic-birds-of-prey/',\n",
       " 'https://pitchfork.com/reviews/albums/logic1000-mother/',\n",
       " 'https://pitchfork.com/reviews/albums/beyonce-cowboy-carter/',\n",
       " 'https://pitchfork.com/reviews/albums/yung-lean-bladee-psykos/',\n",
       " 'https://pitchfork.com/reviews/albums/mizu-forest-scenes/',\n",
       " 'https://pitchfork.com/reviews/albums/photek-modus-operandi/',\n",
       " 'https://pitchfork.com/reviews/albums/various-artists-funk-br-sao-paulo/',\n",
       " 'https://pitchfork.com/reviews/albums/kelly-moran-moves-in-the-field/',\n",
       " 'https://pitchfork.com/reviews/albums/nourished-by-time-catching-chickens-ep/',\n",
       " 'https://pitchfork.com/reviews/albums/alena-spanger-fire-escape/',\n",
       " 'https://pitchfork.com/reviews/albums/1010benja-ten-total/',\n",
       " 'https://pitchfork.com/reviews/albums/jlin-akoma/',\n",
       " 'https://pitchfork.com/reviews/albums/tatyana-its-over/',\n",
       " 'https://pitchfork.com/reviews/albums/future-metro-boomin-we-dont-trust-you/',\n",
       " 'https://pitchfork.com/reviews/albums/tyla-tyla/',\n",
       " 'https://pitchfork.com/reviews/albums/rosali-bite-down/',\n",
       " 'https://pitchfork.com/reviews/albums/empress-of-for-your-consideration/',\n",
       " 'https://pitchfork.com/reviews/albums/gossip-real-power/',\n",
       " 'https://pitchfork.com/reviews/albums/anysia-kym-truest/',\n",
       " 'https://pitchfork.com/reviews/albums/julia-holter-something-in-the-room-she-moves/',\n",
       " 'https://pitchfork.com/reviews/albums/cakes-da-killa-black-sheep/',\n",
       " 'https://pitchfork.com/reviews/albums/the-messthetics-and-james-brandon-lewis/',\n",
       " 'https://pitchfork.com/reviews/albums/meat-puppets-meat-puppets-ii/',\n",
       " 'https://pitchfork.com/reviews/albums/alice-coltrane-the-carnegie-hall-concert/',\n",
       " 'https://pitchfork.com/reviews/albums/waxahatchee-tigers-blood/',\n",
       " 'https://pitchfork.com/reviews/albums/the-jesus-and-mary-chain-glasgow-eyes/',\n",
       " 'https://pitchfork.com/reviews/albums/bktherula-lvl5-p2/',\n",
       " 'https://pitchfork.com/reviews/albums/adrianne-lenker-bright-future/',\n",
       " 'https://pitchfork.com/reviews/albums/john-lurie-painting-with-john-music-from-the-original-tv-series/',\n",
       " 'https://pitchfork.com/reviews/albums/princess-princess/',\n",
       " 'https://pitchfork.com/reviews/albums/haux-blue-angeles/',\n",
       " 'https://pitchfork.com/reviews/albums/justin-timberlake-everything-i-thought-it-was/',\n",
       " 'https://pitchfork.com/reviews/albums/gouge-away-deep-sage/',\n",
       " 'https://pitchfork.com/reviews/albums/grouptherapy-the-addendum-i-was-mature-for-my-age-but-i-was-still-a-child/',\n",
       " 'https://pitchfork.com/reviews/albums/flo-milli-fine-ho-stay/',\n",
       " 'https://pitchfork.com/reviews/albums/devon-welsh-come-with-me-if-you-want-to-live/',\n",
       " 'https://pitchfork.com/reviews/albums/bossman-dlow-mr-beat-the-road/',\n",
       " 'https://pitchfork.com/reviews/albums/tierra-whack-world-wide-whack/',\n",
       " 'https://pitchfork.com/reviews/albums/mike-tony-seltzer-pinball/',\n",
       " 'https://pitchfork.com/reviews/albums/harry-partch-the-world-of-harry-partch/',\n",
       " 'https://pitchfork.com/reviews/albums/joe-henderson-power-to-the-people/',\n",
       " 'https://pitchfork.com/reviews/albums/four-tet-three/',\n",
       " 'https://pitchfork.com/reviews/albums/heavee-unleash/',\n",
       " 'https://pitchfork.com/reviews/albums/kacey-musgraves-deeper-well/',\n",
       " 'https://pitchfork.com/reviews/albums/moor-mother-the-great-bailout/',\n",
       " 'https://pitchfork.com/reviews/albums/yard-act-wheres-my-utopia/',\n",
       " 'https://pitchfork.com/reviews/albums/glorygirl2950-queen-of-the-land/',\n",
       " 'https://pitchfork.com/reviews/albums/amaro-freitas-y-y/',\n",
       " 'https://pitchfork.com/reviews/albums/meatbodies-flora-ocean-tiger-bloom/',\n",
       " 'https://pitchfork.com/reviews/albums/ariana-grande-eternal-sunshine/',\n",
       " 'https://pitchfork.com/reviews/albums/dj-anderson-do-paraiso-queridao/',\n",
       " 'https://pitchfork.com/reviews/albums/swv-its-about-time/',\n",
       " 'https://pitchfork.com/reviews/albums/bolis-pupul-letter-to-yu/',\n",
       " 'https://pitchfork.com/reviews/albums/kim-gordon-the-collective/',\n",
       " 'https://pitchfork.com/reviews/albums/bleachers-bleachers/',\n",
       " 'https://pitchfork.com/reviews/albums/hannah-frances-the-keeper-of-the-shepherd/',\n",
       " 'https://pitchfork.com/reviews/albums/sheer-mag-playing-favorites/',\n",
       " 'https://pitchfork.com/reviews/albums/klwn-cat-sunmundi-lived-and-born/',\n",
       " 'https://pitchfork.com/reviews/albums/pissed-jeans-half-divorced/',\n",
       " 'https://pitchfork.com/reviews/albums/paco-panama-southside-sopranos/',\n",
       " 'https://pitchfork.com/reviews/albums/albert-hammond-body-of-work/',\n",
       " 'https://pitchfork.com/reviews/albums/ben-frost-scope-neglect/',\n",
       " 'https://pitchfork.com/reviews/albums/aya-lip-flip-ep/',\n",
       " 'https://pitchfork.com/reviews/albums/schoolboy-q-blue-lips/',\n",
       " 'https://pitchfork.com/reviews/albums/mary-timony-untame-the-tiger/',\n",
       " 'https://pitchfork.com/reviews/albums/stas-czekalaski-przygody/',\n",
       " 'https://pitchfork.com/reviews/albums/gin-blossoms-new-miserable-experience/',\n",
       " 'https://pitchfork.com/reviews/albums/kali-malone-all-life-long/',\n",
       " 'https://pitchfork.com/reviews/albums/faye-webster-underdressed-at-the-symphony/',\n",
       " 'https://pitchfork.com/reviews/albums/mixmaster-morris-jonah-sharp-haruomi-hosono-quiet-logic/',\n",
       " 'https://pitchfork.com/reviews/albums/wrecked-lightship-antiposition/',\n",
       " 'https://pitchfork.com/reviews/albums/mannequin-pussy-i-got-heaven/',\n",
       " 'https://pitchfork.com/reviews/albums/emahoy-tsegue-maryam-guebrou-souvenirs/',\n",
       " 'https://pitchfork.com/reviews/albums/geotic-the-anchorite/',\n",
       " 'https://pitchfork.com/reviews/albums/real-estate-daniel/',\n",
       " 'https://pitchfork.com/reviews/albums/heems-lapgan-lafandar/',\n",
       " 'https://pitchfork.com/reviews/albums/hurray-for-the-riff-raff-the-past-is-still-alive/',\n",
       " 'https://pitchfork.com/reviews/albums/ghost-second-time-around-temple-stone-ghost/',\n",
       " 'https://pitchfork.com/reviews/albums/yeat-2093/',\n",
       " 'https://pitchfork.com/reviews/albums/erika-de-casier-still/',\n",
       " 'https://pitchfork.com/reviews/albums/laryssa-kim-contezza/',\n",
       " 'https://pitchfork.com/reviews/albums/rafael-toral-spectral-evolution/',\n",
       " 'https://pitchfork.com/reviews/albums/ornette-coleman-science-fiction/',\n",
       " 'https://pitchfork.com/reviews/albums/laetitia-sadier-rooting-for-love/',\n",
       " 'https://pitchfork.com/reviews/albums/mgmt-loss-of-life/',\n",
       " 'https://pitchfork.com/reviews/albums/molly-lewis-on-the-lips/',\n",
       " 'https://pitchfork.com/reviews/albums/amiture-mother-engine/',\n",
       " 'https://pitchfork.com/reviews/albums/grandaddy-blu-wav/',\n",
       " 'https://pitchfork.com/reviews/albums/jennifer-lopez-this-is-me-now/',\n",
       " 'https://pitchfork.com/reviews/albums/loving-any-light/',\n",
       " 'https://pitchfork.com/reviews/albums/chromeo-adult-contemporary/',\n",
       " 'https://pitchfork.com/reviews/albums/jonny-from-space-back-then-i-didnt-but-now-i-do/',\n",
       " 'https://pitchfork.com/reviews/albums/serpentwithfeet-grip/',\n",
       " 'https://pitchfork.com/reviews/albums/little-simz-drop-7-ep/',\n",
       " 'https://pitchfork.com/reviews/albums/mariah-carey-the-emancipation-of-mimi/',\n",
       " 'https://pitchfork.com/reviews/albums/friko-where-weve-been-where-we-go-from-here/',\n",
       " 'https://pitchfork.com/reviews/albums/idles-tangk/',\n",
       " 'https://pitchfork.com/reviews/albums/itasca-imitation-of-war/',\n",
       " 'https://pitchfork.com/reviews/albums/mk-gee-two-star-and-the-dream-police/',\n",
       " 'https://pitchfork.com/reviews/albums/kanye-west-and-ty-dolla-sign-vultures-1/',\n",
       " 'https://pitchfork.com/reviews/albums/ducks-ltd-harms-way/',\n",
       " 'https://pitchfork.com/reviews/albums/ana-tijoux-vida/',\n",
       " 'https://pitchfork.com/reviews/albums/usher-coming-home/',\n",
       " 'https://pitchfork.com/reviews/albums/kelela-raven-the-remixes/',\n",
       " 'https://pitchfork.com/reviews/albums/sonic-youth-walls-have-ears/',\n",
       " 'https://pitchfork.com/reviews/albums/brittany-howard-what-now/',\n",
       " 'https://pitchfork.com/reviews/albums/ariel-kalma-jeremiah-chiu-and-marta-sofia-honer-the-closest-thing-to-silence/',\n",
       " 'https://pitchfork.com/reviews/albums/shygirl-club-shy-ep/',\n",
       " 'https://pitchfork.com/reviews/albums/pouty-forgot-about-me/',\n",
       " 'https://pitchfork.com/reviews/albums/madi-diaz-weird-faith/',\n",
       " 'https://pitchfork.com/reviews/albums/smerz-allina-ep/',\n",
       " 'https://pitchfork.com/reviews/albums/mercury-rev-yerself-is-steam/',\n",
       " 'https://pitchfork.com/reviews/albums/david-nance-david-nance-mowed-sound/',\n",
       " 'https://pitchfork.com/reviews/albums/helado-negro-phasor/',\n",
       " 'https://pitchfork.com/reviews/albums/crimeapple-preservation-el-leon/',\n",
       " 'https://pitchfork.com/reviews/albums/chelsea-wolfe-she-reaches-out-to-she-reaches-out-to-she/',\n",
       " 'https://pitchfork.com/reviews/albums/paul-mccartney-wings-band-on-the-run/',\n",
       " 'https://pitchfork.com/reviews/albums/the-paranoid-style-the-interrogator/',\n",
       " 'https://pitchfork.com/reviews/albums/burial-dreamfear-boy-sent-from-above-ep/',\n",
       " 'https://pitchfork.com/reviews/albums/fabiano-do-nascimento-sam-gendel-the-room/',\n",
       " 'https://pitchfork.com/reviews/albums/the-paranoid-style-the-interrogator/',\n",
       " 'https://pitchfork.com/reviews/albums/burial-dreamfear-boy-sent-from-above-ep/',\n",
       " 'https://pitchfork.com/reviews/albums/lee-scratch-perry-king-perry/',\n",
       " 'https://pitchfork.com/reviews/albums/office-dog-spiel/',\n",
       " 'https://pitchfork.com/reviews/albums/vijay-iyer-linda-may-han-oh-tyshawn-sorey-compassion/',\n",
       " 'https://pitchfork.com/reviews/albums/chatham-county-line-hiyo/',\n",
       " 'https://pitchfork.com/reviews/albums/katy-kirby-blue-raspberry/',\n",
       " 'https://pitchfork.com/reviews/albums/jeff-mills-live-at-the-liquid-room-tokyo/',\n",
       " 'https://pitchfork.com/reviews/albums/future-islands-people-who-arent-there-anymore/',\n",
       " 'https://pitchfork.com/reviews/albums/kevin-gates-the-ceremony/',\n",
       " 'https://pitchfork.com/reviews/albums/mary-halvorson-cloudward/',\n",
       " 'https://pitchfork.com/reviews/albums/nailah-hunter-lovegaze/',\n",
       " 'https://pitchfork.com/reviews/albums/j-mascis-what-do-we-do-now/',\n",
       " 'https://pitchfork.com/reviews/albums/90-day-men-we-blame-chicago/',\n",
       " 'https://pitchfork.com/reviews/albums/torres-what-an-enormous-room/',\n",
       " 'https://pitchfork.com/reviews/albums/los-wb-nutty-los-x-nutty/',\n",
       " 'https://pitchfork.com/reviews/albums/philip-glass-philip-glass-solo/',\n",
       " 'https://pitchfork.com/reviews/albums/evilgiane-heavensgate/',\n",
       " 'https://pitchfork.com/reviews/albums/brion-gysin-junk/',\n",
       " 'https://pitchfork.com/reviews/albums/angry-blackmen-the-legend-of-abm/',\n",
       " 'https://pitchfork.com/reviews/albums/ty-segall-three-bells/',\n",
       " 'https://pitchfork.com/reviews/albums/jake-muir-bathhouse-blues/',\n",
       " 'https://pitchfork.com/reviews/albums/lyrical-lemonade-all-is-yellow/',\n",
       " 'https://pitchfork.com/reviews/albums/roy-montgomery-temple-iv/',\n",
       " 'https://pitchfork.com/reviews/albums/joe-hisaishi-the-boy-and-the-heron-original-soundtrack/',\n",
       " 'https://pitchfork.com/reviews/albums/astrid-sonne-great-doubt/',\n",
       " 'https://pitchfork.com/reviews/albums/nicholas-craven-boldy-james-penalty-of-leadership/',\n",
       " 'https://pitchfork.com/reviews/albums/cowboy-sadness-selected-jambient-works-vol-1/',\n",
       " 'https://pitchfork.com/reviews/albums/the-smile-wall-of-eyes/',\n",
       " 'https://pitchfork.com/reviews/albums/ekkstacy-ekkstacy/',\n",
       " 'https://pitchfork.com/reviews/albums/ms-boogie-the-breakdown/',\n",
       " 'https://pitchfork.com/reviews/albums/xaviersobased-keep-it-going-xav/',\n",
       " 'https://pitchfork.com/reviews/albums/packs-melt-the-honey/',\n",
       " 'https://pitchfork.com/reviews/albums/umi-talking-to-the-wind/',\n",
       " 'https://pitchfork.com/reviews/albums/green-day-saviors/',\n",
       " 'https://pitchfork.com/reviews/albums/bolts-of-melody-film-noir/',\n",
       " 'https://pitchfork.com/reviews/albums/donato-dozzy-magda/',\n",
       " 'https://pitchfork.com/reviews/albums/loukeman-sd-2/',\n",
       " 'https://pitchfork.com/reviews/albums/cocteau-twins-head-over-heels/',\n",
       " 'https://pitchfork.com/reviews/albums/swervedriver-99th-dream/',\n",
       " 'https://pitchfork.com/reviews/albums/sleater-kinney-little-rope/',\n",
       " 'https://pitchfork.com/reviews/albums/kid-cudi-insano/',\n",
       " 'https://pitchfork.com/reviews/albums/bruiser-wolf-my-story-got-stories/',\n",
       " 'https://pitchfork.com/reviews/albums/21-savage-american-dream/',\n",
       " 'https://pitchfork.com/reviews/albums/at-are-you-there-god-its-me-at-ep/',\n",
       " 'https://pitchfork.com/reviews/albums/infant-island-obsidian-wreath/',\n",
       " 'https://pitchfork.com/reviews/albums/marika-hackman-big-sigh/',\n",
       " 'https://pitchfork.com/reviews/albums/starlito-love-drug/',\n",
       " 'https://pitchfork.com/reviews/albums/sprints-letter-to-self/',\n",
       " 'https://pitchfork.com/reviews/albums/bob-dylan-desire/',\n",
       " 'https://pitchfork.com/reviews/albums/lou-reed-hudson-river-wind-meditations/',\n",
       " 'https://pitchfork.com/reviews/albums/kali-uchis-orquideas/',\n",
       " 'https://pitchfork.com/reviews/albums/conway-the-machine-wun-two-palermo/',\n",
       " 'https://pitchfork.com/reviews/albums/malcria-fantasias-histericas/',\n",
       " 'https://pitchfork.com/reviews/albums/03-greedo-project-t-pain/',\n",
       " 'https://pitchfork.com/reviews/albums/lerado-khalil-dog-days/',\n",
       " 'https://pitchfork.com/reviews/albums/montanera-a-flor-de-piel/',\n",
       " 'https://pitchfork.com/reviews/albums/khadija-al-hanafi-slime-patrol-2/',\n",
       " 'https://pitchfork.com/reviews/albums/chuquimamani-condori-dj-e/',\n",
       " 'https://pitchfork.com/reviews/albums/salamanda-in-parallel/',\n",
       " 'https://pitchfork.com/reviews/albums/park-hye-jin-sail-the-seven-seas/',\n",
       " 'https://pitchfork.com/reviews/albums/aprxel-tapetumlucidum/',\n",
       " 'https://pitchfork.com/reviews/albums/brian-eno-ambient-1-music-for-airports/',\n",
       " 'https://pitchfork.com/reviews/albums/pauline-anna-strom-echoes-spaces-lines/',\n",
       " 'https://pitchfork.com/reviews/albums/sama-abdulhadi-fabric-presents-sama-abdulhadi/',\n",
       " 'https://pitchfork.com/reviews/albums/minhwi-lee-hometown-to-come/',\n",
       " 'https://pitchfork.com/reviews/albums/acopia-acopia/',\n",
       " 'https://pitchfork.com/reviews/albums/darius-jones-fluxkit-vancouver-its-suite-but-sacred/',\n",
       " 'https://pitchfork.com/reviews/albums/mo-troper-troper-sings-brion/',\n",
       " 'https://pitchfork.com/reviews/albums/czarface-czartificial-intelligence/',\n",
       " 'https://pitchfork.com/reviews/albums/niecy-blues-exit-simulation/',\n",
       " 'https://pitchfork.com/reviews/albums/honour-alaafia/',\n",
       " 'https://pitchfork.com/reviews/albums/spllit-infinite-hatch/',\n",
       " 'https://pitchfork.com/reviews/albums/various-artists-weavings-2/',\n",
       " 'https://pitchfork.com/reviews/albums/2-chainz-lil-wayne-welcome-2-collegrove/',\n",
       " 'https://pitchfork.com/reviews/albums/dorothy-carter-waillee-waillee/',\n",
       " 'https://pitchfork.com/reviews/albums/mj-lenderman-mj-lenderman/',\n",
       " 'https://pitchfork.com/reviews/albums/bory-whos-a-good-boy/',\n",
       " 'https://pitchfork.com/reviews/albums/glasser-crux/',\n",
       " 'https://pitchfork.com/reviews/albums/bad-boy-chiller-crew-influential/',\n",
       " 'https://pitchfork.com/reviews/albums/bas-we-only-talk-about-real-shit-when-were-fucked-up/',\n",
       " 'https://pitchfork.com/reviews/albums/jonathan-rado-for-who-the-bell-tolls-for/',\n",
       " 'https://pitchfork.com/reviews/albums/mint-field-aprender-a-ser/',\n",
       " 'https://pitchfork.com/reviews/albums/aso-aso/',\n",
       " 'https://pitchfork.com/reviews/albums/wishy-paradise-ep/',\n",
       " 'https://pitchfork.com/reviews/albums/au-pairs-playing-with-a-different-sex/',\n",
       " 'https://pitchfork.com/reviews/albums/war-the-world-is-a-ghetto-50th-anniversary-collectors-edition/',\n",
       " 'https://pitchfork.com/reviews/albums/tate-mcrae-think-later/',\n",
       " 'https://pitchfork.com/reviews/albums/daniel-ogren-fastingen-92/',\n",
       " 'https://pitchfork.com/reviews/albums/evian-christ-revanchist/',\n",
       " 'https://pitchfork.com/reviews/albums/az-truth-be-told/',\n",
       " 'https://pitchfork.com/reviews/albums/virginia-astley-the-singing-places/',\n",
       " 'https://pitchfork.com/reviews/albums/jules-reidy-trances/',\n",
       " 'https://pitchfork.com/reviews/albums/tara-clerkin-trio-on-the-turning-ground-ep/',\n",
       " 'https://pitchfork.com/reviews/albums/ricardo-villalobos-alcachofa-2023-reissue/',\n",
       " 'https://pitchfork.com/reviews/albums/elzhi-oh-no-heavy-vibrato/',\n",
       " 'https://pitchfork.com/reviews/albums/nicki-minaj-pink-friday-2/',\n",
       " 'https://pitchfork.com/reviews/albums/epilogio-cromo-rx/',\n",
       " 'https://pitchfork.com/reviews/albums/rod-stewart-every-picture-tells-a-story/',\n",
       " 'https://pitchfork.com/reviews/albums/various-artists-tokyo-riddim-1976-1985/',\n",
       " 'https://pitchfork.com/reviews/albums/james-elkington-me-neither/',\n",
       " 'https://pitchfork.com/reviews/albums/pelada-ahora-mas-que-nunca/',\n",
       " 'https://pitchfork.com/reviews/albums/melenas-ahora/',\n",
       " 'https://pitchfork.com/reviews/albums/full-of-hell-nothing-when-no-birds-sang/',\n",
       " 'https://pitchfork.com/reviews/albums/lauren-flax-liz-and-lauren-ep/',\n",
       " 'https://pitchfork.com/reviews/albums/o-slice-ep/',\n",
       " 'https://pitchfork.com/reviews/albums/dj-ramon-sucesso-sexta-dos-crias/',\n",
       " 'https://pitchfork.com/reviews/albums/jolie-laide-jolie-laide/',\n",
       " 'https://pitchfork.com/reviews/albums/rxk-nephew-harry-fraud-life-after-neph/',\n",
       " 'https://pitchfork.com/reviews/albums/frog-grog/',\n",
       " 'https://pitchfork.com/reviews/albums/sunwatchers-music-is-victory-over-time/',\n",
       " 'https://pitchfork.com/reviews/albums/snow-strippers-night-killaz-vol1-ep/',\n",
       " 'https://pitchfork.com/reviews/albums/david-michael-moore-adagio-fishing/',\n",
       " 'https://pitchfork.com/reviews/albums/tar-of-confidence-freaks-me-out/',\n",
       " 'https://pitchfork.com/reviews/albums/paramore-riot/',\n",
       " 'https://pitchfork.com/reviews/albums/devo-50-years-of-de-evolution-1973-2023/',\n",
       " 'https://pitchfork.com/reviews/albums/peter-gabriel-i-o/',\n",
       " 'https://pitchfork.com/reviews/albums/spencer-zahn-statues-i-statues-ii/',\n",
       " 'https://pitchfork.com/reviews/albums/feeling-figures-migration-magic/',\n",
       " 'https://pitchfork.com/reviews/albums/daniel-bachman-when-the-roses-come-again/',\n",
       " 'https://pitchfork.com/reviews/albums/dj-manny-hypnotized/',\n",
       " 'https://pitchfork.com/reviews/albums/41-41-world-not-the-album/',\n",
       " 'https://pitchfork.com/reviews/albums/bryan-ferry-mamouna-deluxe/',\n",
       " 'https://pitchfork.com/reviews/albums/priya-ragu-santhosam/',\n",
       " 'https://pitchfork.com/reviews/albums/reverend-kristin-michael-hayter-saved/',\n",
       " 'https://pitchfork.com/reviews/albums/sen-morimoto-diagnosis/',\n",
       " 'https://pitchfork.com/reviews/albums/larry-june-cardo-the-night-shift/',\n",
       " 'https://pitchfork.com/reviews/albums/mariah-the-scientist-to-be-eaten-alive/',\n",
       " 'https://pitchfork.com/reviews/albums/derek-bailey-paul-motian-duo-in-concert/',\n",
       " 'https://pitchfork.com/reviews/albums/various-artists-synthetic-bird-music/',\n",
       " 'https://pitchfork.com/reviews/albums/ingri-hoyland-ode-to-stone/',\n",
       " 'https://pitchfork.com/reviews/albums/fun-boy-three-fun-boy-three/',\n",
       " 'https://pitchfork.com/reviews/albums/bob-dylan-the-complete-budokan-1978/',\n",
       " 'https://pitchfork.com/reviews/albums/dolly-parton-rockstar/',\n",
       " 'https://pitchfork.com/reviews/albums/vince-guaraldi-quintet-a-charlie-brown-thanksgiving/',\n",
       " 'https://pitchfork.com/reviews/albums/mj-lenderman-and-the-wind-live-and-loose/',\n",
       " 'https://pitchfork.com/reviews/albums/thandi-ntuli-carlos-nino-rainbow-revisited/',\n",
       " 'https://pitchfork.com/reviews/albums/rainy-miller-space-afrika-a-grisaille-wedding/',\n",
       " 'https://pitchfork.com/reviews/albums/andre-3000-new-blue-sun/',\n",
       " 'https://pitchfork.com/reviews/albums/kurt-vile-back-to-moon-beach-ep/',\n",
       " 'https://pitchfork.com/reviews/albums/frost-children-hearth-room/',\n",
       " 'https://pitchfork.com/reviews/albums/frank-zappa-jazz-from-hell/',\n",
       " 'https://pitchfork.com/reviews/albums/acetone-im-still-waiting/',\n",
       " 'https://pitchfork.com/reviews/albums/danny-brown-quaranta/',\n",
       " 'https://pitchfork.com/reviews/albums/h31r-headspace/',\n",
       " 'https://pitchfork.com/reviews/albums/babyxsosa-babyxsosa-ep/',\n",
       " 'https://pitchfork.com/reviews/albums/ali-sethi-nicolas-jaar-intiha/',\n",
       " 'https://pitchfork.com/reviews/albums/daft-punk-random-access-memories-drumless-edition/',\n",
       " 'https://pitchfork.com/reviews/albums/cat-power-cat-power-sings-dylan-the-1966-royal-albert-hall-concert/',\n",
       " 'https://pitchfork.com/reviews/albums/william-eggleston-512/',\n",
       " 'https://pitchfork.com/reviews/albums/patrick-shiroishi-i-was-too-young-to-hear-silence/',\n",
       " 'https://pitchfork.com/reviews/albums/beirut-hadsel/',\n",
       " 'https://pitchfork.com/reviews/albums/foodman-uchigawa-tankentai-ep/',\n",
       " 'https://pitchfork.com/reviews/albums/spiritual-cramp-spiritual-cramp/',\n",
       " 'https://pitchfork.com/reviews/albums/baby-queen-quarter-life-crisis/',\n",
       " 'https://pitchfork.com/reviews/albums/tyvek-overground/',\n",
       " 'https://pitchfork.com/reviews/albums/che-crueger-ep/',\n",
       " 'https://pitchfork.com/reviews/albums/aesop-rock-integrated-tech-solutions/',\n",
       " 'https://pitchfork.com/reviews/albums/mon-laferte-autopoietica/',\n",
       " 'https://pitchfork.com/reviews/albums/aisha-devi-death-is-home/',\n",
       " 'https://pitchfork.com/reviews/albums/daniel-villareal-lados-b/',\n",
       " 'https://pitchfork.com/reviews/albums/ace-of-base-the-sign/',\n",
       " 'https://pitchfork.com/reviews/albums/rem-up-25th-anniversary-edition/',\n",
       " 'https://pitchfork.com/reviews/albums/jockstrap-i3uqtinvu/',\n",
       " 'https://pitchfork.com/reviews/albums/pink-pantheress-heaven-knows/',\n",
       " 'https://pitchfork.com/reviews/albums/empty-country-empty-country-ii/',\n",
       " 'https://pitchfork.com/reviews/albums/alien-nosejob-the-derivative-sounds-of-or-a-dog-always-returns-to-its-vomit/',\n",
       " 'https://pitchfork.com/reviews/albums/forest-swords-bolted/',\n",
       " 'https://pitchfork.com/reviews/albums/matmos-return-to-archive/',\n",
       " 'https://pitchfork.com/reviews/albums/ml-buch-suntub/',\n",
       " 'https://pitchfork.com/reviews/albums/kevin-drew-aging/',\n",
       " 'https://pitchfork.com/reviews/albums/marnie-stern-the-comeback-kid/',\n",
       " 'https://pitchfork.com/reviews/albums/kevin-abstract-blanket/',\n",
       " 'https://pitchfork.com/reviews/albums/ian-sweet-sucker/',\n",
       " 'https://pitchfork.com/reviews/albums/king-gizzard-and-the-lizard-wizard-the-silver-cord/',\n",
       " 'https://pitchfork.com/reviews/albums/bar-italia-the-twits/',\n",
       " 'https://pitchfork.com/reviews/albums/maria-jose-llergo-ultrabelleza/',\n",
       " 'https://pitchfork.com/reviews/albums/murda-beatz-shordie-shordie-memory-lane-2/',\n",
       " 'https://pitchfork.com/reviews/albums/sarah-davachi-long-gradus/',\n",
       " 'https://pitchfork.com/reviews/albums/actress-lxxxviii/',\n",
       " 'https://pitchfork.com/reviews/albums/drop-nineteens-hard-light/',\n",
       " 'https://pitchfork.com/reviews/albums/amor-muere-a-time-to-love-a-time-to-die/',\n",
       " 'https://pitchfork.com/reviews/albums/klein-touched-by-an-angel/',\n",
       " 'https://pitchfork.com/reviews/albums/buju-banton-til-shiloh/',\n",
       " 'https://pitchfork.com/reviews/albums/dave-matthews-band-before-these-crowded-streets/',\n",
       " 'https://pitchfork.com/reviews/albums/hotline-tnt-cartwheel/',\n",
       " 'https://pitchfork.com/reviews/albums/oasis-the-masterplan-remastered-edition/',\n",
       " 'https://pitchfork.com/reviews/albums/tkay-maidza-sweet-justice/',\n",
       " 'https://pitchfork.com/reviews/albums/ryan-davis-and-the-roadhouse-band-dancing-on-the-edge/',\n",
       " 'https://pitchfork.com/reviews/albums/titanic-vidrio/',\n",
       " 'https://pitchfork.com/reviews/albums/the-american-analog-set-for-forever/',\n",
       " 'https://pitchfork.com/reviews/albums/the-serfs-half-eaten-by-dogs/',\n",
       " 'https://pitchfork.com/reviews/albums/the-mountain-goats-jenny-from-thebes/',\n",
       " 'https://pitchfork.com/reviews/albums/brent-faiyaz-larger-than-life/',\n",
       " 'https://pitchfork.com/reviews/albums/marina-herlop-nekkuja/',\n",
       " 'https://pitchfork.com/reviews/albums/new-age-doom-tuvaband-there-is-no-end/',\n",
       " 'https://pitchfork.com/reviews/albums/ragana-desolations-flower/',\n",
       " 'https://pitchfork.com/reviews/albums/shabazz-palaces-robed-in-rareness/',\n",
       " 'https://pitchfork.com/reviews/albums/awakebutstillinbed-chaos-takes-the-wheel-and-i-am-a-passenger/',\n",
       " 'https://pitchfork.com/reviews/albums/galya-bisengalieva-polygon/',\n",
       " 'https://pitchfork.com/reviews/albums/taylor-swift-1989-taylors-version/',\n",
       " 'https://pitchfork.com/reviews/albums/sampha-lahai/',\n",
       " 'https://pitchfork.com/reviews/albums/prince-and-the-new-power-generation-diamonds-and-pearls-super-deluxe-edition/',\n",
       " 'https://pitchfork.com/reviews/albums/dj-shadow-action-adventure/',\n",
       " 'https://pitchfork.com/reviews/albums/the-sisters-of-mercy-floodland/',\n",
       " 'https://pitchfork.com/reviews/albums/faye-wong-please-myself-decadent-sound-of-faye-di-dar-fuzao/',\n",
       " 'https://pitchfork.com/reviews/albums/sofia-kourtesis-madres/',\n",
       " 'https://pitchfork.com/reviews/albums/lee-gamble-models/',\n",
       " 'https://pitchfork.com/reviews/albums/wild-nothing-hold/',\n",
       " 'https://pitchfork.com/reviews/albums/katie-von-schleicher-a-little-touch-of-schleicher-in-the-night/',\n",
       " 'https://pitchfork.com/reviews/albums/city-girls-raw/',\n",
       " 'https://pitchfork.com/reviews/albums/maria-bc-spike-field/',\n",
       " 'https://pitchfork.com/reviews/albums/sparkle-division-foxy/',\n",
       " 'https://pitchfork.com/reviews/albums/pink-navel-kenny-segal-how-to-capture-playful/',\n",
       " 'https://pitchfork.com/reviews/albums/cupid-and-psyche-romantic-music/',\n",
       " 'https://pitchfork.com/reviews/albums/judgitzu-sator-arepo/',\n",
       " 'https://pitchfork.com/reviews/albums/salmon-graveyard-salmon-graveyard/',\n",
       " 'https://pitchfork.com/reviews/albums/blink-182-one-more-time/',\n",
       " 'https://pitchfork.com/reviews/albums/anoushka-shankar-chapter-i-forever-for-now-ep/',\n",
       " 'https://pitchfork.com/reviews/albums/sam-gendel-marcella-cytrynowicz-audiobook/',\n",
       " 'https://pitchfork.com/reviews/albums/olof-dreijer-rosa-rugosa-ep/',\n",
       " 'https://pitchfork.com/reviews/albums/the-streets-the-darker-the-shadow-the-brighter-the-light/',\n",
       " 'https://pitchfork.com/reviews/albums/offset-set-it-off/',\n",
       " 'https://pitchfork.com/reviews/albums/green-house-a-host-for-all-kinds-of-life/',\n",
       " 'https://pitchfork.com/reviews/albums/lost-girls-selvutsletter/',\n",
       " 'https://pitchfork.com/reviews/albums/jim-jones-harlem-diary-of-a-summer/',\n",
       " 'https://pitchfork.com/reviews/albums/the-feelies-some-kinda-love-performing-the-music-of-the-velvet-underground/',\n",
       " 'https://pitchfork.com/reviews/albums/jane-remover-census-designated/',\n",
       " 'https://pitchfork.com/reviews/albums/the-rolling-stones-hackney-diamonds/',\n",
       " 'https://pitchfork.com/reviews/albums/the-drums-jonny/',\n",
       " 'https://pitchfork.com/reviews/albums/harry-fraud-jay-worthy-kamaiyah-the-am3rican-dream/',\n",
       " 'https://pitchfork.com/reviews/albums/ken-carson-a-great-chaos/',\n",
       " 'https://pitchfork.com/reviews/albums/tex-crick-sweet-dreamin/',\n",
       " 'https://pitchfork.com/reviews/albums/sarah-morrison-attachment-figure/',\n",
       " 'https://pitchfork.com/reviews/albums/vanishing-twin-afternoon-x/',\n",
       " 'https://pitchfork.com/reviews/albums/mike-burning-desire/',\n",
       " 'https://pitchfork.com/reviews/albums/westside-gunn-and-then-you-pray-for-me/',\n",
       " 'https://pitchfork.com/reviews/albums/devstacks-scriptures/',\n",
       " 'https://pitchfork.com/reviews/albums/squirrel-flower-tomorrows-fire/',\n",
       " 'https://pitchfork.com/reviews/albums/bad-bunny-nadie-sabe-lo-que-va-a-pasar-manana/',\n",
       " 'https://pitchfork.com/reviews/albums/jamila-woods-water-made-us/',\n",
       " 'https://pitchfork.com/reviews/albums/holly-humberstone-paint-my-bedroom-black/',\n",
       " 'https://pitchfork.com/reviews/albums/troye-sivan-something-to-give-each-other/',\n",
       " 'https://pitchfork.com/reviews/albums/helena-deland-goodnight-summerland/',\n",
       " 'https://pitchfork.com/reviews/albums/call-super-eulo-cramps/',\n",
       " 'https://pitchfork.com/reviews/albums/slauson-malone-excelsior/',\n",
       " 'https://pitchfork.com/reviews/albums/the-waitresses-wasnt-tomorrow-wonderful/',\n",
       " 'https://pitchfork.com/reviews/albums/hiroshi-yoshimura-surround/',\n",
       " 'https://pitchfork.com/reviews/albums/boygenius-the-rest-ep/',\n",
       " 'https://pitchfork.com/reviews/albums/archives-vol-3-the-asylum-years-1972-1975/',\n",
       " 'https://pitchfork.com/reviews/albums/truth-club-running-from-the-chase/',\n",
       " 'https://pitchfork.com/reviews/albums/genn-unum/',\n",
       " 'https://pitchfork.com/reviews/albums/lrain-i-killed-your-dog/',\n",
       " 'https://pitchfork.com/reviews/albums/meerna-so-far-so-good/',\n",
       " 'https://pitchfork.com/reviews/albums/mutual-benefit-growing-at-the-edges/',\n",
       " 'https://pitchfork.com/reviews/albums/heatmiser-the-music-of-heatmiser/',\n",
       " 'https://pitchfork.com/reviews/albums/babyfxce-the-x-tape/',\n",
       " 'https://pitchfork.com/reviews/albums/maiya-the-don-hot-commodity/',\n",
       " 'https://pitchfork.com/reviews/albums/jlin-perspective-ep/',\n",
       " 'https://pitchfork.com/reviews/albums/mary-lattimore-goodbye-hotel-arkada/',\n",
       " 'https://pitchfork.com/reviews/albums/the-darkness-permission-to-land-again-20th-anniversary-edition/',\n",
       " 'https://pitchfork.com/reviews/albums/husker-du-tonite-longhorn/',\n",
       " 'https://pitchfork.com/reviews/albums/drake-for-all-the-dogs/',\n",
       " 'https://pitchfork.com/reviews/albums/hannah-diamond-perfect-picture/',\n",
       " 'https://pitchfork.com/reviews/albums/various-artists-the-nid-tapes-electronic-music-from-india-1969-1972/',\n",
       " 'https://pitchfork.com/reviews/albums/adeline-hotel-hot-fruit/',\n",
       " 'https://pitchfork.com/reviews/albums/too-short-gettin-it-album-number-ten/',\n",
       " 'https://pitchfork.com/reviews/albums/leo-takami-next-door/',\n",
       " 'https://pitchfork.com/reviews/albums/pangaea-changing-channels/',\n",
       " 'https://pitchfork.com/reviews/albums/a-savage-several-songs-about-fire/',\n",
       " 'https://pitchfork.com/reviews/albums/hemlocke-springs-going-going-gone-ep/',\n",
       " 'https://pitchfork.com/reviews/albums/lewsberg-out-and-about/',\n",
       " 'https://pitchfork.com/reviews/albums/sufjan-stevens-javelin/',\n",
       " 'https://pitchfork.com/reviews/albums/cherry-glazerr-i-dont-want-you-anymore/',\n",
       " 'https://pitchfork.com/reviews/albums/slow-pulp-yard/',\n",
       " 'https://pitchfork.com/reviews/albums/maxo-debbies-son/',\n",
       " 'https://pitchfork.com/reviews/albums/kmru-dissolution-grip/',\n",
       " 'https://pitchfork.com/reviews/albums/mj-nebreda-arepa-mixtape/',\n",
       " 'https://pitchfork.com/reviews/albums/setting-shone-a-rainbow-light-on/',\n",
       " 'https://pitchfork.com/reviews/albums/armand-hammer-we-buy-diabetic-test-strips/',\n",
       " 'https://pitchfork.com/reviews/albums/modern-nature-no-fixed-point-in-space/',\n",
       " 'https://pitchfork.com/reviews/albums/teenage-fanclub-nothing-lasts-forever/',\n",
       " 'https://pitchfork.com/reviews/albums/thanks-for-coming-what-is-my-capacity-to-love-ep/',\n",
       " 'https://pitchfork.com/reviews/albums/oneohtrix-point-never-again/',\n",
       " 'https://pitchfork.com/reviews/albums/jorja-smith-falling-or-flying/',\n",
       " 'https://pitchfork.com/reviews/albums/tyler-childers-rustin-in-the-rain/',\n",
       " 'https://pitchfork.com/reviews/albums/shittyboyz-trifecta-3-the-finale/',\n",
       " 'https://pitchfork.com/reviews/albums/mary-j-blige-the-breakthrough/',\n",
       " 'https://pitchfork.com/reviews/albums/the-who-whos-next-life-house-super-deluxe/',\n",
       " 'https://pitchfork.com/reviews/albums/animal-collective-isnt-it-now/',\n",
       " 'https://pitchfork.com/reviews/albums/blonde-redhead-sit-down-for-dinner/',\n",
       " 'https://pitchfork.com/reviews/albums/cleo-sol-heaven/',\n",
       " 'https://pitchfork.com/reviews/albums/purelink-signs/',\n",
       " 'https://pitchfork.com/reviews/albums/wilco-cousin/',\n",
       " 'https://pitchfork.com/reviews/albums/mike-wiki-the-alchemist-faith-is-a-rock/',\n",
       " 'https://pitchfork.com/reviews/albums/chai-chai/',\n",
       " 'https://pitchfork.com/reviews/albums/nation-of-language-strange-disciple/',\n",
       " 'https://pitchfork.com/reviews/albums/loraine-james-gentle-confrontation/',\n",
       " 'https://pitchfork.com/reviews/albums/chappell-roan-the-rise-and-fall-of-a-midwest-princess/',\n",
       " 'https://pitchfork.com/reviews/albums/eartheater-powders/',\n",
       " 'https://pitchfork.com/reviews/albums/laurel-halo-atlas/',\n",
       " 'https://pitchfork.com/reviews/albums/devendra-banhart-flying-wig/',\n",
       " 'https://pitchfork.com/reviews/albums/alain-goraguer-la-planete-sauvage-expanded-original-soundtrack/',\n",
       " 'https://pitchfork.com/reviews/albums/doja-cat-scarlet/',\n",
       " 'https://pitchfork.com/reviews/albums/mykki-blanco-postcards-from-italia-ep/',\n",
       " 'https://pitchfork.com/reviews/albums/follakzoid-v/',\n",
       " 'https://pitchfork.com/reviews/albums/soccer-mommy-karaoke-night-ep/',\n",
       " 'https://pitchfork.com/reviews/albums/sam-cooke-one-night-stand-live-at-the-harlem-square-club-1963/',\n",
       " 'https://pitchfork.com/reviews/albums/the-replacements-tim-let-it-bleed-edition/',\n",
       " 'https://pitchfork.com/reviews/albums/yeule-softscars/',\n",
       " 'https://pitchfork.com/reviews/albums/alan-palomo-world-of-hassle/',\n",
       " 'https://pitchfork.com/reviews/albums/vagabon-sorry-i-havent-called/',\n",
       " 'https://pitchfork.com/reviews/albums/lydia-loveless-nothings-gonna-stand-in-my-way-again/',\n",
       " 'https://pitchfork.com/reviews/albums/kylie-minogue-tension/',\n",
       " 'https://pitchfork.com/reviews/albums/lil-peep-ilovemakonnen-diamonds/',\n",
       " 'https://pitchfork.com/reviews/albums/cash-cobain-pretty-girls-love-slizzy/',\n",
       " 'https://pitchfork.com/reviews/albums/baroness-stone/',\n",
       " 'https://pitchfork.com/reviews/albums/octo-octa-dreams-of-a-dancefloor-ep/',\n",
       " 'https://pitchfork.com/reviews/albums/dj-sabrina-the-teenage-dj-destiny/',\n",
       " 'https://pitchfork.com/reviews/albums/eli-escobar-the-beach-album/',\n",
       " 'https://pitchfork.com/reviews/albums/tomb-mold-the-enduring-spirit/',\n",
       " 'https://pitchfork.com/reviews/albums/ralphie-choo-supernova/',\n",
       " 'https://pitchfork.com/reviews/albums/irreversible-entanglements-protect-your-light/',\n",
       " 'https://pitchfork.com/reviews/albums/sarah-mary-chadwick-messages-to-god/',\n",
       " 'https://pitchfork.com/reviews/albums/the-national-laugh-track/',\n",
       " 'https://pitchfork.com/reviews/albums/buju-banton-born-for-greatness/',\n",
       " 'https://pitchfork.com/reviews/albums/piotr-kurek-smartwoods/',\n",
       " 'https://pitchfork.com/reviews/albums/subsonic-eye-all-around-you/',\n",
       " 'https://pitchfork.com/reviews/albums/gillian-welch-time-the-revelator/',\n",
       " 'https://pitchfork.com/reviews/albums/pharoah-sanders-pharoah/']"
      ]
     },
     "execution_count": 6,
     "metadata": {},
     "output_type": "execute_result"
    }
   ],
   "source": [
    "url_list"
   ]
  },
  {
   "cell_type": "code",
   "execution_count": 6,
   "id": "e6f0b7e8",
   "metadata": {},
   "outputs": [
    {
     "name": "stdout",
     "output_type": "stream",
     "text": [
      "Extracting from URL number: 100\n",
      "Extracting from URL number: 200\n",
      "Extracting from URL number: 300\n",
      "Extracting from URL number: 400\n",
      "Extracting from URL number: 500\n",
      "Extracting from URL number: 600\n",
      "Extracting from URL number: 700\n",
      "Extracting from URL number: 800\n"
     ]
    }
   ],
   "source": [
    "# Loop over each URL and extract the review data\n",
    "x=0\n",
    "for url in url_list:\n",
    "    x+=1 # increment\n",
    "    review_data = extract_review_data(url)\n",
    "    data.append(review_data)\n",
    "    # Check if x is a multiple of 100\n",
    "    if x % 100 == 0:\n",
    "        print(\"Extracting from URL number:\", x)\n",
    "    \n",
    "    # Add a delay to avoid getting blocked\n",
    "    time.sleep(2)\n",
    "\n",
    "# Convert the list of dictionaries into a DataFrame\n",
    "df = pd.DataFrame(data)"
   ]
  },
  {
   "cell_type": "code",
   "execution_count": 2,
   "id": "e31a5537",
   "metadata": {
    "scrolled": true
   },
   "outputs": [
    {
     "ename": "NameError",
     "evalue": "name 'df' is not defined",
     "output_type": "error",
     "traceback": [
      "\u001b[0;31m---------------------------------------------------------------------------\u001b[0m",
      "\u001b[0;31mNameError\u001b[0m                                 Traceback (most recent call last)",
      "Input \u001b[0;32mIn [2]\u001b[0m, in \u001b[0;36m<cell line: 1>\u001b[0;34m()\u001b[0m\n\u001b[0;32m----> 1\u001b[0m \u001b[43mdf\u001b[49m\n",
      "\u001b[0;31mNameError\u001b[0m: name 'df' is not defined"
     ]
    }
   ],
   "source": [
    "df"
   ]
  },
  {
   "cell_type": "code",
   "execution_count": 16,
   "id": "a598fecf",
   "metadata": {},
   "outputs": [],
   "source": [
    "# set Genre to only keep first genre, split text based on / and white space\n",
    "df['Genre'] = df['Genre'].str.split(pat='[/ ]', n=1).str[0]"
   ]
  },
  {
   "cell_type": "code",
   "execution_count": 18,
   "id": "0517757c",
   "metadata": {},
   "outputs": [],
   "source": [
    "# Export data file to desktop\n",
    "df.to_csv('/Users/simoncrouch/Desktop/review_data.csv', index=False)\n",
    "# check that index=False has worked"
   ]
  },
  {
   "cell_type": "markdown",
   "id": "a526e8b6",
   "metadata": {},
   "source": [
    "### Data Analysis\n",
    "\n",
    "Shown below is a high level analysis of the collected data.\n",
    "Number of reviews and number by genre + average score of each genre\n",
    "Histogram of scores"
   ]
  },
  {
   "cell_type": "code",
   "execution_count": 13,
   "id": "d166d34d",
   "metadata": {},
   "outputs": [],
   "source": [
    "# Data loaded so that we do not need to re-run the above. DELETE OR COMMENT OUT LATER\n",
    "df = pd.read_csv(\"review_data.csv\")"
   ]
  },
  {
   "cell_type": "code",
   "execution_count": 14,
   "id": "7a0df722",
   "metadata": {
    "scrolled": true
   },
   "outputs": [
    {
     "name": "stdout",
     "output_type": "stream",
     "text": [
      "Our data set contains the text for 805 reviews. \n",
      "Displayed below are two plots showing the breakdown of reviews by genre and score.\n"
     ]
    }
   ],
   "source": [
    "print(\"Our data set contains the text for\", len(df), \"reviews.\",\"\\nDisplayed below are two plots showing the breakdown of reviews by genre and score.\")"
   ]
  },
  {
   "cell_type": "code",
   "execution_count": 15,
   "id": "65a2aac0",
   "metadata": {},
   "outputs": [],
   "source": [
    "# remove second index list\n",
    "df = df.iloc[:, 1:]"
   ]
  },
  {
   "cell_type": "code",
   "execution_count": 16,
   "id": "546dc1db",
   "metadata": {},
   "outputs": [
    {
     "data": {
      "text/html": [
       "<div>\n",
       "<style scoped>\n",
       "    .dataframe tbody tr th:only-of-type {\n",
       "        vertical-align: middle;\n",
       "    }\n",
       "\n",
       "    .dataframe tbody tr th {\n",
       "        vertical-align: top;\n",
       "    }\n",
       "\n",
       "    .dataframe thead th {\n",
       "        text-align: right;\n",
       "    }\n",
       "</style>\n",
       "<table border=\"1\" class=\"dataframe\">\n",
       "  <thead>\n",
       "    <tr style=\"text-align: right;\">\n",
       "      <th></th>\n",
       "      <th>Text</th>\n",
       "      <th>Genre</th>\n",
       "      <th>Score</th>\n",
       "    </tr>\n",
       "  </thead>\n",
       "  <tbody>\n",
       "    <tr>\n",
       "      <th>0</th>\n",
       "      <td>Ten years after his big solo debut, the UK pro...</td>\n",
       "      <td>Electronic</td>\n",
       "      <td>7.3</td>\n",
       "    </tr>\n",
       "    <tr>\n",
       "      <th>1</th>\n",
       "      <td>Riding the success of singles “Like That!” and...</td>\n",
       "      <td>Pop</td>\n",
       "      <td>7.2</td>\n",
       "    </tr>\n",
       "    <tr>\n",
       "      <th>2</th>\n",
       "      <td>On their debut collaboration, the beatmaker an...</td>\n",
       "      <td>Electronic</td>\n",
       "      <td>7.8</td>\n",
       "    </tr>\n",
       "    <tr>\n",
       "      <th>3</th>\n",
       "      <td>The Philly group’s second live album is a cele...</td>\n",
       "      <td>Rock</td>\n",
       "      <td>7.9</td>\n",
       "    </tr>\n",
       "    <tr>\n",
       "      <th>4</th>\n",
       "      <td>Laser eye surgery enabled the guitarist to see...</td>\n",
       "      <td>American</td>\n",
       "      <td>7.7</td>\n",
       "    </tr>\n",
       "    <tr>\n",
       "      <th>...</th>\n",
       "      <td>...</td>\n",
       "      <td>...</td>\n",
       "      <td>...</td>\n",
       "    </tr>\n",
       "    <tr>\n",
       "      <th>800</th>\n",
       "      <td>The reggae veteran’s new studio album doesn’t ...</td>\n",
       "      <td>Pop</td>\n",
       "      <td>6.7</td>\n",
       "    </tr>\n",
       "    <tr>\n",
       "      <th>801</th>\n",
       "      <td>In diaphanous compositions like color field pa...</td>\n",
       "      <td>Experimental</td>\n",
       "      <td>7.5</td>\n",
       "    </tr>\n",
       "    <tr>\n",
       "      <th>802</th>\n",
       "      <td>The Singaporean band’s new album showcases a p...</td>\n",
       "      <td>Rock</td>\n",
       "      <td>7.2</td>\n",
       "    </tr>\n",
       "    <tr>\n",
       "      <th>803</th>\n",
       "      <td>Each Sunday, Pitchfork takes an in-depth look ...</td>\n",
       "      <td>Folk</td>\n",
       "      <td>9.6</td>\n",
       "    </tr>\n",
       "    <tr>\n",
       "      <th>804</th>\n",
       "      <td>This 1977 album was obscure in its day, but it...</td>\n",
       "      <td>Jazz</td>\n",
       "      <td>8.9</td>\n",
       "    </tr>\n",
       "  </tbody>\n",
       "</table>\n",
       "<p>805 rows × 3 columns</p>\n",
       "</div>"
      ],
      "text/plain": [
       "                                                  Text         Genre  Score\n",
       "0    Ten years after his big solo debut, the UK pro...    Electronic    7.3\n",
       "1    Riding the success of singles “Like That!” and...           Pop    7.2\n",
       "2    On their debut collaboration, the beatmaker an...    Electronic    7.8\n",
       "3    The Philly group’s second live album is a cele...          Rock    7.9\n",
       "4    Laser eye surgery enabled the guitarist to see...      American    7.7\n",
       "..                                                 ...           ...    ...\n",
       "800  The reggae veteran’s new studio album doesn’t ...           Pop    6.7\n",
       "801  In diaphanous compositions like color field pa...  Experimental    7.5\n",
       "802  The Singaporean band’s new album showcases a p...          Rock    7.2\n",
       "803  Each Sunday, Pitchfork takes an in-depth look ...          Folk    9.6\n",
       "804  This 1977 album was obscure in its day, but it...          Jazz    8.9\n",
       "\n",
       "[805 rows x 3 columns]"
      ]
     },
     "execution_count": 16,
     "metadata": {},
     "output_type": "execute_result"
    }
   ],
   "source": [
    "df"
   ]
  },
  {
   "cell_type": "code",
   "execution_count": 17,
   "id": "75f94e0a",
   "metadata": {},
   "outputs": [
    {
     "name": "stdout",
     "output_type": "stream",
     "text": [
      "Empty DataFrame\n",
      "Columns: [Text, Genre, Score]\n",
      "Index: []\n"
     ]
    }
   ],
   "source": [
    "null_genre_rows = df[df['Genre'].isna()]\n",
    "print(null_genre_rows)"
   ]
  },
  {
   "cell_type": "code",
   "execution_count": 18,
   "id": "04b24d7e",
   "metadata": {
    "scrolled": false
   },
   "outputs": [
    {
     "name": "stdout",
     "output_type": "stream",
     "text": [
      "Rock            240\n",
      "Electronic      141\n",
      "Rap             131\n",
      "Pop             117\n",
      "Experimental     77\n",
      "Folk             50\n",
      "Jazz             27\n",
      "Metal            12\n",
      "NTS               1\n",
      "Mappa             1\n",
      "Time              1\n",
      "Other             1\n",
      "Strut             1\n",
      "A24               1\n",
      "Rvng              1\n",
      "Rawkus            1\n",
      "American          1\n",
      "The               1\n",
      "Name: Genre, dtype: int64\n"
     ]
    }
   ],
   "source": [
    "genre_counts = df['Genre'].value_counts()\n",
    "print(genre_counts)"
   ]
  },
  {
   "cell_type": "code",
   "execution_count": 19,
   "id": "f3418ba9",
   "metadata": {
    "scrolled": true
   },
   "outputs": [
    {
     "data": {
      "text/html": [
       "<div>\n",
       "<style scoped>\n",
       "    .dataframe tbody tr th:only-of-type {\n",
       "        vertical-align: middle;\n",
       "    }\n",
       "\n",
       "    .dataframe tbody tr th {\n",
       "        vertical-align: top;\n",
       "    }\n",
       "\n",
       "    .dataframe thead th {\n",
       "        text-align: right;\n",
       "    }\n",
       "</style>\n",
       "<table border=\"1\" class=\"dataframe\">\n",
       "  <thead>\n",
       "    <tr style=\"text-align: right;\">\n",
       "      <th></th>\n",
       "      <th>Text</th>\n",
       "      <th>Genre</th>\n",
       "      <th>Score</th>\n",
       "    </tr>\n",
       "  </thead>\n",
       "  <tbody>\n",
       "    <tr>\n",
       "      <th>4</th>\n",
       "      <td>Laser eye surgery enabled the guitarist to see...</td>\n",
       "      <td>American</td>\n",
       "      <td>7.7</td>\n",
       "    </tr>\n",
       "    <tr>\n",
       "      <th>60</th>\n",
       "      <td>Each Sunday, Pitchfork takes an in-depth look ...</td>\n",
       "      <td>Rawkus</td>\n",
       "      <td>8.6</td>\n",
       "    </tr>\n",
       "    <tr>\n",
       "      <th>105</th>\n",
       "      <td>This invigorating compilation of African dance...</td>\n",
       "      <td>Strut</td>\n",
       "      <td>7.7</td>\n",
       "    </tr>\n",
       "    <tr>\n",
       "      <th>217</th>\n",
       "      <td>The Los Angeles composer—son of late Fluxus co...</td>\n",
       "      <td>Rvng</td>\n",
       "      <td>7.8</td>\n",
       "    </tr>\n",
       "    <tr>\n",
       "      <th>267</th>\n",
       "      <td>In keeping with the film’s surreal take on nos...</td>\n",
       "      <td>A24</td>\n",
       "      <td>7.1</td>\n",
       "    </tr>\n",
       "    <tr>\n",
       "      <th>361</th>\n",
       "      <td>NTS’ latest compilation is a brain-frying roll...</td>\n",
       "      <td>NTS</td>\n",
       "      <td>7.8</td>\n",
       "    </tr>\n",
       "    <tr>\n",
       "      <th>548</th>\n",
       "      <td>Led by Nicolás Jaar and featuring Angel Bat Da...</td>\n",
       "      <td>Other</td>\n",
       "      <td>7.5</td>\n",
       "    </tr>\n",
       "    <tr>\n",
       "      <th>574</th>\n",
       "      <td>A new compilation surveys the period in Japan ...</td>\n",
       "      <td>Time</td>\n",
       "      <td>7.2</td>\n",
       "    </tr>\n",
       "    <tr>\n",
       "      <th>604</th>\n",
       "      <td>Experimental label mappa editions’ elegiac col...</td>\n",
       "      <td>Mappa</td>\n",
       "      <td>7.3</td>\n",
       "    </tr>\n",
       "    <tr>\n",
       "      <th>739</th>\n",
       "      <td>Gathering vintage compositions from 27 tape re...</td>\n",
       "      <td>The</td>\n",
       "      <td>8.0</td>\n",
       "    </tr>\n",
       "  </tbody>\n",
       "</table>\n",
       "</div>"
      ],
      "text/plain": [
       "                                                  Text     Genre  Score\n",
       "4    Laser eye surgery enabled the guitarist to see...  American    7.7\n",
       "60   Each Sunday, Pitchfork takes an in-depth look ...    Rawkus    8.6\n",
       "105  This invigorating compilation of African dance...     Strut    7.7\n",
       "217  The Los Angeles composer—son of late Fluxus co...      Rvng    7.8\n",
       "267  In keeping with the film’s surreal take on nos...       A24    7.1\n",
       "361  NTS’ latest compilation is a brain-frying roll...       NTS    7.8\n",
       "548  Led by Nicolás Jaar and featuring Angel Bat Da...     Other    7.5\n",
       "574  A new compilation surveys the period in Japan ...      Time    7.2\n",
       "604  Experimental label mappa editions’ elegiac col...     Mappa    7.3\n",
       "739  Gathering vintage compositions from 27 tape re...       The    8.0"
      ]
     },
     "execution_count": 19,
     "metadata": {},
     "output_type": "execute_result"
    }
   ],
   "source": [
    "# view rows for genres that only appear once\n",
    "genres_less_than_10 = genre_counts[genre_counts < 2]\n",
    "not_genre = df[df['Genre'].isin(genres_less_than_10.index)]\n",
    "not_genre"
   ]
  },
  {
   "cell_type": "markdown",
   "id": "d672fd67",
   "metadata": {},
   "source": [
    "After investigating the Genres data, I found that these album do not have listed genre and so the first word of the record label has been scraped in their place. These rows will be dropped."
   ]
  },
  {
   "cell_type": "code",
   "execution_count": 21,
   "id": "34c95911",
   "metadata": {},
   "outputs": [],
   "source": [
    "# drop rows with no genre\n",
    "df = df.drop(not_genre.index)"
   ]
  },
  {
   "cell_type": "code",
   "execution_count": 33,
   "id": "5f847d2a",
   "metadata": {},
   "outputs": [
    {
     "data": {
      "text/plain": [
       "Rock            240\n",
       "Electronic      141\n",
       "Rap             131\n",
       "Pop             117\n",
       "Experimental     77\n",
       "Folk             50\n",
       "Jazz             27\n",
       "Metal            12\n",
       "Name: Genre, dtype: int64"
      ]
     },
     "execution_count": 33,
     "metadata": {},
     "output_type": "execute_result"
    }
   ],
   "source": [
    "genre_counts"
   ]
  },
  {
   "cell_type": "code",
   "execution_count": 91,
   "id": "ff00a04d",
   "metadata": {},
   "outputs": [
    {
     "data": {
      "application/vnd.plotly.v1+json": {
       "config": {
        "plotlyServerURL": "https://plot.ly"
       },
       "data": [
        {
         "alignmentgroup": "True",
         "hovertemplate": "Number of reviews=%{x}<br>Genre=%{y}<extra></extra>",
         "legendgroup": "",
         "marker": {
          "color": "rgb(135,206,235)",
          "pattern": {
           "shape": ""
          }
         },
         "name": "",
         "offsetgroup": "",
         "orientation": "h",
         "showlegend": false,
         "textposition": "auto",
         "type": "bar",
         "x": [
          240,
          141,
          131,
          117,
          77,
          50,
          27,
          12
         ],
         "xaxis": "x",
         "y": [
          "Rock",
          "Electronic",
          "Rap",
          "Pop",
          "Experimental",
          "Folk",
          "Jazz",
          "Metal"
         ],
         "yaxis": "y"
        }
       ],
       "layout": {
        "barmode": "relative",
        "legend": {
         "tracegroupgap": 0
        },
        "template": {
         "data": {
          "bar": [
           {
            "error_x": {
             "color": "#2a3f5f"
            },
            "error_y": {
             "color": "#2a3f5f"
            },
            "marker": {
             "line": {
              "color": "white",
              "width": 0.5
             },
             "pattern": {
              "fillmode": "overlay",
              "size": 10,
              "solidity": 0.2
             }
            },
            "type": "bar"
           }
          ],
          "barpolar": [
           {
            "marker": {
             "line": {
              "color": "white",
              "width": 0.5
             },
             "pattern": {
              "fillmode": "overlay",
              "size": 10,
              "solidity": 0.2
             }
            },
            "type": "barpolar"
           }
          ],
          "carpet": [
           {
            "aaxis": {
             "endlinecolor": "#2a3f5f",
             "gridcolor": "#C8D4E3",
             "linecolor": "#C8D4E3",
             "minorgridcolor": "#C8D4E3",
             "startlinecolor": "#2a3f5f"
            },
            "baxis": {
             "endlinecolor": "#2a3f5f",
             "gridcolor": "#C8D4E3",
             "linecolor": "#C8D4E3",
             "minorgridcolor": "#C8D4E3",
             "startlinecolor": "#2a3f5f"
            },
            "type": "carpet"
           }
          ],
          "choropleth": [
           {
            "colorbar": {
             "outlinewidth": 0,
             "ticks": ""
            },
            "type": "choropleth"
           }
          ],
          "contour": [
           {
            "colorbar": {
             "outlinewidth": 0,
             "ticks": ""
            },
            "colorscale": [
             [
              0,
              "#0d0887"
             ],
             [
              0.1111111111111111,
              "#46039f"
             ],
             [
              0.2222222222222222,
              "#7201a8"
             ],
             [
              0.3333333333333333,
              "#9c179e"
             ],
             [
              0.4444444444444444,
              "#bd3786"
             ],
             [
              0.5555555555555556,
              "#d8576b"
             ],
             [
              0.6666666666666666,
              "#ed7953"
             ],
             [
              0.7777777777777778,
              "#fb9f3a"
             ],
             [
              0.8888888888888888,
              "#fdca26"
             ],
             [
              1,
              "#f0f921"
             ]
            ],
            "type": "contour"
           }
          ],
          "contourcarpet": [
           {
            "colorbar": {
             "outlinewidth": 0,
             "ticks": ""
            },
            "type": "contourcarpet"
           }
          ],
          "heatmap": [
           {
            "colorbar": {
             "outlinewidth": 0,
             "ticks": ""
            },
            "colorscale": [
             [
              0,
              "#0d0887"
             ],
             [
              0.1111111111111111,
              "#46039f"
             ],
             [
              0.2222222222222222,
              "#7201a8"
             ],
             [
              0.3333333333333333,
              "#9c179e"
             ],
             [
              0.4444444444444444,
              "#bd3786"
             ],
             [
              0.5555555555555556,
              "#d8576b"
             ],
             [
              0.6666666666666666,
              "#ed7953"
             ],
             [
              0.7777777777777778,
              "#fb9f3a"
             ],
             [
              0.8888888888888888,
              "#fdca26"
             ],
             [
              1,
              "#f0f921"
             ]
            ],
            "type": "heatmap"
           }
          ],
          "heatmapgl": [
           {
            "colorbar": {
             "outlinewidth": 0,
             "ticks": ""
            },
            "colorscale": [
             [
              0,
              "#0d0887"
             ],
             [
              0.1111111111111111,
              "#46039f"
             ],
             [
              0.2222222222222222,
              "#7201a8"
             ],
             [
              0.3333333333333333,
              "#9c179e"
             ],
             [
              0.4444444444444444,
              "#bd3786"
             ],
             [
              0.5555555555555556,
              "#d8576b"
             ],
             [
              0.6666666666666666,
              "#ed7953"
             ],
             [
              0.7777777777777778,
              "#fb9f3a"
             ],
             [
              0.8888888888888888,
              "#fdca26"
             ],
             [
              1,
              "#f0f921"
             ]
            ],
            "type": "heatmapgl"
           }
          ],
          "histogram": [
           {
            "marker": {
             "pattern": {
              "fillmode": "overlay",
              "size": 10,
              "solidity": 0.2
             }
            },
            "type": "histogram"
           }
          ],
          "histogram2d": [
           {
            "colorbar": {
             "outlinewidth": 0,
             "ticks": ""
            },
            "colorscale": [
             [
              0,
              "#0d0887"
             ],
             [
              0.1111111111111111,
              "#46039f"
             ],
             [
              0.2222222222222222,
              "#7201a8"
             ],
             [
              0.3333333333333333,
              "#9c179e"
             ],
             [
              0.4444444444444444,
              "#bd3786"
             ],
             [
              0.5555555555555556,
              "#d8576b"
             ],
             [
              0.6666666666666666,
              "#ed7953"
             ],
             [
              0.7777777777777778,
              "#fb9f3a"
             ],
             [
              0.8888888888888888,
              "#fdca26"
             ],
             [
              1,
              "#f0f921"
             ]
            ],
            "type": "histogram2d"
           }
          ],
          "histogram2dcontour": [
           {
            "colorbar": {
             "outlinewidth": 0,
             "ticks": ""
            },
            "colorscale": [
             [
              0,
              "#0d0887"
             ],
             [
              0.1111111111111111,
              "#46039f"
             ],
             [
              0.2222222222222222,
              "#7201a8"
             ],
             [
              0.3333333333333333,
              "#9c179e"
             ],
             [
              0.4444444444444444,
              "#bd3786"
             ],
             [
              0.5555555555555556,
              "#d8576b"
             ],
             [
              0.6666666666666666,
              "#ed7953"
             ],
             [
              0.7777777777777778,
              "#fb9f3a"
             ],
             [
              0.8888888888888888,
              "#fdca26"
             ],
             [
              1,
              "#f0f921"
             ]
            ],
            "type": "histogram2dcontour"
           }
          ],
          "mesh3d": [
           {
            "colorbar": {
             "outlinewidth": 0,
             "ticks": ""
            },
            "type": "mesh3d"
           }
          ],
          "parcoords": [
           {
            "line": {
             "colorbar": {
              "outlinewidth": 0,
              "ticks": ""
             }
            },
            "type": "parcoords"
           }
          ],
          "pie": [
           {
            "automargin": true,
            "type": "pie"
           }
          ],
          "scatter": [
           {
            "marker": {
             "colorbar": {
              "outlinewidth": 0,
              "ticks": ""
             }
            },
            "type": "scatter"
           }
          ],
          "scatter3d": [
           {
            "line": {
             "colorbar": {
              "outlinewidth": 0,
              "ticks": ""
             }
            },
            "marker": {
             "colorbar": {
              "outlinewidth": 0,
              "ticks": ""
             }
            },
            "type": "scatter3d"
           }
          ],
          "scattercarpet": [
           {
            "marker": {
             "colorbar": {
              "outlinewidth": 0,
              "ticks": ""
             }
            },
            "type": "scattercarpet"
           }
          ],
          "scattergeo": [
           {
            "marker": {
             "colorbar": {
              "outlinewidth": 0,
              "ticks": ""
             }
            },
            "type": "scattergeo"
           }
          ],
          "scattergl": [
           {
            "marker": {
             "colorbar": {
              "outlinewidth": 0,
              "ticks": ""
             }
            },
            "type": "scattergl"
           }
          ],
          "scattermapbox": [
           {
            "marker": {
             "colorbar": {
              "outlinewidth": 0,
              "ticks": ""
             }
            },
            "type": "scattermapbox"
           }
          ],
          "scatterpolar": [
           {
            "marker": {
             "colorbar": {
              "outlinewidth": 0,
              "ticks": ""
             }
            },
            "type": "scatterpolar"
           }
          ],
          "scatterpolargl": [
           {
            "marker": {
             "colorbar": {
              "outlinewidth": 0,
              "ticks": ""
             }
            },
            "type": "scatterpolargl"
           }
          ],
          "scatterternary": [
           {
            "marker": {
             "colorbar": {
              "outlinewidth": 0,
              "ticks": ""
             }
            },
            "type": "scatterternary"
           }
          ],
          "surface": [
           {
            "colorbar": {
             "outlinewidth": 0,
             "ticks": ""
            },
            "colorscale": [
             [
              0,
              "#0d0887"
             ],
             [
              0.1111111111111111,
              "#46039f"
             ],
             [
              0.2222222222222222,
              "#7201a8"
             ],
             [
              0.3333333333333333,
              "#9c179e"
             ],
             [
              0.4444444444444444,
              "#bd3786"
             ],
             [
              0.5555555555555556,
              "#d8576b"
             ],
             [
              0.6666666666666666,
              "#ed7953"
             ],
             [
              0.7777777777777778,
              "#fb9f3a"
             ],
             [
              0.8888888888888888,
              "#fdca26"
             ],
             [
              1,
              "#f0f921"
             ]
            ],
            "type": "surface"
           }
          ],
          "table": [
           {
            "cells": {
             "fill": {
              "color": "#EBF0F8"
             },
             "line": {
              "color": "white"
             }
            },
            "header": {
             "fill": {
              "color": "#C8D4E3"
             },
             "line": {
              "color": "white"
             }
            },
            "type": "table"
           }
          ]
         },
         "layout": {
          "annotationdefaults": {
           "arrowcolor": "#2a3f5f",
           "arrowhead": 0,
           "arrowwidth": 1
          },
          "autotypenumbers": "strict",
          "coloraxis": {
           "colorbar": {
            "outlinewidth": 0,
            "ticks": ""
           }
          },
          "colorscale": {
           "diverging": [
            [
             0,
             "#8e0152"
            ],
            [
             0.1,
             "#c51b7d"
            ],
            [
             0.2,
             "#de77ae"
            ],
            [
             0.3,
             "#f1b6da"
            ],
            [
             0.4,
             "#fde0ef"
            ],
            [
             0.5,
             "#f7f7f7"
            ],
            [
             0.6,
             "#e6f5d0"
            ],
            [
             0.7,
             "#b8e186"
            ],
            [
             0.8,
             "#7fbc41"
            ],
            [
             0.9,
             "#4d9221"
            ],
            [
             1,
             "#276419"
            ]
           ],
           "sequential": [
            [
             0,
             "#0d0887"
            ],
            [
             0.1111111111111111,
             "#46039f"
            ],
            [
             0.2222222222222222,
             "#7201a8"
            ],
            [
             0.3333333333333333,
             "#9c179e"
            ],
            [
             0.4444444444444444,
             "#bd3786"
            ],
            [
             0.5555555555555556,
             "#d8576b"
            ],
            [
             0.6666666666666666,
             "#ed7953"
            ],
            [
             0.7777777777777778,
             "#fb9f3a"
            ],
            [
             0.8888888888888888,
             "#fdca26"
            ],
            [
             1,
             "#f0f921"
            ]
           ],
           "sequentialminus": [
            [
             0,
             "#0d0887"
            ],
            [
             0.1111111111111111,
             "#46039f"
            ],
            [
             0.2222222222222222,
             "#7201a8"
            ],
            [
             0.3333333333333333,
             "#9c179e"
            ],
            [
             0.4444444444444444,
             "#bd3786"
            ],
            [
             0.5555555555555556,
             "#d8576b"
            ],
            [
             0.6666666666666666,
             "#ed7953"
            ],
            [
             0.7777777777777778,
             "#fb9f3a"
            ],
            [
             0.8888888888888888,
             "#fdca26"
            ],
            [
             1,
             "#f0f921"
            ]
           ]
          },
          "colorway": [
           "#636efa",
           "#EF553B",
           "#00cc96",
           "#ab63fa",
           "#FFA15A",
           "#19d3f3",
           "#FF6692",
           "#B6E880",
           "#FF97FF",
           "#FECB52"
          ],
          "font": {
           "color": "#2a3f5f"
          },
          "geo": {
           "bgcolor": "white",
           "lakecolor": "white",
           "landcolor": "white",
           "showlakes": true,
           "showland": true,
           "subunitcolor": "#C8D4E3"
          },
          "hoverlabel": {
           "align": "left"
          },
          "hovermode": "closest",
          "mapbox": {
           "style": "light"
          },
          "paper_bgcolor": "white",
          "plot_bgcolor": "white",
          "polar": {
           "angularaxis": {
            "gridcolor": "#EBF0F8",
            "linecolor": "#EBF0F8",
            "ticks": ""
           },
           "bgcolor": "white",
           "radialaxis": {
            "gridcolor": "#EBF0F8",
            "linecolor": "#EBF0F8",
            "ticks": ""
           }
          },
          "scene": {
           "xaxis": {
            "backgroundcolor": "white",
            "gridcolor": "#DFE8F3",
            "gridwidth": 2,
            "linecolor": "#EBF0F8",
            "showbackground": true,
            "ticks": "",
            "zerolinecolor": "#EBF0F8"
           },
           "yaxis": {
            "backgroundcolor": "white",
            "gridcolor": "#DFE8F3",
            "gridwidth": 2,
            "linecolor": "#EBF0F8",
            "showbackground": true,
            "ticks": "",
            "zerolinecolor": "#EBF0F8"
           },
           "zaxis": {
            "backgroundcolor": "white",
            "gridcolor": "#DFE8F3",
            "gridwidth": 2,
            "linecolor": "#EBF0F8",
            "showbackground": true,
            "ticks": "",
            "zerolinecolor": "#EBF0F8"
           }
          },
          "shapedefaults": {
           "line": {
            "color": "#2a3f5f"
           }
          },
          "ternary": {
           "aaxis": {
            "gridcolor": "#DFE8F3",
            "linecolor": "#A2B1C6",
            "ticks": ""
           },
           "baxis": {
            "gridcolor": "#DFE8F3",
            "linecolor": "#A2B1C6",
            "ticks": ""
           },
           "bgcolor": "white",
           "caxis": {
            "gridcolor": "#DFE8F3",
            "linecolor": "#A2B1C6",
            "ticks": ""
           }
          },
          "title": {
           "x": 0.05
          },
          "xaxis": {
           "automargin": true,
           "gridcolor": "#EBF0F8",
           "linecolor": "#EBF0F8",
           "ticks": "",
           "title": {
            "standoff": 15
           },
           "zerolinecolor": "#EBF0F8",
           "zerolinewidth": 2
          },
          "yaxis": {
           "automargin": true,
           "gridcolor": "#EBF0F8",
           "linecolor": "#EBF0F8",
           "ticks": "",
           "title": {
            "standoff": 15
           },
           "zerolinecolor": "#EBF0F8",
           "zerolinewidth": 2
          }
         }
        },
        "title": {
         "text": "Number of Reviews by Genre"
        },
        "xaxis": {
         "anchor": "y",
         "domain": [
          0,
          1
         ],
         "title": {
          "text": "Number of reviews"
         }
        },
        "yaxis": {
         "anchor": "x",
         "domain": [
          0,
          1
         ],
         "title": {
          "text": "Genre"
         }
        }
       }
      },
      "text/html": [
       "<div>                            <div id=\"e873266d-dbe7-42be-aed2-c888cb06378c\" class=\"plotly-graph-div\" style=\"height:525px; width:100%;\"></div>            <script type=\"text/javascript\">                require([\"plotly\"], function(Plotly) {                    window.PLOTLYENV=window.PLOTLYENV || {};                                    if (document.getElementById(\"e873266d-dbe7-42be-aed2-c888cb06378c\")) {                    Plotly.newPlot(                        \"e873266d-dbe7-42be-aed2-c888cb06378c\",                        [{\"alignmentgroup\":\"True\",\"hovertemplate\":\"Number of reviews=%{x}<br>Genre=%{y}<extra></extra>\",\"legendgroup\":\"\",\"marker\":{\"color\":\"rgb(135,206,235)\",\"pattern\":{\"shape\":\"\"}},\"name\":\"\",\"offsetgroup\":\"\",\"orientation\":\"h\",\"showlegend\":false,\"textposition\":\"auto\",\"x\":[240,141,131,117,77,50,27,12],\"xaxis\":\"x\",\"y\":[\"Rock\",\"Electronic\",\"Rap\",\"Pop\",\"Experimental\",\"Folk\",\"Jazz\",\"Metal\"],\"yaxis\":\"y\",\"type\":\"bar\"}],                        {\"template\":{\"data\":{\"barpolar\":[{\"marker\":{\"line\":{\"color\":\"white\",\"width\":0.5},\"pattern\":{\"fillmode\":\"overlay\",\"size\":10,\"solidity\":0.2}},\"type\":\"barpolar\"}],\"bar\":[{\"error_x\":{\"color\":\"#2a3f5f\"},\"error_y\":{\"color\":\"#2a3f5f\"},\"marker\":{\"line\":{\"color\":\"white\",\"width\":0.5},\"pattern\":{\"fillmode\":\"overlay\",\"size\":10,\"solidity\":0.2}},\"type\":\"bar\"}],\"carpet\":[{\"aaxis\":{\"endlinecolor\":\"#2a3f5f\",\"gridcolor\":\"#C8D4E3\",\"linecolor\":\"#C8D4E3\",\"minorgridcolor\":\"#C8D4E3\",\"startlinecolor\":\"#2a3f5f\"},\"baxis\":{\"endlinecolor\":\"#2a3f5f\",\"gridcolor\":\"#C8D4E3\",\"linecolor\":\"#C8D4E3\",\"minorgridcolor\":\"#C8D4E3\",\"startlinecolor\":\"#2a3f5f\"},\"type\":\"carpet\"}],\"choropleth\":[{\"colorbar\":{\"outlinewidth\":0,\"ticks\":\"\"},\"type\":\"choropleth\"}],\"contourcarpet\":[{\"colorbar\":{\"outlinewidth\":0,\"ticks\":\"\"},\"type\":\"contourcarpet\"}],\"contour\":[{\"colorbar\":{\"outlinewidth\":0,\"ticks\":\"\"},\"colorscale\":[[0.0,\"#0d0887\"],[0.1111111111111111,\"#46039f\"],[0.2222222222222222,\"#7201a8\"],[0.3333333333333333,\"#9c179e\"],[0.4444444444444444,\"#bd3786\"],[0.5555555555555556,\"#d8576b\"],[0.6666666666666666,\"#ed7953\"],[0.7777777777777778,\"#fb9f3a\"],[0.8888888888888888,\"#fdca26\"],[1.0,\"#f0f921\"]],\"type\":\"contour\"}],\"heatmapgl\":[{\"colorbar\":{\"outlinewidth\":0,\"ticks\":\"\"},\"colorscale\":[[0.0,\"#0d0887\"],[0.1111111111111111,\"#46039f\"],[0.2222222222222222,\"#7201a8\"],[0.3333333333333333,\"#9c179e\"],[0.4444444444444444,\"#bd3786\"],[0.5555555555555556,\"#d8576b\"],[0.6666666666666666,\"#ed7953\"],[0.7777777777777778,\"#fb9f3a\"],[0.8888888888888888,\"#fdca26\"],[1.0,\"#f0f921\"]],\"type\":\"heatmapgl\"}],\"heatmap\":[{\"colorbar\":{\"outlinewidth\":0,\"ticks\":\"\"},\"colorscale\":[[0.0,\"#0d0887\"],[0.1111111111111111,\"#46039f\"],[0.2222222222222222,\"#7201a8\"],[0.3333333333333333,\"#9c179e\"],[0.4444444444444444,\"#bd3786\"],[0.5555555555555556,\"#d8576b\"],[0.6666666666666666,\"#ed7953\"],[0.7777777777777778,\"#fb9f3a\"],[0.8888888888888888,\"#fdca26\"],[1.0,\"#f0f921\"]],\"type\":\"heatmap\"}],\"histogram2dcontour\":[{\"colorbar\":{\"outlinewidth\":0,\"ticks\":\"\"},\"colorscale\":[[0.0,\"#0d0887\"],[0.1111111111111111,\"#46039f\"],[0.2222222222222222,\"#7201a8\"],[0.3333333333333333,\"#9c179e\"],[0.4444444444444444,\"#bd3786\"],[0.5555555555555556,\"#d8576b\"],[0.6666666666666666,\"#ed7953\"],[0.7777777777777778,\"#fb9f3a\"],[0.8888888888888888,\"#fdca26\"],[1.0,\"#f0f921\"]],\"type\":\"histogram2dcontour\"}],\"histogram2d\":[{\"colorbar\":{\"outlinewidth\":0,\"ticks\":\"\"},\"colorscale\":[[0.0,\"#0d0887\"],[0.1111111111111111,\"#46039f\"],[0.2222222222222222,\"#7201a8\"],[0.3333333333333333,\"#9c179e\"],[0.4444444444444444,\"#bd3786\"],[0.5555555555555556,\"#d8576b\"],[0.6666666666666666,\"#ed7953\"],[0.7777777777777778,\"#fb9f3a\"],[0.8888888888888888,\"#fdca26\"],[1.0,\"#f0f921\"]],\"type\":\"histogram2d\"}],\"histogram\":[{\"marker\":{\"pattern\":{\"fillmode\":\"overlay\",\"size\":10,\"solidity\":0.2}},\"type\":\"histogram\"}],\"mesh3d\":[{\"colorbar\":{\"outlinewidth\":0,\"ticks\":\"\"},\"type\":\"mesh3d\"}],\"parcoords\":[{\"line\":{\"colorbar\":{\"outlinewidth\":0,\"ticks\":\"\"}},\"type\":\"parcoords\"}],\"pie\":[{\"automargin\":true,\"type\":\"pie\"}],\"scatter3d\":[{\"line\":{\"colorbar\":{\"outlinewidth\":0,\"ticks\":\"\"}},\"marker\":{\"colorbar\":{\"outlinewidth\":0,\"ticks\":\"\"}},\"type\":\"scatter3d\"}],\"scattercarpet\":[{\"marker\":{\"colorbar\":{\"outlinewidth\":0,\"ticks\":\"\"}},\"type\":\"scattercarpet\"}],\"scattergeo\":[{\"marker\":{\"colorbar\":{\"outlinewidth\":0,\"ticks\":\"\"}},\"type\":\"scattergeo\"}],\"scattergl\":[{\"marker\":{\"colorbar\":{\"outlinewidth\":0,\"ticks\":\"\"}},\"type\":\"scattergl\"}],\"scattermapbox\":[{\"marker\":{\"colorbar\":{\"outlinewidth\":0,\"ticks\":\"\"}},\"type\":\"scattermapbox\"}],\"scatterpolargl\":[{\"marker\":{\"colorbar\":{\"outlinewidth\":0,\"ticks\":\"\"}},\"type\":\"scatterpolargl\"}],\"scatterpolar\":[{\"marker\":{\"colorbar\":{\"outlinewidth\":0,\"ticks\":\"\"}},\"type\":\"scatterpolar\"}],\"scatter\":[{\"marker\":{\"colorbar\":{\"outlinewidth\":0,\"ticks\":\"\"}},\"type\":\"scatter\"}],\"scatterternary\":[{\"marker\":{\"colorbar\":{\"outlinewidth\":0,\"ticks\":\"\"}},\"type\":\"scatterternary\"}],\"surface\":[{\"colorbar\":{\"outlinewidth\":0,\"ticks\":\"\"},\"colorscale\":[[0.0,\"#0d0887\"],[0.1111111111111111,\"#46039f\"],[0.2222222222222222,\"#7201a8\"],[0.3333333333333333,\"#9c179e\"],[0.4444444444444444,\"#bd3786\"],[0.5555555555555556,\"#d8576b\"],[0.6666666666666666,\"#ed7953\"],[0.7777777777777778,\"#fb9f3a\"],[0.8888888888888888,\"#fdca26\"],[1.0,\"#f0f921\"]],\"type\":\"surface\"}],\"table\":[{\"cells\":{\"fill\":{\"color\":\"#EBF0F8\"},\"line\":{\"color\":\"white\"}},\"header\":{\"fill\":{\"color\":\"#C8D4E3\"},\"line\":{\"color\":\"white\"}},\"type\":\"table\"}]},\"layout\":{\"annotationdefaults\":{\"arrowcolor\":\"#2a3f5f\",\"arrowhead\":0,\"arrowwidth\":1},\"autotypenumbers\":\"strict\",\"coloraxis\":{\"colorbar\":{\"outlinewidth\":0,\"ticks\":\"\"}},\"colorscale\":{\"diverging\":[[0,\"#8e0152\"],[0.1,\"#c51b7d\"],[0.2,\"#de77ae\"],[0.3,\"#f1b6da\"],[0.4,\"#fde0ef\"],[0.5,\"#f7f7f7\"],[0.6,\"#e6f5d0\"],[0.7,\"#b8e186\"],[0.8,\"#7fbc41\"],[0.9,\"#4d9221\"],[1,\"#276419\"]],\"sequential\":[[0.0,\"#0d0887\"],[0.1111111111111111,\"#46039f\"],[0.2222222222222222,\"#7201a8\"],[0.3333333333333333,\"#9c179e\"],[0.4444444444444444,\"#bd3786\"],[0.5555555555555556,\"#d8576b\"],[0.6666666666666666,\"#ed7953\"],[0.7777777777777778,\"#fb9f3a\"],[0.8888888888888888,\"#fdca26\"],[1.0,\"#f0f921\"]],\"sequentialminus\":[[0.0,\"#0d0887\"],[0.1111111111111111,\"#46039f\"],[0.2222222222222222,\"#7201a8\"],[0.3333333333333333,\"#9c179e\"],[0.4444444444444444,\"#bd3786\"],[0.5555555555555556,\"#d8576b\"],[0.6666666666666666,\"#ed7953\"],[0.7777777777777778,\"#fb9f3a\"],[0.8888888888888888,\"#fdca26\"],[1.0,\"#f0f921\"]]},\"colorway\":[\"#636efa\",\"#EF553B\",\"#00cc96\",\"#ab63fa\",\"#FFA15A\",\"#19d3f3\",\"#FF6692\",\"#B6E880\",\"#FF97FF\",\"#FECB52\"],\"font\":{\"color\":\"#2a3f5f\"},\"geo\":{\"bgcolor\":\"white\",\"lakecolor\":\"white\",\"landcolor\":\"white\",\"showlakes\":true,\"showland\":true,\"subunitcolor\":\"#C8D4E3\"},\"hoverlabel\":{\"align\":\"left\"},\"hovermode\":\"closest\",\"mapbox\":{\"style\":\"light\"},\"paper_bgcolor\":\"white\",\"plot_bgcolor\":\"white\",\"polar\":{\"angularaxis\":{\"gridcolor\":\"#EBF0F8\",\"linecolor\":\"#EBF0F8\",\"ticks\":\"\"},\"bgcolor\":\"white\",\"radialaxis\":{\"gridcolor\":\"#EBF0F8\",\"linecolor\":\"#EBF0F8\",\"ticks\":\"\"}},\"scene\":{\"xaxis\":{\"backgroundcolor\":\"white\",\"gridcolor\":\"#DFE8F3\",\"gridwidth\":2,\"linecolor\":\"#EBF0F8\",\"showbackground\":true,\"ticks\":\"\",\"zerolinecolor\":\"#EBF0F8\"},\"yaxis\":{\"backgroundcolor\":\"white\",\"gridcolor\":\"#DFE8F3\",\"gridwidth\":2,\"linecolor\":\"#EBF0F8\",\"showbackground\":true,\"ticks\":\"\",\"zerolinecolor\":\"#EBF0F8\"},\"zaxis\":{\"backgroundcolor\":\"white\",\"gridcolor\":\"#DFE8F3\",\"gridwidth\":2,\"linecolor\":\"#EBF0F8\",\"showbackground\":true,\"ticks\":\"\",\"zerolinecolor\":\"#EBF0F8\"}},\"shapedefaults\":{\"line\":{\"color\":\"#2a3f5f\"}},\"ternary\":{\"aaxis\":{\"gridcolor\":\"#DFE8F3\",\"linecolor\":\"#A2B1C6\",\"ticks\":\"\"},\"baxis\":{\"gridcolor\":\"#DFE8F3\",\"linecolor\":\"#A2B1C6\",\"ticks\":\"\"},\"bgcolor\":\"white\",\"caxis\":{\"gridcolor\":\"#DFE8F3\",\"linecolor\":\"#A2B1C6\",\"ticks\":\"\"}},\"title\":{\"x\":0.05},\"xaxis\":{\"automargin\":true,\"gridcolor\":\"#EBF0F8\",\"linecolor\":\"#EBF0F8\",\"ticks\":\"\",\"title\":{\"standoff\":15},\"zerolinecolor\":\"#EBF0F8\",\"zerolinewidth\":2},\"yaxis\":{\"automargin\":true,\"gridcolor\":\"#EBF0F8\",\"linecolor\":\"#EBF0F8\",\"ticks\":\"\",\"title\":{\"standoff\":15},\"zerolinecolor\":\"#EBF0F8\",\"zerolinewidth\":2}}},\"xaxis\":{\"anchor\":\"y\",\"domain\":[0.0,1.0],\"title\":{\"text\":\"Number of reviews\"}},\"yaxis\":{\"anchor\":\"x\",\"domain\":[0.0,1.0],\"title\":{\"text\":\"Genre\"}},\"legend\":{\"tracegroupgap\":0},\"title\":{\"text\":\"Number of Reviews by Genre\"},\"barmode\":\"relative\"},                        {\"responsive\": true}                    ).then(function(){\n",
       "                            \n",
       "var gd = document.getElementById('e873266d-dbe7-42be-aed2-c888cb06378c');\n",
       "var x = new MutationObserver(function (mutations, observer) {{\n",
       "        var display = window.getComputedStyle(gd).display;\n",
       "        if (!display || display === 'none') {{\n",
       "            console.log([gd, 'removed!']);\n",
       "            Plotly.purge(gd);\n",
       "            observer.disconnect();\n",
       "        }}\n",
       "}});\n",
       "\n",
       "// Listen for the removal of the full notebook cells\n",
       "var notebookContainer = gd.closest('#notebook-container');\n",
       "if (notebookContainer) {{\n",
       "    x.observe(notebookContainer, {childList: true});\n",
       "}}\n",
       "\n",
       "// Listen for the clearing of the current output cell\n",
       "var outputEl = gd.closest('.output');\n",
       "if (outputEl) {{\n",
       "    x.observe(outputEl, {childList: true});\n",
       "}}\n",
       "\n",
       "                        })                };                });            </script>        </div>"
      ]
     },
     "metadata": {},
     "output_type": "display_data"
    }
   ],
   "source": [
    "# re-run the counts\n",
    "genre_counts = df['Genre'].value_counts()\n",
    "\n",
    "fig = px.bar(genre_counts, x='Genre', template='plotly_white', title='Number of Reviews by Genre',\n",
    "             labels={'Genre':'Number of reviews', 'index':'Genre'})\n",
    "fig.update_traces(marker_color='rgb(135,206,235)')\n",
    "\n",
    "fig.show()\n"
   ]
  },
  {
   "cell_type": "code",
   "execution_count": 37,
   "id": "8b437f6b",
   "metadata": {
    "scrolled": true
   },
   "outputs": [
    {
     "name": "stdout",
     "output_type": "stream",
     "text": [
      "The average review score for each genre is: Genre\n",
      "Electronic      7.6\n",
      "Experimental    7.7\n",
      "Folk            7.6\n",
      "Jazz            7.9\n",
      "Metal           7.8\n",
      "Pop             7.5\n",
      "Rap             7.1\n",
      "Rock            7.6\n",
      "Name: Score, dtype: float64\n"
     ]
    }
   ],
   "source": [
    "print(\"The average review score for each genre is:\", df.groupby('Genre')['Score'].mean().round(1))"
   ]
  },
  {
   "cell_type": "code",
   "execution_count": 101,
   "id": "6331025e",
   "metadata": {},
   "outputs": [
    {
     "data": {
      "application/vnd.plotly.v1+json": {
       "config": {
        "plotlyServerURL": "https://plot.ly"
       },
       "data": [
        {
         "legendgroup": "Score",
         "marker": {
          "color": "#87ceeb"
         },
         "mode": "lines",
         "name": "Score",
         "showlegend": true,
         "type": "scatter",
         "x": [
          4.1,
          4.1118,
          4.1236,
          4.1354,
          4.1472,
          4.159,
          4.1708,
          4.1826,
          4.1944,
          4.2062,
          4.218,
          4.2298,
          4.2416,
          4.2534,
          4.2652,
          4.276999999999999,
          4.288799999999999,
          4.300599999999999,
          4.312399999999999,
          4.324199999999999,
          4.335999999999999,
          4.347799999999999,
          4.3595999999999995,
          4.3713999999999995,
          4.3831999999999995,
          4.395,
          4.4068,
          4.4186,
          4.4304,
          4.4422,
          4.454,
          4.4658,
          4.4776,
          4.4894,
          4.5012,
          4.513,
          4.5248,
          4.5366,
          4.5484,
          4.5602,
          4.571999999999999,
          4.5838,
          4.595599999999999,
          4.6074,
          4.619199999999999,
          4.630999999999999,
          4.642799999999999,
          4.654599999999999,
          4.666399999999999,
          4.6781999999999995,
          4.6899999999999995,
          4.7017999999999995,
          4.7136,
          4.7254,
          4.7372,
          4.749,
          4.7608,
          4.7726,
          4.7844,
          4.7962,
          4.808,
          4.8198,
          4.8316,
          4.8434,
          4.8552,
          4.867,
          4.8788,
          4.890599999999999,
          4.9024,
          4.914199999999999,
          4.925999999999999,
          4.937799999999999,
          4.949599999999999,
          4.961399999999999,
          4.973199999999999,
          4.984999999999999,
          4.9967999999999995,
          5.0085999999999995,
          5.0203999999999995,
          5.0322,
          5.044,
          5.0558,
          5.0676,
          5.0794,
          5.0912,
          5.103,
          5.1148,
          5.1266,
          5.1384,
          5.1502,
          5.162,
          5.1738,
          5.1856,
          5.1974,
          5.209199999999999,
          5.221,
          5.2328,
          5.2446,
          5.256399999999999,
          5.2682,
          5.279999999999999,
          5.2918,
          5.303599999999999,
          5.3153999999999995,
          5.3271999999999995,
          5.3389999999999995,
          5.3508,
          5.3626,
          5.3744,
          5.3862,
          5.398,
          5.4098,
          5.4216,
          5.4334,
          5.4452,
          5.457,
          5.4688,
          5.4806,
          5.4924,
          5.5042,
          5.516,
          5.5278,
          5.5396,
          5.551399999999999,
          5.5632,
          5.574999999999999,
          5.5868,
          5.598599999999999,
          5.6104,
          5.622199999999999,
          5.6339999999999995,
          5.6457999999999995,
          5.6575999999999995,
          5.6693999999999996,
          5.6812,
          5.693,
          5.7048,
          5.7166,
          5.7284,
          5.7402,
          5.752,
          5.7638,
          5.7756,
          5.7874,
          5.7992,
          5.811,
          5.8228,
          5.8346,
          5.8464,
          5.8582,
          5.869999999999999,
          5.8818,
          5.893599999999999,
          5.9054,
          5.917199999999999,
          5.928999999999999,
          5.940799999999999,
          5.9526,
          5.9643999999999995,
          5.9761999999999995,
          5.9879999999999995,
          5.9998,
          6.0116,
          6.0234,
          6.0352,
          6.047,
          6.0588,
          6.0706,
          6.0824,
          6.0942,
          6.106,
          6.1178,
          6.1296,
          6.141399999999999,
          6.1532,
          6.164999999999999,
          6.1768,
          6.188599999999999,
          6.2004,
          6.212199999999999,
          6.224,
          6.235799999999999,
          6.247599999999999,
          6.259399999999999,
          6.2712,
          6.2829999999999995,
          6.2948,
          6.3065999999999995,
          6.3184,
          6.3302,
          6.342,
          6.3538,
          6.365600000000001,
          6.3774,
          6.3892,
          6.401,
          6.4128,
          6.4246,
          6.4364,
          6.4482,
          6.459999999999999,
          6.4718,
          6.4836,
          6.4954,
          6.5072,
          6.519,
          6.530799999999999,
          6.5426,
          6.554399999999999,
          6.5662,
          6.577999999999999,
          6.5898,
          6.6015999999999995,
          6.6134,
          6.6251999999999995,
          6.637,
          6.6488,
          6.6606000000000005,
          6.6724,
          6.6842,
          6.696,
          6.7078,
          6.7196,
          6.7314,
          6.7432,
          6.754999999999999,
          6.7668,
          6.7786,
          6.7904,
          6.8022,
          6.814,
          6.825799999999999,
          6.8376,
          6.849399999999999,
          6.8612,
          6.872999999999999,
          6.8848,
          6.896599999999999,
          6.9084,
          6.9201999999999995,
          6.9319999999999995,
          6.9437999999999995,
          6.9556000000000004,
          6.9674,
          6.9792000000000005,
          6.991,
          7.0028,
          7.0146,
          7.0264,
          7.0382,
          7.05,
          7.0618,
          7.0736,
          7.0854,
          7.0972,
          7.109,
          7.1208,
          7.1326,
          7.144399999999999,
          7.1562,
          7.167999999999999,
          7.1798,
          7.1916,
          7.2034,
          7.215199999999999,
          7.226999999999999,
          7.2387999999999995,
          7.2506,
          7.2623999999999995,
          7.2742,
          7.286,
          7.2978,
          7.3096,
          7.3214,
          7.3332,
          7.345,
          7.3568,
          7.3686,
          7.3804,
          7.3922,
          7.404,
          7.4158,
          7.4276,
          7.439399999999999,
          7.4512,
          7.462999999999999,
          7.4748,
          7.4866,
          7.4984,
          7.510199999999999,
          7.522,
          7.533799999999999,
          7.5456,
          7.5573999999999995,
          7.5692,
          7.5809999999999995,
          7.5928,
          7.6046,
          7.6164,
          7.6282,
          7.64,
          7.6518,
          7.663600000000001,
          7.6754,
          7.6872,
          7.699,
          7.7108,
          7.7226,
          7.7344,
          7.7462,
          7.757999999999999,
          7.7698,
          7.7816,
          7.7934,
          7.8052,
          7.817,
          7.828799999999999,
          7.8406,
          7.852399999999999,
          7.8642,
          7.8759999999999994,
          7.8878,
          7.8995999999999995,
          7.9113999999999995,
          7.9232,
          7.9350000000000005,
          7.9468,
          7.958600000000001,
          7.9704,
          7.9822,
          7.994,
          8.0058,
          8.0176,
          8.029399999999999,
          8.0412,
          8.053,
          8.0648,
          8.0766,
          8.0884,
          8.100200000000001,
          8.112,
          8.1238,
          8.1356,
          8.1474,
          8.1592,
          8.171,
          8.1828,
          8.194600000000001,
          8.2064,
          8.2182,
          8.23,
          8.2418,
          8.253599999999999,
          8.2654,
          8.2772,
          8.289,
          8.300799999999999,
          8.3126,
          8.3244,
          8.3362,
          8.347999999999999,
          8.3598,
          8.3716,
          8.3834,
          8.395199999999999,
          8.407,
          8.418800000000001,
          8.4306,
          8.4424,
          8.4542,
          8.466,
          8.4778,
          8.4896,
          8.5014,
          8.5132,
          8.524999999999999,
          8.5368,
          8.5486,
          8.560400000000001,
          8.572199999999999,
          8.584,
          8.5958,
          8.6076,
          8.6194,
          8.6312,
          8.643,
          8.6548,
          8.666599999999999,
          8.6784,
          8.6902,
          8.702,
          8.713799999999999,
          8.7256,
          8.737400000000001,
          8.7492,
          8.761,
          8.7728,
          8.784600000000001,
          8.7964,
          8.8082,
          8.82,
          8.8318,
          8.8436,
          8.8554,
          8.8672,
          8.879,
          8.890799999999999,
          8.9026,
          8.9144,
          8.926200000000001,
          8.937999999999999,
          8.9498,
          8.9616,
          8.9734,
          8.9852,
          8.997,
          9.0088,
          9.0206,
          9.032399999999999,
          9.0442,
          9.056000000000001,
          9.0678,
          9.0796,
          9.0914,
          9.103200000000001,
          9.114999999999998,
          9.1268,
          9.1386,
          9.150400000000001,
          9.1622,
          9.174,
          9.1858,
          9.197600000000001,
          9.2094,
          9.2212,
          9.233,
          9.2448,
          9.256599999999999,
          9.2684,
          9.2802,
          9.292,
          9.303799999999999,
          9.3156,
          9.3274,
          9.3392,
          9.350999999999999,
          9.3628,
          9.374600000000001,
          9.3864,
          9.3982,
          9.41,
          9.421800000000001,
          9.4336,
          9.4454,
          9.4572,
          9.469,
          9.480799999999999,
          9.4926,
          9.5044,
          9.516200000000001,
          9.527999999999999,
          9.5398,
          9.5516,
          9.563400000000001,
          9.5752,
          9.587,
          9.5988,
          9.6106,
          9.622399999999999,
          9.6342,
          9.646,
          9.6578,
          9.669599999999999,
          9.6814,
          9.693200000000001,
          9.705,
          9.7168,
          9.7286,
          9.740400000000001,
          9.7522,
          9.764,
          9.7758,
          9.787600000000001,
          9.7994,
          9.8112,
          9.823,
          9.8348,
          9.846599999999999,
          9.8584,
          9.8702,
          9.882,
          9.893799999999999,
          9.9056,
          9.9174,
          9.929200000000002,
          9.940999999999999,
          9.9528,
          9.9646,
          9.9764,
          9.988199999999999
         ],
         "xaxis": "x",
         "y": [
          0.00401522030610746,
          0.004205478470182002,
          0.004405279206898039,
          0.004615369453113046,
          0.004836478894456841,
          0.005069302313309339,
          0.005314480979185684,
          0.005572583439539164,
          0.005844086109679003,
          0.006129354093354589,
          0.006428622689183932,
          0.0067419800512989805,
          0.007069351474377843,
          0.007410485762952584,
          0.007764944122155462,
          0.008132091971876637,
          0.008511094038994641,
          0.008900913023617804,
          0.009300312066215446,
          0.00970786116453955,
          0.010121947604079244,
          0.010540790375460964,
          0.010962458458943574,
          0.01138489276235629,
          0.011805931406982426,
          0.012223337968516724,
          0.012634832199776631,
          0.013038122690654514,
          0.013430940860976093,
          0.013811075635321489,
          0.014176408116970627,
          0.0145249455620651,
          0.014854853955510743,
          0.015164488507302077,
          0.01545242142157936,
          0.015717466340120747,
          0.01595869892596295,
          0.016175473129865267,
          0.016367432770451305,
          0.016534518155842025,
          0.016676967577972584,
          0.01679531361793531,
          0.016890374308926648,
          0.016963239310010033,
          0.017015251346349822,
          0.017047983267402318,
          0.01706321116157893,
          0.017062884042232714,
          0.017049090683911607,
          0.01702402423848789,
          0.016989945297233303,
          0.016949144086767804,
          0.016903902494071435,
          0.016856456608775217,
          0.016808960450437792,
          0.01676345151545991,
          0.016721818733919667,
          0.016685773372351293,
          0.016656823355894225,
          0.016636251413945667,
          0.016625097379125656,
          0.01662414489165839,
          0.016633912681782177,
          0.016654650523024773,
          0.016686339870512365,
          0.016728699122176508,
          0.016781193367901747,
          0.01684304842329076,
          0.016913268881648003,
          0.016990659860694785,
          0.01707385207000409,
          0.01716132978164006,
          0.0172514612503641,
          0.01734253110128358,
          0.01743277418214365,
          0.017520410364680324,
          0.01760367977456314,
          0.01768087793236429,
          0.017750390298516695,
          0.017810725733071627,
          0.017860548405847262,
          0.01789870772375765,
          0.017924265879099496,
          0.017936522664604403,
          0.017935037247278136,
          0.01791964664248098,
          0.01789048068131338,
          0.017847973317045976,
          0.017792870168938404,
          0.017726232253191865,
          0.017649435899882666,
          0.017564168900522547,
          0.01747242297250303,
          0.017376482663386192,
          0.017278910849285505,
          0.017182531007147877,
          0.01709040646055332,
          0.017005816812910975,
          0.01693223179110902,
          0.01687328272747942,
          0.016832731909278247,
          0.016814440023842362,
          0.016822331925365832,
          0.01686036094710131,
          0.0169324719819858,
          0.01704256355638586,
          0.01719444912687278,
          0.01739181783947906,
          0.017638195005275217,
          0.01793690256553812,
          0.01829101984409189,
          0.018703344913035918,
          0.019176356930096172,
          0.019712179839939118,
          0.020312547866329647,
          0.020978773255085743,
          0.02171171675725585,
          0.022511761365591056,
          0.023378789832937123,
          0.024312166506465345,
          0.025310724004719367,
          0.026372755243584248,
          0.027496011281217887,
          0.028677705399894688,
          0.029914523774362795,
          0.03120264299202959,
          0.03253775459104449,
          0.033915096669715844,
          0.035329492496868314,
          0.03677539592043217,
          0.03824694323396557,
          0.03973801102146753,
          0.04124227936360847,
          0.04275329965725773,
          0.044264566178906,
          0.0457695904149764,
          0.04726197709160368,
          0.048735500766270846,
          0.05018418179623642,
          0.05160236047589482,
          0.05298476813821004,
          0.054326594044677774,
          0.05562354694350368,
          0.056871910255819294,
          0.05806858995299034,
          0.05921115431195221,
          0.06029786487704575,
          0.06132769811255912,
          0.06230035739630087,
          0.06321627517700756,
          0.06407660529315697,
          0.06488320562375018,
          0.06563861140895821,
          0.06634599973667298,
          0.06700914583666483,
          0.06763237195459491,
          0.06822048969124346,
          0.06877873678638723,
          0.06931270940065681,
          0.06982829100189425,
          0.07033157899498851,
          0.07082881024636675,
          0.07132628664713651,
          0.07183030183359897,
          0.07234707014193927,
          0.0728826588171537,
          0.07344292442649464,
          0.07403345434678317,
          0.07465951410480738,
          0.0753260012523994,
          0.07603740635442746,
          0.07679778156035473,
          0.07761071711955778,
          0.07847932608848934,
          0.07940623736501802,
          0.08039359707275692,
          0.08144307820669887,
          0.08255589834159012,
          0.08373284509697122,
          0.08497430894808126,
          0.08628032287074575,
          0.0876506082114048,
          0.08908462608156247,
          0.09058163348991237,
          0.09214074334631213,
          0.09376098740073215,
          0.09544138111856067,
          0.09718098944252508,
          0.09897899235242816,
          0.10083474910821096,
          0.10274786005105616,
          0.10471822484246739,
          0.10674609604379012,
          0.10883212697925776,
          0.11097741288513835,
          0.11318352442611943,
          0.11545253275778151,
          0.11778702543021792,
          0.12019011256187075,
          0.1226654228627777,
          0.12521708925108502,
          0.1278497239832948,
          0.13056838340465615,
          0.13337852261816363,
          0.13628594056525184,
          0.13929671620474288,
          0.1424171366648931,
          0.14565361842244293,
          0.14901262272825774,
          0.15250056664754685,
          0.15612373120976955,
          0.15988816826583843,
          0.16379960772474236,
          0.16786336688567274,
          0.17208426359287862,
          0.1764665349172468,
          0.18101376301010305,
          0.18572880968072583,
          0.19061376112007225,
          0.19566988403051722,
          0.20089759422699763,
          0.2062964385516317,
          0.2118650906950504,
          0.21760136124760224,
          0.22350222201695527,
          0.22956384435084817,
          0.23578165090064584,
          0.2421503799591703,
          0.24866416121162868,
          0.25531660145788376,
          0.2621008786048269,
          0.2690098419956413,
          0.27603611694491087,
          0.2831722111907003,
          0.2904106208625754,
          0.29774393350237593,
          0.3051649256667472,
          0.3126666526890537,
          0.32024252828548916,
          0.32788639185560964,
          0.33559256155021994,
          0.3433558714565006,
          0.3511716915773246,
          0.35903592965284503,
          0.3669450142803207,
          0.37489585922411495,
          0.38288580926196897,
          0.39091256837481375,
          0.3989741115444392,
          0.4070685818637924,
          0.41519417507656514,
          0.42334901403437397,
          0.4315310158798192,
          0.43973775502214335,
          0.44796632516026524,
          0.4562132037186449,
          0.46447412208992767,
          0.4727439450217365,
          0.48101656234322154,
          0.4892847960019771,
          0.4975403250789141,
          0.5057736310739526,
          0.513973965319045,
          0.5221293398878772,
          0.5302265428466376,
          0.538251178141528,
          0.54618772986117,
          0.5540196500608032,
          0.561729468804787,
          0.5692989245891223,
          0.5767091128587358,
          0.5839406499470633,
          0.5909738494468115,
          0.5977889077781435,
          0.60436609555826,
          0.6106859512965614,
          0.6167294739416957,
          0.6224783108879948,
          0.6279149382037011,
          0.6330228300648783,
          0.6377866146583131,
          0.6421922141436697,
          0.6462269666295302,
          0.6498797285078003,
          0.6531409558960771,
          0.6560027643468147,
          0.658458966386467,
          0.6605050868382945,
          0.6621383562523674,
          0.6633576831102102,
          0.664163605784907,
          0.6645582255187613,
          0.664545121927731,
          0.6641292527563306,
          0.6633168397880379,
          0.6621152429679497,
          0.6605328249171033,
          0.658578808114932,
          0.6562631270988427,
          0.653596278079452,
          0.6505891683977519,
          0.6472529682553515,
          0.6435989671306831,
          0.6396384372502638,
          0.635382506412278,
          0.6308420423567099,
          0.6260275507386113,
          0.6209490885854181,
          0.6156161949027583,
          0.6100378398338542,
          0.6042223934746627,
          0.5981776151008704,
          0.5919106631766674,
          0.5854281260931561,
          0.5787360731334997,
          0.5718401246907294,
          0.5647455402844189,
          0.557457322445715,
          0.5499803340817543,
          0.5423194265042413,
          0.5344795749291119,
          0.5264660179392743,
          0.5182843971647872,
          0.5099408932871974,
          0.5014423544268616,
          0.4927964130320849,
          0.48401158756025653,
          0.4750973655246309,
          0.46606426487236946,
          0.4569238711523585,
          0.44768884851354046,
          0.4383729232315441,
          0.42899083917406394,
          0.41955828536405015,
          0.4100917965605773,
          0.40060862852718676,
          0.3911266103723861,
          0.3816639770035348,
          0.3722391853122453,
          0.36287071818743194,
          0.35357688081526034,
          0.3443755939617187,
          0.3352841890353498,
          0.32631920969177075,
          0.3174962245694333,
          0.30882965544412255,
          0.3003326246677888,
          0.2920168252308324,
          0.28389241617269423,
          0.2759679453848385,
          0.26825030112450227,
          0.26074469281061186,
          0.2534546609280786,
          0.24638211514607888,
          0.23952739908086249,
          0.23288937952305203,
          0.22646555741933602,
          0.22025219746162228,
          0.21424447280245693,
          0.20843662118896414,
          0.20282210869082576,
          0.19739379718852162,
          0.19214411188113964,
          0.18706520526024695,
          0.18214911426666677,
          0.1773879076879005,
          0.17277382125109209,
          0.16829937830492153,
          0.16395749444846294,
          0.15974156494074276,
          0.15564553419760005,
          0.15166394713942644,
          0.1477919825830755,
          0.14402546926427207,
          0.14036088542548159,
          0.13679534320303458,
          0.1333265592927439,
          0.1299528135637887,
          0.1266728974265856,
          0.1234860538434149,
          0.12039191090407694,
          0.11739041087693929,
          0.11448173659356489,
          0.11166623693819674,
          0.10894435309757464,
          0.10631654708772309,
          0.10378323391808164,
          0.10134471858498866,
          0.09900113891073106,
          0.09675241506546611,
          0.09459820643066351,
          0.09253787628737023,
          0.09057046464269289,
          0.08869466934526572,
          0.08690883548621595,
          0.08521095293729587,
          0.08359866174276863,
          0.08206926495694451,
          0.08061974840509374,
          0.07924680674231653,
          0.07794687509313022,
          0.07671616547464964,
          0.07555070713897988,
          0.07444638991662442,
          0.07339900960330442,
          0.07240431440863619,
          0.07145805147757328,
          0.0705560125053867,
          0.0696940774949081,
          0.06886825575128815,
          0.0680747232747355,
          0.06730985579515647,
          0.06657025679355581,
          0.06585277997189486,
          0.06515454576395939,
          0.06447295162198137,
          0.06380567596419838,
          0.06315067582373135,
          0.06250617839506897,
          0.061870666827067156,
          0.06124286075633796,
          0.06062169220812981,
          0.060006277609245574,
          0.05939588675571448,
          0.05878990965364803,
          0.0581878222026319,
          0.05758915171542804,
          0.05699344326480418,
          0.05640022781805846,
          0.05580899306308741,
          0.055219157748462255,
          0.05463005025639269,
          0.05404089200498433,
          0.053450786138494924,
          0.05285871181572828,
          0.052263524251628474,
          0.051663960510254986,
          0.05105865089306155,
          0.050446135619191895,
          0.049824886358185994,
          0.04919333205363595,
          0.048549888371748215,
          0.047892990023726184,
          0.04722112514692764,
          0.04653287088765924,
          0.04582692930842888,
          0.045102162743936365,
          0.04435762775196259,
          0.04359260684602764,
          0.042806637254231894,
          0.04199953602077335,
          0.041171420850792104,
          0.04032272619283225,
          0.039454214153802805,
          0.03856697994636495,
          0.03766245167587911,
          0.03674238438129945,
          0.035808848349840695,
          0.03486421182726863,
          0.033911118342916304,
          0.032952458959924234,
          0.03199133984583645,
          0.031031045635875464,
          0.03007499913039568,
          0.02912671792873961,
          0.02818976865361366,
          0.02726771946279901,
          0.026364091578197694,
          0.025482310585523055,
          0.024625658271032573,
          0.023797225764184686,
          0.02299986874663247,
          0.022236165468213723,
          0.02150837827929624,
          0.020818419345827698,
          0.020167821158722326,
          0.019557712382959305,
          0.018988799514387665,
          0.018461354724394377,
          0.017975210175266525,
          0.01752975898352792,
          0.017123962896332605,
          0.01675636662902394,
          0.01642511869237186,
          0.016127998418151688,
          0.01586244877419629,
          0.01562561444750147,
          0.015414384569114757,
          0.01522543936005306,
          0.015055299895912594,
          0.014900380121472582,
          0.014757040197464823,
          0.014621640231409484,
          0.014490593434177673,
          0.014360417754397154,
          0.01422778507408378,
          0.014089567100496886,
          0.013942877160154498,
          0.013785107189609073,
          0.01361395932187668
         ],
         "yaxis": "y"
        }
       ],
       "layout": {
        "barmode": "overlay",
        "hovermode": "closest",
        "legend": {
         "traceorder": "reversed"
        },
        "template": {
         "data": {
          "bar": [
           {
            "error_x": {
             "color": "#2a3f5f"
            },
            "error_y": {
             "color": "#2a3f5f"
            },
            "marker": {
             "line": {
              "color": "#E5ECF6",
              "width": 0.5
             },
             "pattern": {
              "fillmode": "overlay",
              "size": 10,
              "solidity": 0.2
             }
            },
            "type": "bar"
           }
          ],
          "barpolar": [
           {
            "marker": {
             "line": {
              "color": "#E5ECF6",
              "width": 0.5
             },
             "pattern": {
              "fillmode": "overlay",
              "size": 10,
              "solidity": 0.2
             }
            },
            "type": "barpolar"
           }
          ],
          "carpet": [
           {
            "aaxis": {
             "endlinecolor": "#2a3f5f",
             "gridcolor": "white",
             "linecolor": "white",
             "minorgridcolor": "white",
             "startlinecolor": "#2a3f5f"
            },
            "baxis": {
             "endlinecolor": "#2a3f5f",
             "gridcolor": "white",
             "linecolor": "white",
             "minorgridcolor": "white",
             "startlinecolor": "#2a3f5f"
            },
            "type": "carpet"
           }
          ],
          "choropleth": [
           {
            "colorbar": {
             "outlinewidth": 0,
             "ticks": ""
            },
            "type": "choropleth"
           }
          ],
          "contour": [
           {
            "colorbar": {
             "outlinewidth": 0,
             "ticks": ""
            },
            "colorscale": [
             [
              0,
              "#0d0887"
             ],
             [
              0.1111111111111111,
              "#46039f"
             ],
             [
              0.2222222222222222,
              "#7201a8"
             ],
             [
              0.3333333333333333,
              "#9c179e"
             ],
             [
              0.4444444444444444,
              "#bd3786"
             ],
             [
              0.5555555555555556,
              "#d8576b"
             ],
             [
              0.6666666666666666,
              "#ed7953"
             ],
             [
              0.7777777777777778,
              "#fb9f3a"
             ],
             [
              0.8888888888888888,
              "#fdca26"
             ],
             [
              1,
              "#f0f921"
             ]
            ],
            "type": "contour"
           }
          ],
          "contourcarpet": [
           {
            "colorbar": {
             "outlinewidth": 0,
             "ticks": ""
            },
            "type": "contourcarpet"
           }
          ],
          "heatmap": [
           {
            "colorbar": {
             "outlinewidth": 0,
             "ticks": ""
            },
            "colorscale": [
             [
              0,
              "#0d0887"
             ],
             [
              0.1111111111111111,
              "#46039f"
             ],
             [
              0.2222222222222222,
              "#7201a8"
             ],
             [
              0.3333333333333333,
              "#9c179e"
             ],
             [
              0.4444444444444444,
              "#bd3786"
             ],
             [
              0.5555555555555556,
              "#d8576b"
             ],
             [
              0.6666666666666666,
              "#ed7953"
             ],
             [
              0.7777777777777778,
              "#fb9f3a"
             ],
             [
              0.8888888888888888,
              "#fdca26"
             ],
             [
              1,
              "#f0f921"
             ]
            ],
            "type": "heatmap"
           }
          ],
          "heatmapgl": [
           {
            "colorbar": {
             "outlinewidth": 0,
             "ticks": ""
            },
            "colorscale": [
             [
              0,
              "#0d0887"
             ],
             [
              0.1111111111111111,
              "#46039f"
             ],
             [
              0.2222222222222222,
              "#7201a8"
             ],
             [
              0.3333333333333333,
              "#9c179e"
             ],
             [
              0.4444444444444444,
              "#bd3786"
             ],
             [
              0.5555555555555556,
              "#d8576b"
             ],
             [
              0.6666666666666666,
              "#ed7953"
             ],
             [
              0.7777777777777778,
              "#fb9f3a"
             ],
             [
              0.8888888888888888,
              "#fdca26"
             ],
             [
              1,
              "#f0f921"
             ]
            ],
            "type": "heatmapgl"
           }
          ],
          "histogram": [
           {
            "marker": {
             "pattern": {
              "fillmode": "overlay",
              "size": 10,
              "solidity": 0.2
             }
            },
            "type": "histogram"
           }
          ],
          "histogram2d": [
           {
            "colorbar": {
             "outlinewidth": 0,
             "ticks": ""
            },
            "colorscale": [
             [
              0,
              "#0d0887"
             ],
             [
              0.1111111111111111,
              "#46039f"
             ],
             [
              0.2222222222222222,
              "#7201a8"
             ],
             [
              0.3333333333333333,
              "#9c179e"
             ],
             [
              0.4444444444444444,
              "#bd3786"
             ],
             [
              0.5555555555555556,
              "#d8576b"
             ],
             [
              0.6666666666666666,
              "#ed7953"
             ],
             [
              0.7777777777777778,
              "#fb9f3a"
             ],
             [
              0.8888888888888888,
              "#fdca26"
             ],
             [
              1,
              "#f0f921"
             ]
            ],
            "type": "histogram2d"
           }
          ],
          "histogram2dcontour": [
           {
            "colorbar": {
             "outlinewidth": 0,
             "ticks": ""
            },
            "colorscale": [
             [
              0,
              "#0d0887"
             ],
             [
              0.1111111111111111,
              "#46039f"
             ],
             [
              0.2222222222222222,
              "#7201a8"
             ],
             [
              0.3333333333333333,
              "#9c179e"
             ],
             [
              0.4444444444444444,
              "#bd3786"
             ],
             [
              0.5555555555555556,
              "#d8576b"
             ],
             [
              0.6666666666666666,
              "#ed7953"
             ],
             [
              0.7777777777777778,
              "#fb9f3a"
             ],
             [
              0.8888888888888888,
              "#fdca26"
             ],
             [
              1,
              "#f0f921"
             ]
            ],
            "type": "histogram2dcontour"
           }
          ],
          "mesh3d": [
           {
            "colorbar": {
             "outlinewidth": 0,
             "ticks": ""
            },
            "type": "mesh3d"
           }
          ],
          "parcoords": [
           {
            "line": {
             "colorbar": {
              "outlinewidth": 0,
              "ticks": ""
             }
            },
            "type": "parcoords"
           }
          ],
          "pie": [
           {
            "automargin": true,
            "type": "pie"
           }
          ],
          "scatter": [
           {
            "marker": {
             "colorbar": {
              "outlinewidth": 0,
              "ticks": ""
             }
            },
            "type": "scatter"
           }
          ],
          "scatter3d": [
           {
            "line": {
             "colorbar": {
              "outlinewidth": 0,
              "ticks": ""
             }
            },
            "marker": {
             "colorbar": {
              "outlinewidth": 0,
              "ticks": ""
             }
            },
            "type": "scatter3d"
           }
          ],
          "scattercarpet": [
           {
            "marker": {
             "colorbar": {
              "outlinewidth": 0,
              "ticks": ""
             }
            },
            "type": "scattercarpet"
           }
          ],
          "scattergeo": [
           {
            "marker": {
             "colorbar": {
              "outlinewidth": 0,
              "ticks": ""
             }
            },
            "type": "scattergeo"
           }
          ],
          "scattergl": [
           {
            "marker": {
             "colorbar": {
              "outlinewidth": 0,
              "ticks": ""
             }
            },
            "type": "scattergl"
           }
          ],
          "scattermapbox": [
           {
            "marker": {
             "colorbar": {
              "outlinewidth": 0,
              "ticks": ""
             }
            },
            "type": "scattermapbox"
           }
          ],
          "scatterpolar": [
           {
            "marker": {
             "colorbar": {
              "outlinewidth": 0,
              "ticks": ""
             }
            },
            "type": "scatterpolar"
           }
          ],
          "scatterpolargl": [
           {
            "marker": {
             "colorbar": {
              "outlinewidth": 0,
              "ticks": ""
             }
            },
            "type": "scatterpolargl"
           }
          ],
          "scatterternary": [
           {
            "marker": {
             "colorbar": {
              "outlinewidth": 0,
              "ticks": ""
             }
            },
            "type": "scatterternary"
           }
          ],
          "surface": [
           {
            "colorbar": {
             "outlinewidth": 0,
             "ticks": ""
            },
            "colorscale": [
             [
              0,
              "#0d0887"
             ],
             [
              0.1111111111111111,
              "#46039f"
             ],
             [
              0.2222222222222222,
              "#7201a8"
             ],
             [
              0.3333333333333333,
              "#9c179e"
             ],
             [
              0.4444444444444444,
              "#bd3786"
             ],
             [
              0.5555555555555556,
              "#d8576b"
             ],
             [
              0.6666666666666666,
              "#ed7953"
             ],
             [
              0.7777777777777778,
              "#fb9f3a"
             ],
             [
              0.8888888888888888,
              "#fdca26"
             ],
             [
              1,
              "#f0f921"
             ]
            ],
            "type": "surface"
           }
          ],
          "table": [
           {
            "cells": {
             "fill": {
              "color": "#EBF0F8"
             },
             "line": {
              "color": "white"
             }
            },
            "header": {
             "fill": {
              "color": "#C8D4E3"
             },
             "line": {
              "color": "white"
             }
            },
            "type": "table"
           }
          ]
         },
         "layout": {
          "annotationdefaults": {
           "arrowcolor": "#2a3f5f",
           "arrowhead": 0,
           "arrowwidth": 1
          },
          "autotypenumbers": "strict",
          "coloraxis": {
           "colorbar": {
            "outlinewidth": 0,
            "ticks": ""
           }
          },
          "colorscale": {
           "diverging": [
            [
             0,
             "#8e0152"
            ],
            [
             0.1,
             "#c51b7d"
            ],
            [
             0.2,
             "#de77ae"
            ],
            [
             0.3,
             "#f1b6da"
            ],
            [
             0.4,
             "#fde0ef"
            ],
            [
             0.5,
             "#f7f7f7"
            ],
            [
             0.6,
             "#e6f5d0"
            ],
            [
             0.7,
             "#b8e186"
            ],
            [
             0.8,
             "#7fbc41"
            ],
            [
             0.9,
             "#4d9221"
            ],
            [
             1,
             "#276419"
            ]
           ],
           "sequential": [
            [
             0,
             "#0d0887"
            ],
            [
             0.1111111111111111,
             "#46039f"
            ],
            [
             0.2222222222222222,
             "#7201a8"
            ],
            [
             0.3333333333333333,
             "#9c179e"
            ],
            [
             0.4444444444444444,
             "#bd3786"
            ],
            [
             0.5555555555555556,
             "#d8576b"
            ],
            [
             0.6666666666666666,
             "#ed7953"
            ],
            [
             0.7777777777777778,
             "#fb9f3a"
            ],
            [
             0.8888888888888888,
             "#fdca26"
            ],
            [
             1,
             "#f0f921"
            ]
           ],
           "sequentialminus": [
            [
             0,
             "#0d0887"
            ],
            [
             0.1111111111111111,
             "#46039f"
            ],
            [
             0.2222222222222222,
             "#7201a8"
            ],
            [
             0.3333333333333333,
             "#9c179e"
            ],
            [
             0.4444444444444444,
             "#bd3786"
            ],
            [
             0.5555555555555556,
             "#d8576b"
            ],
            [
             0.6666666666666666,
             "#ed7953"
            ],
            [
             0.7777777777777778,
             "#fb9f3a"
            ],
            [
             0.8888888888888888,
             "#fdca26"
            ],
            [
             1,
             "#f0f921"
            ]
           ]
          },
          "colorway": [
           "#636efa",
           "#EF553B",
           "#00cc96",
           "#ab63fa",
           "#FFA15A",
           "#19d3f3",
           "#FF6692",
           "#B6E880",
           "#FF97FF",
           "#FECB52"
          ],
          "font": {
           "color": "#2a3f5f"
          },
          "geo": {
           "bgcolor": "white",
           "lakecolor": "white",
           "landcolor": "#E5ECF6",
           "showlakes": true,
           "showland": true,
           "subunitcolor": "white"
          },
          "hoverlabel": {
           "align": "left"
          },
          "hovermode": "closest",
          "mapbox": {
           "style": "light"
          },
          "paper_bgcolor": "white",
          "plot_bgcolor": "#E5ECF6",
          "polar": {
           "angularaxis": {
            "gridcolor": "white",
            "linecolor": "white",
            "ticks": ""
           },
           "bgcolor": "#E5ECF6",
           "radialaxis": {
            "gridcolor": "white",
            "linecolor": "white",
            "ticks": ""
           }
          },
          "scene": {
           "xaxis": {
            "backgroundcolor": "#E5ECF6",
            "gridcolor": "white",
            "gridwidth": 2,
            "linecolor": "white",
            "showbackground": true,
            "ticks": "",
            "zerolinecolor": "white"
           },
           "yaxis": {
            "backgroundcolor": "#E5ECF6",
            "gridcolor": "white",
            "gridwidth": 2,
            "linecolor": "white",
            "showbackground": true,
            "ticks": "",
            "zerolinecolor": "white"
           },
           "zaxis": {
            "backgroundcolor": "#E5ECF6",
            "gridcolor": "white",
            "gridwidth": 2,
            "linecolor": "white",
            "showbackground": true,
            "ticks": "",
            "zerolinecolor": "white"
           }
          },
          "shapedefaults": {
           "line": {
            "color": "#2a3f5f"
           }
          },
          "ternary": {
           "aaxis": {
            "gridcolor": "white",
            "linecolor": "white",
            "ticks": ""
           },
           "baxis": {
            "gridcolor": "white",
            "linecolor": "white",
            "ticks": ""
           },
           "bgcolor": "#E5ECF6",
           "caxis": {
            "gridcolor": "white",
            "linecolor": "white",
            "ticks": ""
           }
          },
          "title": {
           "x": 0.05
          },
          "xaxis": {
           "automargin": true,
           "gridcolor": "white",
           "linecolor": "white",
           "ticks": "",
           "title": {
            "standoff": 15
           },
           "zerolinecolor": "white",
           "zerolinewidth": 2
          },
          "yaxis": {
           "automargin": true,
           "gridcolor": "white",
           "linecolor": "white",
           "ticks": "",
           "title": {
            "standoff": 15
           },
           "zerolinecolor": "white",
           "zerolinewidth": 2
          }
         }
        },
        "title": {
         "text": "Hist and Curve Plot"
        },
        "xaxis": {
         "anchor": "y2",
         "domain": [
          0,
          1
         ],
         "zeroline": false
        },
        "yaxis": {
         "anchor": "free",
         "domain": [
          0,
          1
         ],
         "position": 0
        }
       }
      },
      "text/html": [
       "<div>                            <div id=\"e8087f9e-0c00-4be0-93ee-399ab57172d3\" class=\"plotly-graph-div\" style=\"height:525px; width:100%;\"></div>            <script type=\"text/javascript\">                require([\"plotly\"], function(Plotly) {                    window.PLOTLYENV=window.PLOTLYENV || {};                                    if (document.getElementById(\"e8087f9e-0c00-4be0-93ee-399ab57172d3\")) {                    Plotly.newPlot(                        \"e8087f9e-0c00-4be0-93ee-399ab57172d3\",                        [{\"legendgroup\":\"Score\",\"marker\":{\"color\":\"#87ceeb\"},\"mode\":\"lines\",\"name\":\"Score\",\"showlegend\":true,\"x\":[4.1,4.1118,4.1236,4.1354,4.1472,4.159,4.1708,4.1826,4.1944,4.2062,4.218,4.2298,4.2416,4.2534,4.2652,4.276999999999999,4.288799999999999,4.300599999999999,4.312399999999999,4.324199999999999,4.335999999999999,4.347799999999999,4.3595999999999995,4.3713999999999995,4.3831999999999995,4.395,4.4068,4.4186,4.4304,4.4422,4.454,4.4658,4.4776,4.4894,4.5012,4.513,4.5248,4.5366,4.5484,4.5602,4.571999999999999,4.5838,4.595599999999999,4.6074,4.619199999999999,4.630999999999999,4.642799999999999,4.654599999999999,4.666399999999999,4.6781999999999995,4.6899999999999995,4.7017999999999995,4.7136,4.7254,4.7372,4.749,4.7608,4.7726,4.7844,4.7962,4.808,4.8198,4.8316,4.8434,4.8552,4.867,4.8788,4.890599999999999,4.9024,4.914199999999999,4.925999999999999,4.937799999999999,4.949599999999999,4.961399999999999,4.973199999999999,4.984999999999999,4.9967999999999995,5.0085999999999995,5.0203999999999995,5.0322,5.044,5.0558,5.0676,5.0794,5.0912,5.103,5.1148,5.1266,5.1384,5.1502,5.162,5.1738,5.1856,5.1974,5.209199999999999,5.221,5.2328,5.2446,5.256399999999999,5.2682,5.279999999999999,5.2918,5.303599999999999,5.3153999999999995,5.3271999999999995,5.3389999999999995,5.3508,5.3626,5.3744,5.3862,5.398,5.4098,5.4216,5.4334,5.4452,5.457,5.4688,5.4806,5.4924,5.5042,5.516,5.5278,5.5396,5.551399999999999,5.5632,5.574999999999999,5.5868,5.598599999999999,5.6104,5.622199999999999,5.6339999999999995,5.6457999999999995,5.6575999999999995,5.6693999999999996,5.6812,5.693,5.7048,5.7166,5.7284,5.7402,5.752,5.7638,5.7756,5.7874,5.7992,5.811,5.8228,5.8346,5.8464,5.8582,5.869999999999999,5.8818,5.893599999999999,5.9054,5.917199999999999,5.928999999999999,5.940799999999999,5.9526,5.9643999999999995,5.9761999999999995,5.9879999999999995,5.9998,6.0116,6.0234,6.0352,6.047,6.0588,6.0706,6.0824,6.0942,6.106,6.1178,6.1296,6.141399999999999,6.1532,6.164999999999999,6.1768,6.188599999999999,6.2004,6.212199999999999,6.224,6.235799999999999,6.247599999999999,6.259399999999999,6.2712,6.2829999999999995,6.2948,6.3065999999999995,6.3184,6.3302,6.342,6.3538,6.365600000000001,6.3774,6.3892,6.401,6.4128,6.4246,6.4364,6.4482,6.459999999999999,6.4718,6.4836,6.4954,6.5072,6.519,6.530799999999999,6.5426,6.554399999999999,6.5662,6.577999999999999,6.5898,6.6015999999999995,6.6134,6.6251999999999995,6.637,6.6488,6.6606000000000005,6.6724,6.6842,6.696,6.7078,6.7196,6.7314,6.7432,6.754999999999999,6.7668,6.7786,6.7904,6.8022,6.814,6.825799999999999,6.8376,6.849399999999999,6.8612,6.872999999999999,6.8848,6.896599999999999,6.9084,6.9201999999999995,6.9319999999999995,6.9437999999999995,6.9556000000000004,6.9674,6.9792000000000005,6.991,7.0028,7.0146,7.0264,7.0382,7.05,7.0618,7.0736,7.0854,7.0972,7.109,7.1208,7.1326,7.144399999999999,7.1562,7.167999999999999,7.1798,7.1916,7.2034,7.215199999999999,7.226999999999999,7.2387999999999995,7.2506,7.2623999999999995,7.2742,7.286,7.2978,7.3096,7.3214,7.3332,7.345,7.3568,7.3686,7.3804,7.3922,7.404,7.4158,7.4276,7.439399999999999,7.4512,7.462999999999999,7.4748,7.4866,7.4984,7.510199999999999,7.522,7.533799999999999,7.5456,7.5573999999999995,7.5692,7.5809999999999995,7.5928,7.6046,7.6164,7.6282,7.64,7.6518,7.663600000000001,7.6754,7.6872,7.699,7.7108,7.7226,7.7344,7.7462,7.757999999999999,7.7698,7.7816,7.7934,7.8052,7.817,7.828799999999999,7.8406,7.852399999999999,7.8642,7.8759999999999994,7.8878,7.8995999999999995,7.9113999999999995,7.9232,7.9350000000000005,7.9468,7.958600000000001,7.9704,7.9822,7.994,8.0058,8.0176,8.029399999999999,8.0412,8.053,8.0648,8.0766,8.0884,8.100200000000001,8.112,8.1238,8.1356,8.1474,8.1592,8.171,8.1828,8.194600000000001,8.2064,8.2182,8.23,8.2418,8.253599999999999,8.2654,8.2772,8.289,8.300799999999999,8.3126,8.3244,8.3362,8.347999999999999,8.3598,8.3716,8.3834,8.395199999999999,8.407,8.418800000000001,8.4306,8.4424,8.4542,8.466,8.4778,8.4896,8.5014,8.5132,8.524999999999999,8.5368,8.5486,8.560400000000001,8.572199999999999,8.584,8.5958,8.6076,8.6194,8.6312,8.643,8.6548,8.666599999999999,8.6784,8.6902,8.702,8.713799999999999,8.7256,8.737400000000001,8.7492,8.761,8.7728,8.784600000000001,8.7964,8.8082,8.82,8.8318,8.8436,8.8554,8.8672,8.879,8.890799999999999,8.9026,8.9144,8.926200000000001,8.937999999999999,8.9498,8.9616,8.9734,8.9852,8.997,9.0088,9.0206,9.032399999999999,9.0442,9.056000000000001,9.0678,9.0796,9.0914,9.103200000000001,9.114999999999998,9.1268,9.1386,9.150400000000001,9.1622,9.174,9.1858,9.197600000000001,9.2094,9.2212,9.233,9.2448,9.256599999999999,9.2684,9.2802,9.292,9.303799999999999,9.3156,9.3274,9.3392,9.350999999999999,9.3628,9.374600000000001,9.3864,9.3982,9.41,9.421800000000001,9.4336,9.4454,9.4572,9.469,9.480799999999999,9.4926,9.5044,9.516200000000001,9.527999999999999,9.5398,9.5516,9.563400000000001,9.5752,9.587,9.5988,9.6106,9.622399999999999,9.6342,9.646,9.6578,9.669599999999999,9.6814,9.693200000000001,9.705,9.7168,9.7286,9.740400000000001,9.7522,9.764,9.7758,9.787600000000001,9.7994,9.8112,9.823,9.8348,9.846599999999999,9.8584,9.8702,9.882,9.893799999999999,9.9056,9.9174,9.929200000000002,9.940999999999999,9.9528,9.9646,9.9764,9.988199999999999],\"xaxis\":\"x\",\"y\":[0.00401522030610746,0.004205478470182002,0.004405279206898039,0.004615369453113046,0.004836478894456841,0.005069302313309339,0.005314480979185684,0.005572583439539164,0.005844086109679003,0.006129354093354589,0.006428622689183932,0.0067419800512989805,0.007069351474377843,0.007410485762952584,0.007764944122155462,0.008132091971876637,0.008511094038994641,0.008900913023617804,0.009300312066215446,0.00970786116453955,0.010121947604079244,0.010540790375460964,0.010962458458943574,0.01138489276235629,0.011805931406982426,0.012223337968516724,0.012634832199776631,0.013038122690654514,0.013430940860976093,0.013811075635321489,0.014176408116970627,0.0145249455620651,0.014854853955510743,0.015164488507302077,0.01545242142157936,0.015717466340120747,0.01595869892596295,0.016175473129865267,0.016367432770451305,0.016534518155842025,0.016676967577972584,0.01679531361793531,0.016890374308926648,0.016963239310010033,0.017015251346349822,0.017047983267402318,0.01706321116157893,0.017062884042232714,0.017049090683911607,0.01702402423848789,0.016989945297233303,0.016949144086767804,0.016903902494071435,0.016856456608775217,0.016808960450437792,0.01676345151545991,0.016721818733919667,0.016685773372351293,0.016656823355894225,0.016636251413945667,0.016625097379125656,0.01662414489165839,0.016633912681782177,0.016654650523024773,0.016686339870512365,0.016728699122176508,0.016781193367901747,0.01684304842329076,0.016913268881648003,0.016990659860694785,0.01707385207000409,0.01716132978164006,0.0172514612503641,0.01734253110128358,0.01743277418214365,0.017520410364680324,0.01760367977456314,0.01768087793236429,0.017750390298516695,0.017810725733071627,0.017860548405847262,0.01789870772375765,0.017924265879099496,0.017936522664604403,0.017935037247278136,0.01791964664248098,0.01789048068131338,0.017847973317045976,0.017792870168938404,0.017726232253191865,0.017649435899882666,0.017564168900522547,0.01747242297250303,0.017376482663386192,0.017278910849285505,0.017182531007147877,0.01709040646055332,0.017005816812910975,0.01693223179110902,0.01687328272747942,0.016832731909278247,0.016814440023842362,0.016822331925365832,0.01686036094710131,0.0169324719819858,0.01704256355638586,0.01719444912687278,0.01739181783947906,0.017638195005275217,0.01793690256553812,0.01829101984409189,0.018703344913035918,0.019176356930096172,0.019712179839939118,0.020312547866329647,0.020978773255085743,0.02171171675725585,0.022511761365591056,0.023378789832937123,0.024312166506465345,0.025310724004719367,0.026372755243584248,0.027496011281217887,0.028677705399894688,0.029914523774362795,0.03120264299202959,0.03253775459104449,0.033915096669715844,0.035329492496868314,0.03677539592043217,0.03824694323396557,0.03973801102146753,0.04124227936360847,0.04275329965725773,0.044264566178906,0.0457695904149764,0.04726197709160368,0.048735500766270846,0.05018418179623642,0.05160236047589482,0.05298476813821004,0.054326594044677774,0.05562354694350368,0.056871910255819294,0.05806858995299034,0.05921115431195221,0.06029786487704575,0.06132769811255912,0.06230035739630087,0.06321627517700756,0.06407660529315697,0.06488320562375018,0.06563861140895821,0.06634599973667298,0.06700914583666483,0.06763237195459491,0.06822048969124346,0.06877873678638723,0.06931270940065681,0.06982829100189425,0.07033157899498851,0.07082881024636675,0.07132628664713651,0.07183030183359897,0.07234707014193927,0.0728826588171537,0.07344292442649464,0.07403345434678317,0.07465951410480738,0.0753260012523994,0.07603740635442746,0.07679778156035473,0.07761071711955778,0.07847932608848934,0.07940623736501802,0.08039359707275692,0.08144307820669887,0.08255589834159012,0.08373284509697122,0.08497430894808126,0.08628032287074575,0.0876506082114048,0.08908462608156247,0.09058163348991237,0.09214074334631213,0.09376098740073215,0.09544138111856067,0.09718098944252508,0.09897899235242816,0.10083474910821096,0.10274786005105616,0.10471822484246739,0.10674609604379012,0.10883212697925776,0.11097741288513835,0.11318352442611943,0.11545253275778151,0.11778702543021792,0.12019011256187075,0.1226654228627777,0.12521708925108502,0.1278497239832948,0.13056838340465615,0.13337852261816363,0.13628594056525184,0.13929671620474288,0.1424171366648931,0.14565361842244293,0.14901262272825774,0.15250056664754685,0.15612373120976955,0.15988816826583843,0.16379960772474236,0.16786336688567274,0.17208426359287862,0.1764665349172468,0.18101376301010305,0.18572880968072583,0.19061376112007225,0.19566988403051722,0.20089759422699763,0.2062964385516317,0.2118650906950504,0.21760136124760224,0.22350222201695527,0.22956384435084817,0.23578165090064584,0.2421503799591703,0.24866416121162868,0.25531660145788376,0.2621008786048269,0.2690098419956413,0.27603611694491087,0.2831722111907003,0.2904106208625754,0.29774393350237593,0.3051649256667472,0.3126666526890537,0.32024252828548916,0.32788639185560964,0.33559256155021994,0.3433558714565006,0.3511716915773246,0.35903592965284503,0.3669450142803207,0.37489585922411495,0.38288580926196897,0.39091256837481375,0.3989741115444392,0.4070685818637924,0.41519417507656514,0.42334901403437397,0.4315310158798192,0.43973775502214335,0.44796632516026524,0.4562132037186449,0.46447412208992767,0.4727439450217365,0.48101656234322154,0.4892847960019771,0.4975403250789141,0.5057736310739526,0.513973965319045,0.5221293398878772,0.5302265428466376,0.538251178141528,0.54618772986117,0.5540196500608032,0.561729468804787,0.5692989245891223,0.5767091128587358,0.5839406499470633,0.5909738494468115,0.5977889077781435,0.60436609555826,0.6106859512965614,0.6167294739416957,0.6224783108879948,0.6279149382037011,0.6330228300648783,0.6377866146583131,0.6421922141436697,0.6462269666295302,0.6498797285078003,0.6531409558960771,0.6560027643468147,0.658458966386467,0.6605050868382945,0.6621383562523674,0.6633576831102102,0.664163605784907,0.6645582255187613,0.664545121927731,0.6641292527563306,0.6633168397880379,0.6621152429679497,0.6605328249171033,0.658578808114932,0.6562631270988427,0.653596278079452,0.6505891683977519,0.6472529682553515,0.6435989671306831,0.6396384372502638,0.635382506412278,0.6308420423567099,0.6260275507386113,0.6209490885854181,0.6156161949027583,0.6100378398338542,0.6042223934746627,0.5981776151008704,0.5919106631766674,0.5854281260931561,0.5787360731334997,0.5718401246907294,0.5647455402844189,0.557457322445715,0.5499803340817543,0.5423194265042413,0.5344795749291119,0.5264660179392743,0.5182843971647872,0.5099408932871974,0.5014423544268616,0.4927964130320849,0.48401158756025653,0.4750973655246309,0.46606426487236946,0.4569238711523585,0.44768884851354046,0.4383729232315441,0.42899083917406394,0.41955828536405015,0.4100917965605773,0.40060862852718676,0.3911266103723861,0.3816639770035348,0.3722391853122453,0.36287071818743194,0.35357688081526034,0.3443755939617187,0.3352841890353498,0.32631920969177075,0.3174962245694333,0.30882965544412255,0.3003326246677888,0.2920168252308324,0.28389241617269423,0.2759679453848385,0.26825030112450227,0.26074469281061186,0.2534546609280786,0.24638211514607888,0.23952739908086249,0.23288937952305203,0.22646555741933602,0.22025219746162228,0.21424447280245693,0.20843662118896414,0.20282210869082576,0.19739379718852162,0.19214411188113964,0.18706520526024695,0.18214911426666677,0.1773879076879005,0.17277382125109209,0.16829937830492153,0.16395749444846294,0.15974156494074276,0.15564553419760005,0.15166394713942644,0.1477919825830755,0.14402546926427207,0.14036088542548159,0.13679534320303458,0.1333265592927439,0.1299528135637887,0.1266728974265856,0.1234860538434149,0.12039191090407694,0.11739041087693929,0.11448173659356489,0.11166623693819674,0.10894435309757464,0.10631654708772309,0.10378323391808164,0.10134471858498866,0.09900113891073106,0.09675241506546611,0.09459820643066351,0.09253787628737023,0.09057046464269289,0.08869466934526572,0.08690883548621595,0.08521095293729587,0.08359866174276863,0.08206926495694451,0.08061974840509374,0.07924680674231653,0.07794687509313022,0.07671616547464964,0.07555070713897988,0.07444638991662442,0.07339900960330442,0.07240431440863619,0.07145805147757328,0.0705560125053867,0.0696940774949081,0.06886825575128815,0.0680747232747355,0.06730985579515647,0.06657025679355581,0.06585277997189486,0.06515454576395939,0.06447295162198137,0.06380567596419838,0.06315067582373135,0.06250617839506897,0.061870666827067156,0.06124286075633796,0.06062169220812981,0.060006277609245574,0.05939588675571448,0.05878990965364803,0.0581878222026319,0.05758915171542804,0.05699344326480418,0.05640022781805846,0.05580899306308741,0.055219157748462255,0.05463005025639269,0.05404089200498433,0.053450786138494924,0.05285871181572828,0.052263524251628474,0.051663960510254986,0.05105865089306155,0.050446135619191895,0.049824886358185994,0.04919333205363595,0.048549888371748215,0.047892990023726184,0.04722112514692764,0.04653287088765924,0.04582692930842888,0.045102162743936365,0.04435762775196259,0.04359260684602764,0.042806637254231894,0.04199953602077335,0.041171420850792104,0.04032272619283225,0.039454214153802805,0.03856697994636495,0.03766245167587911,0.03674238438129945,0.035808848349840695,0.03486421182726863,0.033911118342916304,0.032952458959924234,0.03199133984583645,0.031031045635875464,0.03007499913039568,0.02912671792873961,0.02818976865361366,0.02726771946279901,0.026364091578197694,0.025482310585523055,0.024625658271032573,0.023797225764184686,0.02299986874663247,0.022236165468213723,0.02150837827929624,0.020818419345827698,0.020167821158722326,0.019557712382959305,0.018988799514387665,0.018461354724394377,0.017975210175266525,0.01752975898352792,0.017123962896332605,0.01675636662902394,0.01642511869237186,0.016127998418151688,0.01586244877419629,0.01562561444750147,0.015414384569114757,0.01522543936005306,0.015055299895912594,0.014900380121472582,0.014757040197464823,0.014621640231409484,0.014490593434177673,0.014360417754397154,0.01422778507408378,0.014089567100496886,0.013942877160154498,0.013785107189609073,0.01361395932187668],\"yaxis\":\"y\",\"type\":\"scatter\"}],                        {\"barmode\":\"overlay\",\"hovermode\":\"closest\",\"legend\":{\"traceorder\":\"reversed\"},\"xaxis\":{\"anchor\":\"y2\",\"domain\":[0.0,1.0],\"zeroline\":false},\"yaxis\":{\"anchor\":\"free\",\"domain\":[0.0,1],\"position\":0.0},\"template\":{\"data\":{\"bar\":[{\"error_x\":{\"color\":\"#2a3f5f\"},\"error_y\":{\"color\":\"#2a3f5f\"},\"marker\":{\"line\":{\"color\":\"#E5ECF6\",\"width\":0.5},\"pattern\":{\"fillmode\":\"overlay\",\"size\":10,\"solidity\":0.2}},\"type\":\"bar\"}],\"barpolar\":[{\"marker\":{\"line\":{\"color\":\"#E5ECF6\",\"width\":0.5},\"pattern\":{\"fillmode\":\"overlay\",\"size\":10,\"solidity\":0.2}},\"type\":\"barpolar\"}],\"carpet\":[{\"aaxis\":{\"endlinecolor\":\"#2a3f5f\",\"gridcolor\":\"white\",\"linecolor\":\"white\",\"minorgridcolor\":\"white\",\"startlinecolor\":\"#2a3f5f\"},\"baxis\":{\"endlinecolor\":\"#2a3f5f\",\"gridcolor\":\"white\",\"linecolor\":\"white\",\"minorgridcolor\":\"white\",\"startlinecolor\":\"#2a3f5f\"},\"type\":\"carpet\"}],\"choropleth\":[{\"colorbar\":{\"outlinewidth\":0,\"ticks\":\"\"},\"type\":\"choropleth\"}],\"contour\":[{\"colorbar\":{\"outlinewidth\":0,\"ticks\":\"\"},\"colorscale\":[[0.0,\"#0d0887\"],[0.1111111111111111,\"#46039f\"],[0.2222222222222222,\"#7201a8\"],[0.3333333333333333,\"#9c179e\"],[0.4444444444444444,\"#bd3786\"],[0.5555555555555556,\"#d8576b\"],[0.6666666666666666,\"#ed7953\"],[0.7777777777777778,\"#fb9f3a\"],[0.8888888888888888,\"#fdca26\"],[1.0,\"#f0f921\"]],\"type\":\"contour\"}],\"contourcarpet\":[{\"colorbar\":{\"outlinewidth\":0,\"ticks\":\"\"},\"type\":\"contourcarpet\"}],\"heatmap\":[{\"colorbar\":{\"outlinewidth\":0,\"ticks\":\"\"},\"colorscale\":[[0.0,\"#0d0887\"],[0.1111111111111111,\"#46039f\"],[0.2222222222222222,\"#7201a8\"],[0.3333333333333333,\"#9c179e\"],[0.4444444444444444,\"#bd3786\"],[0.5555555555555556,\"#d8576b\"],[0.6666666666666666,\"#ed7953\"],[0.7777777777777778,\"#fb9f3a\"],[0.8888888888888888,\"#fdca26\"],[1.0,\"#f0f921\"]],\"type\":\"heatmap\"}],\"heatmapgl\":[{\"colorbar\":{\"outlinewidth\":0,\"ticks\":\"\"},\"colorscale\":[[0.0,\"#0d0887\"],[0.1111111111111111,\"#46039f\"],[0.2222222222222222,\"#7201a8\"],[0.3333333333333333,\"#9c179e\"],[0.4444444444444444,\"#bd3786\"],[0.5555555555555556,\"#d8576b\"],[0.6666666666666666,\"#ed7953\"],[0.7777777777777778,\"#fb9f3a\"],[0.8888888888888888,\"#fdca26\"],[1.0,\"#f0f921\"]],\"type\":\"heatmapgl\"}],\"histogram\":[{\"marker\":{\"pattern\":{\"fillmode\":\"overlay\",\"size\":10,\"solidity\":0.2}},\"type\":\"histogram\"}],\"histogram2d\":[{\"colorbar\":{\"outlinewidth\":0,\"ticks\":\"\"},\"colorscale\":[[0.0,\"#0d0887\"],[0.1111111111111111,\"#46039f\"],[0.2222222222222222,\"#7201a8\"],[0.3333333333333333,\"#9c179e\"],[0.4444444444444444,\"#bd3786\"],[0.5555555555555556,\"#d8576b\"],[0.6666666666666666,\"#ed7953\"],[0.7777777777777778,\"#fb9f3a\"],[0.8888888888888888,\"#fdca26\"],[1.0,\"#f0f921\"]],\"type\":\"histogram2d\"}],\"histogram2dcontour\":[{\"colorbar\":{\"outlinewidth\":0,\"ticks\":\"\"},\"colorscale\":[[0.0,\"#0d0887\"],[0.1111111111111111,\"#46039f\"],[0.2222222222222222,\"#7201a8\"],[0.3333333333333333,\"#9c179e\"],[0.4444444444444444,\"#bd3786\"],[0.5555555555555556,\"#d8576b\"],[0.6666666666666666,\"#ed7953\"],[0.7777777777777778,\"#fb9f3a\"],[0.8888888888888888,\"#fdca26\"],[1.0,\"#f0f921\"]],\"type\":\"histogram2dcontour\"}],\"mesh3d\":[{\"colorbar\":{\"outlinewidth\":0,\"ticks\":\"\"},\"type\":\"mesh3d\"}],\"parcoords\":[{\"line\":{\"colorbar\":{\"outlinewidth\":0,\"ticks\":\"\"}},\"type\":\"parcoords\"}],\"pie\":[{\"automargin\":true,\"type\":\"pie\"}],\"scatter\":[{\"marker\":{\"colorbar\":{\"outlinewidth\":0,\"ticks\":\"\"}},\"type\":\"scatter\"}],\"scatter3d\":[{\"line\":{\"colorbar\":{\"outlinewidth\":0,\"ticks\":\"\"}},\"marker\":{\"colorbar\":{\"outlinewidth\":0,\"ticks\":\"\"}},\"type\":\"scatter3d\"}],\"scattercarpet\":[{\"marker\":{\"colorbar\":{\"outlinewidth\":0,\"ticks\":\"\"}},\"type\":\"scattercarpet\"}],\"scattergeo\":[{\"marker\":{\"colorbar\":{\"outlinewidth\":0,\"ticks\":\"\"}},\"type\":\"scattergeo\"}],\"scattergl\":[{\"marker\":{\"colorbar\":{\"outlinewidth\":0,\"ticks\":\"\"}},\"type\":\"scattergl\"}],\"scattermapbox\":[{\"marker\":{\"colorbar\":{\"outlinewidth\":0,\"ticks\":\"\"}},\"type\":\"scattermapbox\"}],\"scatterpolar\":[{\"marker\":{\"colorbar\":{\"outlinewidth\":0,\"ticks\":\"\"}},\"type\":\"scatterpolar\"}],\"scatterpolargl\":[{\"marker\":{\"colorbar\":{\"outlinewidth\":0,\"ticks\":\"\"}},\"type\":\"scatterpolargl\"}],\"scatterternary\":[{\"marker\":{\"colorbar\":{\"outlinewidth\":0,\"ticks\":\"\"}},\"type\":\"scatterternary\"}],\"surface\":[{\"colorbar\":{\"outlinewidth\":0,\"ticks\":\"\"},\"colorscale\":[[0.0,\"#0d0887\"],[0.1111111111111111,\"#46039f\"],[0.2222222222222222,\"#7201a8\"],[0.3333333333333333,\"#9c179e\"],[0.4444444444444444,\"#bd3786\"],[0.5555555555555556,\"#d8576b\"],[0.6666666666666666,\"#ed7953\"],[0.7777777777777778,\"#fb9f3a\"],[0.8888888888888888,\"#fdca26\"],[1.0,\"#f0f921\"]],\"type\":\"surface\"}],\"table\":[{\"cells\":{\"fill\":{\"color\":\"#EBF0F8\"},\"line\":{\"color\":\"white\"}},\"header\":{\"fill\":{\"color\":\"#C8D4E3\"},\"line\":{\"color\":\"white\"}},\"type\":\"table\"}]},\"layout\":{\"annotationdefaults\":{\"arrowcolor\":\"#2a3f5f\",\"arrowhead\":0,\"arrowwidth\":1},\"autotypenumbers\":\"strict\",\"coloraxis\":{\"colorbar\":{\"outlinewidth\":0,\"ticks\":\"\"}},\"colorscale\":{\"diverging\":[[0,\"#8e0152\"],[0.1,\"#c51b7d\"],[0.2,\"#de77ae\"],[0.3,\"#f1b6da\"],[0.4,\"#fde0ef\"],[0.5,\"#f7f7f7\"],[0.6,\"#e6f5d0\"],[0.7,\"#b8e186\"],[0.8,\"#7fbc41\"],[0.9,\"#4d9221\"],[1,\"#276419\"]],\"sequential\":[[0.0,\"#0d0887\"],[0.1111111111111111,\"#46039f\"],[0.2222222222222222,\"#7201a8\"],[0.3333333333333333,\"#9c179e\"],[0.4444444444444444,\"#bd3786\"],[0.5555555555555556,\"#d8576b\"],[0.6666666666666666,\"#ed7953\"],[0.7777777777777778,\"#fb9f3a\"],[0.8888888888888888,\"#fdca26\"],[1.0,\"#f0f921\"]],\"sequentialminus\":[[0.0,\"#0d0887\"],[0.1111111111111111,\"#46039f\"],[0.2222222222222222,\"#7201a8\"],[0.3333333333333333,\"#9c179e\"],[0.4444444444444444,\"#bd3786\"],[0.5555555555555556,\"#d8576b\"],[0.6666666666666666,\"#ed7953\"],[0.7777777777777778,\"#fb9f3a\"],[0.8888888888888888,\"#fdca26\"],[1.0,\"#f0f921\"]]},\"colorway\":[\"#636efa\",\"#EF553B\",\"#00cc96\",\"#ab63fa\",\"#FFA15A\",\"#19d3f3\",\"#FF6692\",\"#B6E880\",\"#FF97FF\",\"#FECB52\"],\"font\":{\"color\":\"#2a3f5f\"},\"geo\":{\"bgcolor\":\"white\",\"lakecolor\":\"white\",\"landcolor\":\"#E5ECF6\",\"showlakes\":true,\"showland\":true,\"subunitcolor\":\"white\"},\"hoverlabel\":{\"align\":\"left\"},\"hovermode\":\"closest\",\"mapbox\":{\"style\":\"light\"},\"paper_bgcolor\":\"white\",\"plot_bgcolor\":\"#E5ECF6\",\"polar\":{\"angularaxis\":{\"gridcolor\":\"white\",\"linecolor\":\"white\",\"ticks\":\"\"},\"bgcolor\":\"#E5ECF6\",\"radialaxis\":{\"gridcolor\":\"white\",\"linecolor\":\"white\",\"ticks\":\"\"}},\"scene\":{\"xaxis\":{\"backgroundcolor\":\"#E5ECF6\",\"gridcolor\":\"white\",\"gridwidth\":2,\"linecolor\":\"white\",\"showbackground\":true,\"ticks\":\"\",\"zerolinecolor\":\"white\"},\"yaxis\":{\"backgroundcolor\":\"#E5ECF6\",\"gridcolor\":\"white\",\"gridwidth\":2,\"linecolor\":\"white\",\"showbackground\":true,\"ticks\":\"\",\"zerolinecolor\":\"white\"},\"zaxis\":{\"backgroundcolor\":\"#E5ECF6\",\"gridcolor\":\"white\",\"gridwidth\":2,\"linecolor\":\"white\",\"showbackground\":true,\"ticks\":\"\",\"zerolinecolor\":\"white\"}},\"shapedefaults\":{\"line\":{\"color\":\"#2a3f5f\"}},\"ternary\":{\"aaxis\":{\"gridcolor\":\"white\",\"linecolor\":\"white\",\"ticks\":\"\"},\"baxis\":{\"gridcolor\":\"white\",\"linecolor\":\"white\",\"ticks\":\"\"},\"bgcolor\":\"#E5ECF6\",\"caxis\":{\"gridcolor\":\"white\",\"linecolor\":\"white\",\"ticks\":\"\"}},\"title\":{\"x\":0.05},\"xaxis\":{\"automargin\":true,\"gridcolor\":\"white\",\"linecolor\":\"white\",\"ticks\":\"\",\"title\":{\"standoff\":15},\"zerolinecolor\":\"white\",\"zerolinewidth\":2},\"yaxis\":{\"automargin\":true,\"gridcolor\":\"white\",\"linecolor\":\"white\",\"ticks\":\"\",\"title\":{\"standoff\":15},\"zerolinecolor\":\"white\",\"zerolinewidth\":2}}},\"title\":{\"text\":\"Hist and Curve Plot\"}},                        {\"responsive\": true}                    ).then(function(){\n",
       "                            \n",
       "var gd = document.getElementById('e8087f9e-0c00-4be0-93ee-399ab57172d3');\n",
       "var x = new MutationObserver(function (mutations, observer) {{\n",
       "        var display = window.getComputedStyle(gd).display;\n",
       "        if (!display || display === 'none') {{\n",
       "            console.log([gd, 'removed!']);\n",
       "            Plotly.purge(gd);\n",
       "            observer.disconnect();\n",
       "        }}\n",
       "}});\n",
       "\n",
       "// Listen for the removal of the full notebook cells\n",
       "var notebookContainer = gd.closest('#notebook-container');\n",
       "if (notebookContainer) {{\n",
       "    x.observe(notebookContainer, {childList: true});\n",
       "}}\n",
       "\n",
       "// Listen for the clearing of the current output cell\n",
       "var outputEl = gd.closest('.output');\n",
       "if (outputEl) {{\n",
       "    x.observe(outputEl, {childList: true});\n",
       "}}\n",
       "\n",
       "                        })                };                });            </script>        </div>"
      ]
     },
     "metadata": {},
     "output_type": "display_data"
    }
   ],
   "source": [
    "# Create distplot with curve_type set to 'normal'\n",
    "score_data = [df['Score'].tolist()]\n",
    "\n",
    "fig = ff.create_distplot(score_data, ['Score'], colors=['#87ceeb'],\n",
    "                         bin_size=.5, show_hist=False, show_rug=False,)\n",
    "\n",
    "# Add title\n",
    "fig.update_layout(title_text='Hist and Curve Plot')\n",
    "fig.show()"
   ]
  },
  {
   "cell_type": "code",
   "execution_count": 119,
   "id": "dd8e1663",
   "metadata": {},
   "outputs": [
    {
     "data": {
      "application/vnd.plotly.v1+json": {
       "config": {
        "plotlyServerURL": "https://plot.ly"
       },
       "data": [
        {
         "alignmentgroup": "True",
         "bingroup": "x",
         "hovertemplate": "Score=%{x}<br>count=%{y}<extra></extra>",
         "legendgroup": "",
         "marker": {
          "color": "rgb(135,206,235)",
          "pattern": {
           "shape": ""
          }
         },
         "name": "",
         "offsetgroup": "",
         "orientation": "v",
         "showlegend": false,
         "type": "histogram",
         "x": [
          7.3,
          7.2,
          7.8,
          7.9,
          8.5,
          7.2,
          6.3,
          7.8,
          7.6,
          7.6,
          8.1,
          7.6,
          7.7,
          9.4,
          7.7,
          8,
          7.5,
          7.7,
          7.3,
          5.7,
          8.5,
          8,
          5.7,
          8,
          8.3,
          4.5,
          6.2,
          7.1,
          7,
          9.5,
          7.1,
          7.1,
          8.7,
          6.8,
          4.5,
          7,
          7.4,
          8,
          7.1,
          7.3,
          6.5,
          7.9,
          7,
          9,
          8.7,
          8,
          7.6,
          6.8,
          8,
          7,
          8.1,
          7.8,
          7.5,
          8.2,
          7.2,
          7.4,
          8,
          7.6,
          7.6,
          8,
          7.7,
          7.7,
          7.6,
          7.7,
          8,
          7.8,
          7.6,
          7.5,
          7,
          7.3,
          5.8,
          7.9,
          7.8,
          7.6,
          8.1,
          7.9,
          6.6,
          7.4,
          8.2,
          7.9,
          7.3,
          4.6,
          6.1,
          7.6,
          8,
          7.3,
          7.4,
          7.5,
          7.3,
          9.5,
          7.4,
          7.8,
          5.8,
          8,
          6.9,
          7.7,
          7.6,
          7,
          7.6,
          8,
          7.4,
          7.3,
          8.3,
          7.9,
          8.1,
          7.8,
          7.8,
          5.9,
          7.2,
          6,
          7.1,
          7.1,
          7.8,
          7.3,
          7.3,
          8,
          5.8,
          7.6,
          7.3,
          9.3,
          7,
          7.1,
          5.8,
          8,
          7.6,
          7.3,
          7.4,
          5.8,
          7.3,
          6.9,
          7.9,
          7.2,
          6.9,
          8.5,
          7.5,
          8,
          7.1,
          7.2,
          7.8,
          8,
          4.8,
          7.8,
          6.5,
          7,
          7.4,
          7.5,
          9.3,
          7.7,
          8.5,
          6.9,
          7.5,
          6.9,
          7.2,
          7.4,
          7.8,
          7,
          7.3,
          6.4,
          7.4,
          8,
          7.8,
          7.8,
          6,
          7.8,
          8,
          7.5,
          6.6,
          7.6,
          6.4,
          6.8,
          9.5,
          6.5,
          6.9,
          7.8,
          7.6,
          8.4,
          8,
          7.3,
          7.5,
          7.4,
          8.4,
          7.2,
          7.8,
          6.9,
          7.3,
          7.4,
          8.7,
          7.3,
          7.7,
          7.6,
          7.5,
          7.2,
          7.6,
          7.4,
          7.5,
          7,
          7.9,
          7.3,
          7.6,
          8.3,
          8.4,
          8,
          7.2,
          7.8,
          7.8,
          7.3,
          7.3,
          7.5,
          7.6,
          8.2,
          7.9,
          7.1,
          7.7,
          9,
          8.6,
          6.2,
          7.6,
          7.7,
          6.9,
          7,
          6.8,
          7.9,
          7.5,
          8,
          7.8,
          8.3,
          7.6,
          7.8,
          7.4,
          8.4,
          7.7,
          8.7,
          7.4,
          7.5,
          7.6,
          8,
          8.1,
          4.1,
          8.1,
          5.8,
          7.7,
          6.8,
          7.4,
          7.5,
          8.1,
          7.7,
          6.9,
          10,
          7.7,
          8,
          6.6,
          7.7,
          7.7,
          8,
          8.3,
          5.7,
          8.4,
          7.8,
          7.4,
          7.6,
          7.1,
          7.6,
          9.3,
          8.4,
          7.6,
          8,
          7.8,
          6.8,
          8.3,
          8.5,
          7,
          6.9,
          7.6,
          7.2,
          5.5,
          7.4,
          8,
          6.6,
          7.6,
          7,
          8.8,
          7.6,
          8,
          6.8,
          7.2,
          8.3,
          7.6,
          6.7,
          8.3,
          7.7,
          7.2,
          9.2,
          7.7,
          6.3,
          8,
          7.8,
          7.7,
          7.4,
          7.6,
          7.8,
          8.5,
          6.4,
          7.7,
          6.6,
          7.7,
          7.7,
          9,
          7.6,
          7.5,
          7.2,
          7.1,
          7.6,
          7.9,
          7.1,
          8,
          7.3,
          6.2,
          8,
          7.4,
          7.3,
          7.4,
          6.1,
          9.3,
          8.2,
          9.1,
          7.8,
          6.4,
          8,
          7.6,
          7.7,
          5.1,
          7.1,
          7.4,
          6.4,
          7.5,
          7.2,
          6.8,
          7.7,
          6.3,
          9.3,
          6.7,
          7.2,
          6.2,
          7.2,
          8.6,
          7,
          8.1,
          7.4,
          8,
          6,
          7.1,
          5.9,
          8.4,
          8,
          7.7,
          8.8,
          7.8,
          7.7,
          7.8,
          8.6,
          8,
          7.1,
          7,
          8,
          7.3,
          8.3,
          7.1,
          7.6,
          8,
          7.5,
          7.8,
          9,
          8.4,
          8.8,
          6.5,
          7.1,
          8.4,
          8,
          7.6,
          7.5,
          4.9,
          7.5,
          5.8,
          7,
          6.8,
          7,
          7.3,
          8,
          9,
          9.1,
          7.8,
          7.5,
          6.8,
          7.8,
          7.5,
          7.4,
          8,
          7.6,
          7.2,
          7.8,
          8.6,
          8,
          8.5,
          6.4,
          8.2,
          6.7,
          7.4,
          7.3,
          7.4,
          5,
          7.3,
          7,
          8.3,
          7.6,
          7,
          8.1,
          8.3,
          7.5,
          8.2,
          7.7,
          8.8,
          9,
          7,
          6.9,
          7.2,
          8.3,
          8,
          5.8,
          7.4,
          7.8,
          8,
          9.5,
          7.5,
          6.9,
          7.6,
          7.2,
          8,
          6.6,
          7.1,
          6.3,
          7.5,
          7.7,
          7.5,
          9,
          7.9,
          6.7,
          7.4,
          7.8,
          5.8,
          7.7,
          7.3,
          8,
          7.8,
          7.8,
          8.3,
          8,
          7.5,
          7.5,
          7.3,
          7.4,
          9.3,
          6.7,
          8.3,
          7.5,
          7.6,
          9,
          7.4,
          7.6,
          7.7,
          7.4,
          7.6,
          5.9,
          7.5,
          8.1,
          7,
          7.4,
          10,
          6.6,
          6.7,
          7.8,
          7.9,
          6.4,
          7.4,
          7,
          7.1,
          8,
          7.3,
          8,
          7.4,
          7.8,
          8,
          5.1,
          8.5,
          7.8,
          7.7,
          7.9,
          7.6,
          8.5,
          4.6,
          7.4,
          8.2,
          7.3,
          6.8,
          5.1,
          7,
          7.3,
          7,
          9.6,
          8,
          7.7,
          4.6,
          6.1,
          6.8,
          6.9,
          7.6,
          7.2,
          7.4,
          7.1,
          9,
          8.4,
          8.4,
          6.6,
          7.2,
          8,
          7.4,
          8,
          7.5,
          8,
          7.1,
          6.6,
          7,
          10,
          8.3,
          7.2,
          7.6,
          7.4,
          7.7,
          7.4,
          6.5,
          7.9,
          7.6,
          7.7,
          5.8,
          8.5,
          7.8,
          7.3,
          7.1,
          6.8,
          6.3,
          7.5,
          7.3,
          7.8,
          7.3,
          9.3,
          8.8,
          5.9,
          7.3,
          7.5,
          6.4,
          7.6,
          7.8,
          7.3,
          8.3,
          7.1,
          6.5,
          7.6,
          9.4,
          7.5,
          7.7,
          7.7,
          7.6,
          7.6,
          7,
          7.7,
          7.4,
          6.8,
          7.4,
          7.2,
          6,
          8,
          7.1,
          8.8,
          7.4,
          7.4,
          7.4,
          7.1,
          7.9,
          7.6,
          6.5,
          8,
          7,
          7.5,
          7.4,
          7,
          6.3,
          7.8,
          7.4,
          8.4,
          6.1,
          5.2,
          8.2,
          8,
          7.8,
          7.7,
          8.3,
          7.5,
          7.4,
          8,
          9,
          6.5,
          7.8,
          6.6,
          7.2,
          5.4,
          7.3,
          7.3,
          7.2,
          7.2,
          7.1,
          7,
          6.7,
          7.6,
          6.5,
          8,
          7.5,
          7.4,
          7.4,
          8,
          6.9,
          7.5,
          6.4,
          7.7,
          7.3,
          7.5,
          7.4,
          8,
          6.5,
          8,
          6.7,
          7.3,
          7.1,
          6.9,
          7.9,
          6.9,
          7.4,
          7.4,
          7.4,
          8,
          7.4,
          9.4,
          7.6,
          8.4,
          8,
          7.6,
          7.9,
          8.3,
          6.9,
          7,
          7.6,
          7,
          8,
          7.6,
          8.3,
          7.1,
          7.8,
          7.4,
          7.7,
          7,
          7.8,
          6.9,
          9.1,
          7.4,
          8.5,
          7.3,
          7.5,
          7.5,
          6.8,
          7.8,
          7.5,
          7.4,
          7,
          7.1,
          7.6,
          5.2,
          7.2,
          7.3,
          7.7,
          6,
          6.3,
          7.6,
          7.8,
          8.1,
          7.7,
          7.8,
          4.5,
          6.7,
          6.8,
          7.8,
          6.8,
          7.3,
          7.2,
          8.1,
          6.9,
          7,
          7.4,
          7.4,
          8,
          6.8,
          8,
          7.4,
          7.9,
          7.4,
          8.2,
          9,
          7.5,
          8.6,
          7.7,
          7,
          8.7,
          7.4,
          7.9,
          7.5,
          6.5,
          7.6,
          7.9,
          6.9,
          8.2,
          7.3,
          6.5,
          7.8,
          7.2,
          8.3,
          7.7,
          8.3,
          7.4,
          7.1,
          7.3,
          8.6,
          7.1,
          7.5,
          7.4,
          7.2,
          7.8,
          7.1,
          8.1,
          7.6,
          6.9,
          6,
          6.9,
          7.6,
          7.6,
          7.1,
          8.8,
          8,
          8,
          7.5,
          7.4,
          7.8,
          7.1,
          7.6,
          7.4,
          7.3,
          8,
          7.2,
          7.5,
          8.1,
          6.9,
          8,
          5.9,
          7.1,
          7.6,
          7,
          10,
          10,
          8.5,
          7.6,
          7.4,
          7.8,
          7.3,
          7.4,
          7.4,
          6.2,
          7.5,
          7.9,
          7.8,
          8.6,
          7.7,
          7.7,
          7.5,
          6.8,
          6.7,
          7.5,
          7.2,
          9.6,
          8.9
         ],
         "xaxis": "x",
         "xbins": {
          "end": 10.1,
          "size": 0.5,
          "start": 0
         },
         "yaxis": "y"
        }
       ],
       "layout": {
        "barmode": "relative",
        "legend": {
         "tracegroupgap": 0
        },
        "template": {
         "data": {
          "bar": [
           {
            "error_x": {
             "color": "#2a3f5f"
            },
            "error_y": {
             "color": "#2a3f5f"
            },
            "marker": {
             "line": {
              "color": "#E5ECF6",
              "width": 0.5
             },
             "pattern": {
              "fillmode": "overlay",
              "size": 10,
              "solidity": 0.2
             }
            },
            "type": "bar"
           }
          ],
          "barpolar": [
           {
            "marker": {
             "line": {
              "color": "#E5ECF6",
              "width": 0.5
             },
             "pattern": {
              "fillmode": "overlay",
              "size": 10,
              "solidity": 0.2
             }
            },
            "type": "barpolar"
           }
          ],
          "carpet": [
           {
            "aaxis": {
             "endlinecolor": "#2a3f5f",
             "gridcolor": "white",
             "linecolor": "white",
             "minorgridcolor": "white",
             "startlinecolor": "#2a3f5f"
            },
            "baxis": {
             "endlinecolor": "#2a3f5f",
             "gridcolor": "white",
             "linecolor": "white",
             "minorgridcolor": "white",
             "startlinecolor": "#2a3f5f"
            },
            "type": "carpet"
           }
          ],
          "choropleth": [
           {
            "colorbar": {
             "outlinewidth": 0,
             "ticks": ""
            },
            "type": "choropleth"
           }
          ],
          "contour": [
           {
            "colorbar": {
             "outlinewidth": 0,
             "ticks": ""
            },
            "colorscale": [
             [
              0,
              "#0d0887"
             ],
             [
              0.1111111111111111,
              "#46039f"
             ],
             [
              0.2222222222222222,
              "#7201a8"
             ],
             [
              0.3333333333333333,
              "#9c179e"
             ],
             [
              0.4444444444444444,
              "#bd3786"
             ],
             [
              0.5555555555555556,
              "#d8576b"
             ],
             [
              0.6666666666666666,
              "#ed7953"
             ],
             [
              0.7777777777777778,
              "#fb9f3a"
             ],
             [
              0.8888888888888888,
              "#fdca26"
             ],
             [
              1,
              "#f0f921"
             ]
            ],
            "type": "contour"
           }
          ],
          "contourcarpet": [
           {
            "colorbar": {
             "outlinewidth": 0,
             "ticks": ""
            },
            "type": "contourcarpet"
           }
          ],
          "heatmap": [
           {
            "colorbar": {
             "outlinewidth": 0,
             "ticks": ""
            },
            "colorscale": [
             [
              0,
              "#0d0887"
             ],
             [
              0.1111111111111111,
              "#46039f"
             ],
             [
              0.2222222222222222,
              "#7201a8"
             ],
             [
              0.3333333333333333,
              "#9c179e"
             ],
             [
              0.4444444444444444,
              "#bd3786"
             ],
             [
              0.5555555555555556,
              "#d8576b"
             ],
             [
              0.6666666666666666,
              "#ed7953"
             ],
             [
              0.7777777777777778,
              "#fb9f3a"
             ],
             [
              0.8888888888888888,
              "#fdca26"
             ],
             [
              1,
              "#f0f921"
             ]
            ],
            "type": "heatmap"
           }
          ],
          "heatmapgl": [
           {
            "colorbar": {
             "outlinewidth": 0,
             "ticks": ""
            },
            "colorscale": [
             [
              0,
              "#0d0887"
             ],
             [
              0.1111111111111111,
              "#46039f"
             ],
             [
              0.2222222222222222,
              "#7201a8"
             ],
             [
              0.3333333333333333,
              "#9c179e"
             ],
             [
              0.4444444444444444,
              "#bd3786"
             ],
             [
              0.5555555555555556,
              "#d8576b"
             ],
             [
              0.6666666666666666,
              "#ed7953"
             ],
             [
              0.7777777777777778,
              "#fb9f3a"
             ],
             [
              0.8888888888888888,
              "#fdca26"
             ],
             [
              1,
              "#f0f921"
             ]
            ],
            "type": "heatmapgl"
           }
          ],
          "histogram": [
           {
            "marker": {
             "pattern": {
              "fillmode": "overlay",
              "size": 10,
              "solidity": 0.2
             }
            },
            "type": "histogram"
           }
          ],
          "histogram2d": [
           {
            "colorbar": {
             "outlinewidth": 0,
             "ticks": ""
            },
            "colorscale": [
             [
              0,
              "#0d0887"
             ],
             [
              0.1111111111111111,
              "#46039f"
             ],
             [
              0.2222222222222222,
              "#7201a8"
             ],
             [
              0.3333333333333333,
              "#9c179e"
             ],
             [
              0.4444444444444444,
              "#bd3786"
             ],
             [
              0.5555555555555556,
              "#d8576b"
             ],
             [
              0.6666666666666666,
              "#ed7953"
             ],
             [
              0.7777777777777778,
              "#fb9f3a"
             ],
             [
              0.8888888888888888,
              "#fdca26"
             ],
             [
              1,
              "#f0f921"
             ]
            ],
            "type": "histogram2d"
           }
          ],
          "histogram2dcontour": [
           {
            "colorbar": {
             "outlinewidth": 0,
             "ticks": ""
            },
            "colorscale": [
             [
              0,
              "#0d0887"
             ],
             [
              0.1111111111111111,
              "#46039f"
             ],
             [
              0.2222222222222222,
              "#7201a8"
             ],
             [
              0.3333333333333333,
              "#9c179e"
             ],
             [
              0.4444444444444444,
              "#bd3786"
             ],
             [
              0.5555555555555556,
              "#d8576b"
             ],
             [
              0.6666666666666666,
              "#ed7953"
             ],
             [
              0.7777777777777778,
              "#fb9f3a"
             ],
             [
              0.8888888888888888,
              "#fdca26"
             ],
             [
              1,
              "#f0f921"
             ]
            ],
            "type": "histogram2dcontour"
           }
          ],
          "mesh3d": [
           {
            "colorbar": {
             "outlinewidth": 0,
             "ticks": ""
            },
            "type": "mesh3d"
           }
          ],
          "parcoords": [
           {
            "line": {
             "colorbar": {
              "outlinewidth": 0,
              "ticks": ""
             }
            },
            "type": "parcoords"
           }
          ],
          "pie": [
           {
            "automargin": true,
            "type": "pie"
           }
          ],
          "scatter": [
           {
            "marker": {
             "colorbar": {
              "outlinewidth": 0,
              "ticks": ""
             }
            },
            "type": "scatter"
           }
          ],
          "scatter3d": [
           {
            "line": {
             "colorbar": {
              "outlinewidth": 0,
              "ticks": ""
             }
            },
            "marker": {
             "colorbar": {
              "outlinewidth": 0,
              "ticks": ""
             }
            },
            "type": "scatter3d"
           }
          ],
          "scattercarpet": [
           {
            "marker": {
             "colorbar": {
              "outlinewidth": 0,
              "ticks": ""
             }
            },
            "type": "scattercarpet"
           }
          ],
          "scattergeo": [
           {
            "marker": {
             "colorbar": {
              "outlinewidth": 0,
              "ticks": ""
             }
            },
            "type": "scattergeo"
           }
          ],
          "scattergl": [
           {
            "marker": {
             "colorbar": {
              "outlinewidth": 0,
              "ticks": ""
             }
            },
            "type": "scattergl"
           }
          ],
          "scattermapbox": [
           {
            "marker": {
             "colorbar": {
              "outlinewidth": 0,
              "ticks": ""
             }
            },
            "type": "scattermapbox"
           }
          ],
          "scatterpolar": [
           {
            "marker": {
             "colorbar": {
              "outlinewidth": 0,
              "ticks": ""
             }
            },
            "type": "scatterpolar"
           }
          ],
          "scatterpolargl": [
           {
            "marker": {
             "colorbar": {
              "outlinewidth": 0,
              "ticks": ""
             }
            },
            "type": "scatterpolargl"
           }
          ],
          "scatterternary": [
           {
            "marker": {
             "colorbar": {
              "outlinewidth": 0,
              "ticks": ""
             }
            },
            "type": "scatterternary"
           }
          ],
          "surface": [
           {
            "colorbar": {
             "outlinewidth": 0,
             "ticks": ""
            },
            "colorscale": [
             [
              0,
              "#0d0887"
             ],
             [
              0.1111111111111111,
              "#46039f"
             ],
             [
              0.2222222222222222,
              "#7201a8"
             ],
             [
              0.3333333333333333,
              "#9c179e"
             ],
             [
              0.4444444444444444,
              "#bd3786"
             ],
             [
              0.5555555555555556,
              "#d8576b"
             ],
             [
              0.6666666666666666,
              "#ed7953"
             ],
             [
              0.7777777777777778,
              "#fb9f3a"
             ],
             [
              0.8888888888888888,
              "#fdca26"
             ],
             [
              1,
              "#f0f921"
             ]
            ],
            "type": "surface"
           }
          ],
          "table": [
           {
            "cells": {
             "fill": {
              "color": "#EBF0F8"
             },
             "line": {
              "color": "white"
             }
            },
            "header": {
             "fill": {
              "color": "#C8D4E3"
             },
             "line": {
              "color": "white"
             }
            },
            "type": "table"
           }
          ]
         },
         "layout": {
          "annotationdefaults": {
           "arrowcolor": "#2a3f5f",
           "arrowhead": 0,
           "arrowwidth": 1
          },
          "autotypenumbers": "strict",
          "coloraxis": {
           "colorbar": {
            "outlinewidth": 0,
            "ticks": ""
           }
          },
          "colorscale": {
           "diverging": [
            [
             0,
             "#8e0152"
            ],
            [
             0.1,
             "#c51b7d"
            ],
            [
             0.2,
             "#de77ae"
            ],
            [
             0.3,
             "#f1b6da"
            ],
            [
             0.4,
             "#fde0ef"
            ],
            [
             0.5,
             "#f7f7f7"
            ],
            [
             0.6,
             "#e6f5d0"
            ],
            [
             0.7,
             "#b8e186"
            ],
            [
             0.8,
             "#7fbc41"
            ],
            [
             0.9,
             "#4d9221"
            ],
            [
             1,
             "#276419"
            ]
           ],
           "sequential": [
            [
             0,
             "#0d0887"
            ],
            [
             0.1111111111111111,
             "#46039f"
            ],
            [
             0.2222222222222222,
             "#7201a8"
            ],
            [
             0.3333333333333333,
             "#9c179e"
            ],
            [
             0.4444444444444444,
             "#bd3786"
            ],
            [
             0.5555555555555556,
             "#d8576b"
            ],
            [
             0.6666666666666666,
             "#ed7953"
            ],
            [
             0.7777777777777778,
             "#fb9f3a"
            ],
            [
             0.8888888888888888,
             "#fdca26"
            ],
            [
             1,
             "#f0f921"
            ]
           ],
           "sequentialminus": [
            [
             0,
             "#0d0887"
            ],
            [
             0.1111111111111111,
             "#46039f"
            ],
            [
             0.2222222222222222,
             "#7201a8"
            ],
            [
             0.3333333333333333,
             "#9c179e"
            ],
            [
             0.4444444444444444,
             "#bd3786"
            ],
            [
             0.5555555555555556,
             "#d8576b"
            ],
            [
             0.6666666666666666,
             "#ed7953"
            ],
            [
             0.7777777777777778,
             "#fb9f3a"
            ],
            [
             0.8888888888888888,
             "#fdca26"
            ],
            [
             1,
             "#f0f921"
            ]
           ]
          },
          "colorway": [
           "#636efa",
           "#EF553B",
           "#00cc96",
           "#ab63fa",
           "#FFA15A",
           "#19d3f3",
           "#FF6692",
           "#B6E880",
           "#FF97FF",
           "#FECB52"
          ],
          "font": {
           "color": "#2a3f5f"
          },
          "geo": {
           "bgcolor": "white",
           "lakecolor": "white",
           "landcolor": "#E5ECF6",
           "showlakes": true,
           "showland": true,
           "subunitcolor": "white"
          },
          "hoverlabel": {
           "align": "left"
          },
          "hovermode": "closest",
          "mapbox": {
           "style": "light"
          },
          "paper_bgcolor": "white",
          "plot_bgcolor": "#E5ECF6",
          "polar": {
           "angularaxis": {
            "gridcolor": "white",
            "linecolor": "white",
            "ticks": ""
           },
           "bgcolor": "#E5ECF6",
           "radialaxis": {
            "gridcolor": "white",
            "linecolor": "white",
            "ticks": ""
           }
          },
          "scene": {
           "xaxis": {
            "backgroundcolor": "#E5ECF6",
            "gridcolor": "white",
            "gridwidth": 2,
            "linecolor": "white",
            "showbackground": true,
            "ticks": "",
            "zerolinecolor": "white"
           },
           "yaxis": {
            "backgroundcolor": "#E5ECF6",
            "gridcolor": "white",
            "gridwidth": 2,
            "linecolor": "white",
            "showbackground": true,
            "ticks": "",
            "zerolinecolor": "white"
           },
           "zaxis": {
            "backgroundcolor": "#E5ECF6",
            "gridcolor": "white",
            "gridwidth": 2,
            "linecolor": "white",
            "showbackground": true,
            "ticks": "",
            "zerolinecolor": "white"
           }
          },
          "shapedefaults": {
           "line": {
            "color": "#2a3f5f"
           }
          },
          "ternary": {
           "aaxis": {
            "gridcolor": "white",
            "linecolor": "white",
            "ticks": ""
           },
           "baxis": {
            "gridcolor": "white",
            "linecolor": "white",
            "ticks": ""
           },
           "bgcolor": "#E5ECF6",
           "caxis": {
            "gridcolor": "white",
            "linecolor": "white",
            "ticks": ""
           }
          },
          "title": {
           "x": 0.05
          },
          "xaxis": {
           "automargin": true,
           "gridcolor": "white",
           "linecolor": "white",
           "ticks": "",
           "title": {
            "standoff": 15
           },
           "zerolinecolor": "white",
           "zerolinewidth": 2
          },
          "yaxis": {
           "automargin": true,
           "gridcolor": "white",
           "linecolor": "white",
           "ticks": "",
           "title": {
            "standoff": 15
           },
           "zerolinecolor": "white",
           "zerolinewidth": 2
          }
         }
        },
        "title": {
         "text": "Spread of Review Scores"
        },
        "xaxis": {
         "anchor": "y",
         "domain": [
          0,
          1
         ],
         "title": {
          "text": "Score"
         }
        },
        "yaxis": {
         "anchor": "x",
         "domain": [
          0,
          1
         ],
         "title": {
          "text": "Count"
         }
        }
       }
      },
      "text/html": [
       "<div>                            <div id=\"9a343621-b2ff-48f8-8d7a-a427521d5f4c\" class=\"plotly-graph-div\" style=\"height:525px; width:100%;\"></div>            <script type=\"text/javascript\">                require([\"plotly\"], function(Plotly) {                    window.PLOTLYENV=window.PLOTLYENV || {};                                    if (document.getElementById(\"9a343621-b2ff-48f8-8d7a-a427521d5f4c\")) {                    Plotly.newPlot(                        \"9a343621-b2ff-48f8-8d7a-a427521d5f4c\",                        [{\"alignmentgroup\":\"True\",\"bingroup\":\"x\",\"hovertemplate\":\"Score=%{x}<br>count=%{y}<extra></extra>\",\"legendgroup\":\"\",\"marker\":{\"color\":\"rgb(135,206,235)\",\"pattern\":{\"shape\":\"\"}},\"name\":\"\",\"offsetgroup\":\"\",\"orientation\":\"v\",\"showlegend\":false,\"x\":[7.3,7.2,7.8,7.9,8.5,7.2,6.3,7.8,7.6,7.6,8.1,7.6,7.7,9.4,7.7,8.0,7.5,7.7,7.3,5.7,8.5,8.0,5.7,8.0,8.3,4.5,6.2,7.1,7.0,9.5,7.1,7.1,8.7,6.8,4.5,7.0,7.4,8.0,7.1,7.3,6.5,7.9,7.0,9.0,8.7,8.0,7.6,6.8,8.0,7.0,8.1,7.8,7.5,8.2,7.2,7.4,8.0,7.6,7.6,8.0,7.7,7.7,7.6,7.7,8.0,7.8,7.6,7.5,7.0,7.3,5.8,7.9,7.8,7.6,8.1,7.9,6.6,7.4,8.2,7.9,7.3,4.6,6.1,7.6,8.0,7.3,7.4,7.5,7.3,9.5,7.4,7.8,5.8,8.0,6.9,7.7,7.6,7.0,7.6,8.0,7.4,7.3,8.3,7.9,8.1,7.8,7.8,5.9,7.2,6.0,7.1,7.1,7.8,7.3,7.3,8.0,5.8,7.6,7.3,9.3,7.0,7.1,5.8,8.0,7.6,7.3,7.4,5.8,7.3,6.9,7.9,7.2,6.9,8.5,7.5,8.0,7.1,7.2,7.8,8.0,4.8,7.8,6.5,7.0,7.4,7.5,9.3,7.7,8.5,6.9,7.5,6.9,7.2,7.4,7.8,7.0,7.3,6.4,7.4,8.0,7.8,7.8,6.0,7.8,8.0,7.5,6.6,7.6,6.4,6.8,9.5,6.5,6.9,7.8,7.6,8.4,8.0,7.3,7.5,7.4,8.4,7.2,7.8,6.9,7.3,7.4,8.7,7.3,7.7,7.6,7.5,7.2,7.6,7.4,7.5,7.0,7.9,7.3,7.6,8.3,8.4,8.0,7.2,7.8,7.8,7.3,7.3,7.5,7.6,8.2,7.9,7.1,7.7,9.0,8.6,6.2,7.6,7.7,6.9,7.0,6.8,7.9,7.5,8.0,7.8,8.3,7.6,7.8,7.4,8.4,7.7,8.7,7.4,7.5,7.6,8.0,8.1,4.1,8.1,5.8,7.7,6.8,7.4,7.5,8.1,7.7,6.9,10.0,7.7,8.0,6.6,7.7,7.7,8.0,8.3,5.7,8.4,7.8,7.4,7.6,7.1,7.6,9.3,8.4,7.6,8.0,7.8,6.8,8.3,8.5,7.0,6.9,7.6,7.2,5.5,7.4,8.0,6.6,7.6,7.0,8.8,7.6,8.0,6.8,7.2,8.3,7.6,6.7,8.3,7.7,7.2,9.2,7.7,6.3,8.0,7.8,7.7,7.4,7.6,7.8,8.5,6.4,7.7,6.6,7.7,7.7,9.0,7.6,7.5,7.2,7.1,7.6,7.9,7.1,8.0,7.3,6.2,8.0,7.4,7.3,7.4,6.1,9.3,8.2,9.1,7.8,6.4,8.0,7.6,7.7,5.1,7.1,7.4,6.4,7.5,7.2,6.8,7.7,6.3,9.3,6.7,7.2,6.2,7.2,8.6,7.0,8.1,7.4,8.0,6.0,7.1,5.9,8.4,8.0,7.7,8.8,7.8,7.7,7.8,8.6,8.0,7.1,7.0,8.0,7.3,8.3,7.1,7.6,8.0,7.5,7.8,9.0,8.4,8.8,6.5,7.1,8.4,8.0,7.6,7.5,4.9,7.5,5.8,7.0,6.8,7.0,7.3,8.0,9.0,9.1,7.8,7.5,6.8,7.8,7.5,7.4,8.0,7.6,7.2,7.8,8.6,8.0,8.5,6.4,8.2,6.7,7.4,7.3,7.4,5.0,7.3,7.0,8.3,7.6,7.0,8.1,8.3,7.5,8.2,7.7,8.8,9.0,7.0,6.9,7.2,8.3,8.0,5.8,7.4,7.8,8.0,9.5,7.5,6.9,7.6,7.2,8.0,6.6,7.1,6.3,7.5,7.7,7.5,9.0,7.9,6.7,7.4,7.8,5.8,7.7,7.3,8.0,7.8,7.8,8.3,8.0,7.5,7.5,7.3,7.4,9.3,6.7,8.3,7.5,7.6,9.0,7.4,7.6,7.7,7.4,7.6,5.9,7.5,8.1,7.0,7.4,10.0,6.6,6.7,7.8,7.9,6.4,7.4,7.0,7.1,8.0,7.3,8.0,7.4,7.8,8.0,5.1,8.5,7.8,7.7,7.9,7.6,8.5,4.6,7.4,8.2,7.3,6.8,5.1,7.0,7.3,7.0,9.6,8.0,7.7,4.6,6.1,6.8,6.9,7.6,7.2,7.4,7.1,9.0,8.4,8.4,6.6,7.2,8.0,7.4,8.0,7.5,8.0,7.1,6.6,7.0,10.0,8.3,7.2,7.6,7.4,7.7,7.4,6.5,7.9,7.6,7.7,5.8,8.5,7.8,7.3,7.1,6.8,6.3,7.5,7.3,7.8,7.3,9.3,8.8,5.9,7.3,7.5,6.4,7.6,7.8,7.3,8.3,7.1,6.5,7.6,9.4,7.5,7.7,7.7,7.6,7.6,7.0,7.7,7.4,6.8,7.4,7.2,6.0,8.0,7.1,8.8,7.4,7.4,7.4,7.1,7.9,7.6,6.5,8.0,7.0,7.5,7.4,7.0,6.3,7.8,7.4,8.4,6.1,5.2,8.2,8.0,7.8,7.7,8.3,7.5,7.4,8.0,9.0,6.5,7.8,6.6,7.2,5.4,7.3,7.3,7.2,7.2,7.1,7.0,6.7,7.6,6.5,8.0,7.5,7.4,7.4,8.0,6.9,7.5,6.4,7.7,7.3,7.5,7.4,8.0,6.5,8.0,6.7,7.3,7.1,6.9,7.9,6.9,7.4,7.4,7.4,8.0,7.4,9.4,7.6,8.4,8.0,7.6,7.9,8.3,6.9,7.0,7.6,7.0,8.0,7.6,8.3,7.1,7.8,7.4,7.7,7.0,7.8,6.9,9.1,7.4,8.5,7.3,7.5,7.5,6.8,7.8,7.5,7.4,7.0,7.1,7.6,5.2,7.2,7.3,7.7,6.0,6.3,7.6,7.8,8.1,7.7,7.8,4.5,6.7,6.8,7.8,6.8,7.3,7.2,8.1,6.9,7.0,7.4,7.4,8.0,6.8,8.0,7.4,7.9,7.4,8.2,9.0,7.5,8.6,7.7,7.0,8.7,7.4,7.9,7.5,6.5,7.6,7.9,6.9,8.2,7.3,6.5,7.8,7.2,8.3,7.7,8.3,7.4,7.1,7.3,8.6,7.1,7.5,7.4,7.2,7.8,7.1,8.1,7.6,6.9,6.0,6.9,7.6,7.6,7.1,8.8,8.0,8.0,7.5,7.4,7.8,7.1,7.6,7.4,7.3,8.0,7.2,7.5,8.1,6.9,8.0,5.9,7.1,7.6,7.0,10.0,10.0,8.5,7.6,7.4,7.8,7.3,7.4,7.4,6.2,7.5,7.9,7.8,8.6,7.7,7.7,7.5,6.8,6.7,7.5,7.2,9.6,8.9],\"xaxis\":\"x\",\"yaxis\":\"y\",\"type\":\"histogram\",\"xbins\":{\"end\":10.1,\"size\":0.5,\"start\":0.0}}],                        {\"template\":{\"data\":{\"bar\":[{\"error_x\":{\"color\":\"#2a3f5f\"},\"error_y\":{\"color\":\"#2a3f5f\"},\"marker\":{\"line\":{\"color\":\"#E5ECF6\",\"width\":0.5},\"pattern\":{\"fillmode\":\"overlay\",\"size\":10,\"solidity\":0.2}},\"type\":\"bar\"}],\"barpolar\":[{\"marker\":{\"line\":{\"color\":\"#E5ECF6\",\"width\":0.5},\"pattern\":{\"fillmode\":\"overlay\",\"size\":10,\"solidity\":0.2}},\"type\":\"barpolar\"}],\"carpet\":[{\"aaxis\":{\"endlinecolor\":\"#2a3f5f\",\"gridcolor\":\"white\",\"linecolor\":\"white\",\"minorgridcolor\":\"white\",\"startlinecolor\":\"#2a3f5f\"},\"baxis\":{\"endlinecolor\":\"#2a3f5f\",\"gridcolor\":\"white\",\"linecolor\":\"white\",\"minorgridcolor\":\"white\",\"startlinecolor\":\"#2a3f5f\"},\"type\":\"carpet\"}],\"choropleth\":[{\"colorbar\":{\"outlinewidth\":0,\"ticks\":\"\"},\"type\":\"choropleth\"}],\"contour\":[{\"colorbar\":{\"outlinewidth\":0,\"ticks\":\"\"},\"colorscale\":[[0.0,\"#0d0887\"],[0.1111111111111111,\"#46039f\"],[0.2222222222222222,\"#7201a8\"],[0.3333333333333333,\"#9c179e\"],[0.4444444444444444,\"#bd3786\"],[0.5555555555555556,\"#d8576b\"],[0.6666666666666666,\"#ed7953\"],[0.7777777777777778,\"#fb9f3a\"],[0.8888888888888888,\"#fdca26\"],[1.0,\"#f0f921\"]],\"type\":\"contour\"}],\"contourcarpet\":[{\"colorbar\":{\"outlinewidth\":0,\"ticks\":\"\"},\"type\":\"contourcarpet\"}],\"heatmap\":[{\"colorbar\":{\"outlinewidth\":0,\"ticks\":\"\"},\"colorscale\":[[0.0,\"#0d0887\"],[0.1111111111111111,\"#46039f\"],[0.2222222222222222,\"#7201a8\"],[0.3333333333333333,\"#9c179e\"],[0.4444444444444444,\"#bd3786\"],[0.5555555555555556,\"#d8576b\"],[0.6666666666666666,\"#ed7953\"],[0.7777777777777778,\"#fb9f3a\"],[0.8888888888888888,\"#fdca26\"],[1.0,\"#f0f921\"]],\"type\":\"heatmap\"}],\"heatmapgl\":[{\"colorbar\":{\"outlinewidth\":0,\"ticks\":\"\"},\"colorscale\":[[0.0,\"#0d0887\"],[0.1111111111111111,\"#46039f\"],[0.2222222222222222,\"#7201a8\"],[0.3333333333333333,\"#9c179e\"],[0.4444444444444444,\"#bd3786\"],[0.5555555555555556,\"#d8576b\"],[0.6666666666666666,\"#ed7953\"],[0.7777777777777778,\"#fb9f3a\"],[0.8888888888888888,\"#fdca26\"],[1.0,\"#f0f921\"]],\"type\":\"heatmapgl\"}],\"histogram\":[{\"marker\":{\"pattern\":{\"fillmode\":\"overlay\",\"size\":10,\"solidity\":0.2}},\"type\":\"histogram\"}],\"histogram2d\":[{\"colorbar\":{\"outlinewidth\":0,\"ticks\":\"\"},\"colorscale\":[[0.0,\"#0d0887\"],[0.1111111111111111,\"#46039f\"],[0.2222222222222222,\"#7201a8\"],[0.3333333333333333,\"#9c179e\"],[0.4444444444444444,\"#bd3786\"],[0.5555555555555556,\"#d8576b\"],[0.6666666666666666,\"#ed7953\"],[0.7777777777777778,\"#fb9f3a\"],[0.8888888888888888,\"#fdca26\"],[1.0,\"#f0f921\"]],\"type\":\"histogram2d\"}],\"histogram2dcontour\":[{\"colorbar\":{\"outlinewidth\":0,\"ticks\":\"\"},\"colorscale\":[[0.0,\"#0d0887\"],[0.1111111111111111,\"#46039f\"],[0.2222222222222222,\"#7201a8\"],[0.3333333333333333,\"#9c179e\"],[0.4444444444444444,\"#bd3786\"],[0.5555555555555556,\"#d8576b\"],[0.6666666666666666,\"#ed7953\"],[0.7777777777777778,\"#fb9f3a\"],[0.8888888888888888,\"#fdca26\"],[1.0,\"#f0f921\"]],\"type\":\"histogram2dcontour\"}],\"mesh3d\":[{\"colorbar\":{\"outlinewidth\":0,\"ticks\":\"\"},\"type\":\"mesh3d\"}],\"parcoords\":[{\"line\":{\"colorbar\":{\"outlinewidth\":0,\"ticks\":\"\"}},\"type\":\"parcoords\"}],\"pie\":[{\"automargin\":true,\"type\":\"pie\"}],\"scatter\":[{\"marker\":{\"colorbar\":{\"outlinewidth\":0,\"ticks\":\"\"}},\"type\":\"scatter\"}],\"scatter3d\":[{\"line\":{\"colorbar\":{\"outlinewidth\":0,\"ticks\":\"\"}},\"marker\":{\"colorbar\":{\"outlinewidth\":0,\"ticks\":\"\"}},\"type\":\"scatter3d\"}],\"scattercarpet\":[{\"marker\":{\"colorbar\":{\"outlinewidth\":0,\"ticks\":\"\"}},\"type\":\"scattercarpet\"}],\"scattergeo\":[{\"marker\":{\"colorbar\":{\"outlinewidth\":0,\"ticks\":\"\"}},\"type\":\"scattergeo\"}],\"scattergl\":[{\"marker\":{\"colorbar\":{\"outlinewidth\":0,\"ticks\":\"\"}},\"type\":\"scattergl\"}],\"scattermapbox\":[{\"marker\":{\"colorbar\":{\"outlinewidth\":0,\"ticks\":\"\"}},\"type\":\"scattermapbox\"}],\"scatterpolar\":[{\"marker\":{\"colorbar\":{\"outlinewidth\":0,\"ticks\":\"\"}},\"type\":\"scatterpolar\"}],\"scatterpolargl\":[{\"marker\":{\"colorbar\":{\"outlinewidth\":0,\"ticks\":\"\"}},\"type\":\"scatterpolargl\"}],\"scatterternary\":[{\"marker\":{\"colorbar\":{\"outlinewidth\":0,\"ticks\":\"\"}},\"type\":\"scatterternary\"}],\"surface\":[{\"colorbar\":{\"outlinewidth\":0,\"ticks\":\"\"},\"colorscale\":[[0.0,\"#0d0887\"],[0.1111111111111111,\"#46039f\"],[0.2222222222222222,\"#7201a8\"],[0.3333333333333333,\"#9c179e\"],[0.4444444444444444,\"#bd3786\"],[0.5555555555555556,\"#d8576b\"],[0.6666666666666666,\"#ed7953\"],[0.7777777777777778,\"#fb9f3a\"],[0.8888888888888888,\"#fdca26\"],[1.0,\"#f0f921\"]],\"type\":\"surface\"}],\"table\":[{\"cells\":{\"fill\":{\"color\":\"#EBF0F8\"},\"line\":{\"color\":\"white\"}},\"header\":{\"fill\":{\"color\":\"#C8D4E3\"},\"line\":{\"color\":\"white\"}},\"type\":\"table\"}]},\"layout\":{\"annotationdefaults\":{\"arrowcolor\":\"#2a3f5f\",\"arrowhead\":0,\"arrowwidth\":1},\"autotypenumbers\":\"strict\",\"coloraxis\":{\"colorbar\":{\"outlinewidth\":0,\"ticks\":\"\"}},\"colorscale\":{\"diverging\":[[0,\"#8e0152\"],[0.1,\"#c51b7d\"],[0.2,\"#de77ae\"],[0.3,\"#f1b6da\"],[0.4,\"#fde0ef\"],[0.5,\"#f7f7f7\"],[0.6,\"#e6f5d0\"],[0.7,\"#b8e186\"],[0.8,\"#7fbc41\"],[0.9,\"#4d9221\"],[1,\"#276419\"]],\"sequential\":[[0.0,\"#0d0887\"],[0.1111111111111111,\"#46039f\"],[0.2222222222222222,\"#7201a8\"],[0.3333333333333333,\"#9c179e\"],[0.4444444444444444,\"#bd3786\"],[0.5555555555555556,\"#d8576b\"],[0.6666666666666666,\"#ed7953\"],[0.7777777777777778,\"#fb9f3a\"],[0.8888888888888888,\"#fdca26\"],[1.0,\"#f0f921\"]],\"sequentialminus\":[[0.0,\"#0d0887\"],[0.1111111111111111,\"#46039f\"],[0.2222222222222222,\"#7201a8\"],[0.3333333333333333,\"#9c179e\"],[0.4444444444444444,\"#bd3786\"],[0.5555555555555556,\"#d8576b\"],[0.6666666666666666,\"#ed7953\"],[0.7777777777777778,\"#fb9f3a\"],[0.8888888888888888,\"#fdca26\"],[1.0,\"#f0f921\"]]},\"colorway\":[\"#636efa\",\"#EF553B\",\"#00cc96\",\"#ab63fa\",\"#FFA15A\",\"#19d3f3\",\"#FF6692\",\"#B6E880\",\"#FF97FF\",\"#FECB52\"],\"font\":{\"color\":\"#2a3f5f\"},\"geo\":{\"bgcolor\":\"white\",\"lakecolor\":\"white\",\"landcolor\":\"#E5ECF6\",\"showlakes\":true,\"showland\":true,\"subunitcolor\":\"white\"},\"hoverlabel\":{\"align\":\"left\"},\"hovermode\":\"closest\",\"mapbox\":{\"style\":\"light\"},\"paper_bgcolor\":\"white\",\"plot_bgcolor\":\"#E5ECF6\",\"polar\":{\"angularaxis\":{\"gridcolor\":\"white\",\"linecolor\":\"white\",\"ticks\":\"\"},\"bgcolor\":\"#E5ECF6\",\"radialaxis\":{\"gridcolor\":\"white\",\"linecolor\":\"white\",\"ticks\":\"\"}},\"scene\":{\"xaxis\":{\"backgroundcolor\":\"#E5ECF6\",\"gridcolor\":\"white\",\"gridwidth\":2,\"linecolor\":\"white\",\"showbackground\":true,\"ticks\":\"\",\"zerolinecolor\":\"white\"},\"yaxis\":{\"backgroundcolor\":\"#E5ECF6\",\"gridcolor\":\"white\",\"gridwidth\":2,\"linecolor\":\"white\",\"showbackground\":true,\"ticks\":\"\",\"zerolinecolor\":\"white\"},\"zaxis\":{\"backgroundcolor\":\"#E5ECF6\",\"gridcolor\":\"white\",\"gridwidth\":2,\"linecolor\":\"white\",\"showbackground\":true,\"ticks\":\"\",\"zerolinecolor\":\"white\"}},\"shapedefaults\":{\"line\":{\"color\":\"#2a3f5f\"}},\"ternary\":{\"aaxis\":{\"gridcolor\":\"white\",\"linecolor\":\"white\",\"ticks\":\"\"},\"baxis\":{\"gridcolor\":\"white\",\"linecolor\":\"white\",\"ticks\":\"\"},\"bgcolor\":\"#E5ECF6\",\"caxis\":{\"gridcolor\":\"white\",\"linecolor\":\"white\",\"ticks\":\"\"}},\"title\":{\"x\":0.05},\"xaxis\":{\"automargin\":true,\"gridcolor\":\"white\",\"linecolor\":\"white\",\"ticks\":\"\",\"title\":{\"standoff\":15},\"zerolinecolor\":\"white\",\"zerolinewidth\":2},\"yaxis\":{\"automargin\":true,\"gridcolor\":\"white\",\"linecolor\":\"white\",\"ticks\":\"\",\"title\":{\"standoff\":15},\"zerolinecolor\":\"white\",\"zerolinewidth\":2}}},\"xaxis\":{\"anchor\":\"y\",\"domain\":[0.0,1.0],\"title\":{\"text\":\"Score\"}},\"yaxis\":{\"anchor\":\"x\",\"domain\":[0.0,1.0],\"title\":{\"text\":\"Count\"}},\"legend\":{\"tracegroupgap\":0},\"title\":{\"text\":\"Spread of Review Scores\"},\"barmode\":\"relative\"},                        {\"responsive\": true}                    ).then(function(){\n",
       "                            \n",
       "var gd = document.getElementById('9a343621-b2ff-48f8-8d7a-a427521d5f4c');\n",
       "var x = new MutationObserver(function (mutations, observer) {{\n",
       "        var display = window.getComputedStyle(gd).display;\n",
       "        if (!display || display === 'none') {{\n",
       "            console.log([gd, 'removed!']);\n",
       "            Plotly.purge(gd);\n",
       "            observer.disconnect();\n",
       "        }}\n",
       "}});\n",
       "\n",
       "// Listen for the removal of the full notebook cells\n",
       "var notebookContainer = gd.closest('#notebook-container');\n",
       "if (notebookContainer) {{\n",
       "    x.observe(notebookContainer, {childList: true});\n",
       "}}\n",
       "\n",
       "// Listen for the clearing of the current output cell\n",
       "var outputEl = gd.closest('.output');\n",
       "if (outputEl) {{\n",
       "    x.observe(outputEl, {childList: true});\n",
       "}}\n",
       "\n",
       "                        })                };                });            </script>        </div>"
      ]
     },
     "metadata": {},
     "output_type": "display_data"
    }
   ],
   "source": [
    "# made using plotly express\n",
    "# look into adjusting the colors etc\n",
    "fig = px.histogram(df, x='Score', title='Spread of Review Scores')\n",
    "fig.update_traces(marker_color='rgb(135,206,235)', xbins=dict(start=0.0, end=10.1, size=0.5))\n",
    "fig.update_layout(yaxis_title_text='Count')\n",
    "\n",
    "fig.show()\n"
   ]
  },
  {
   "cell_type": "markdown",
   "id": "59da78e3",
   "metadata": {},
   "source": [
    "## NLP"
   ]
  },
  {
   "cell_type": "markdown",
   "id": "73b020c6",
   "metadata": {},
   "source": [
    "### Text pre-processing\n",
    "- lower casing\n",
    "- tokenisation\n",
    "- remove punctuation\n",
    "- stop words\n",
    "- lemmatisation"
   ]
  },
  {
   "cell_type": "code",
   "execution_count": 25,
   "id": "0e24e114",
   "metadata": {},
   "outputs": [],
   "source": [
    "from nltk.tokenize import word_tokenize\n",
    "from nltk.corpus import stopwords\n",
    "from nltk.stem import WordNetLemmatizer\n",
    "import string\n",
    "\n",
    "# convert all review text to lowercase\n",
    "df['Text'] = df['Text'].str.lower()\n",
    "\n",
    "# split text into individual tokens\n",
    "df['tokens'] = df['Text'].apply(word_tokenize)\n",
    "# drop Text column\n",
    "#df = df.drop(['Text'], axis = 1)\n",
    "\n",
    "# remove punctuation\n",
    "df['tokens'] = df['tokens'].apply(\n",
    "    lambda tokens: [w.translate(str.maketrans('', '', string.punctuation)) for w in tokens])\n",
    "\n",
    "# remove stop words - editing ntlk's list\n",
    "stop_words = set(stopwords.words('english')) - {'no', 'not'}\n",
    "df['tokens'] = df['tokens'].apply(lambda tokens: [w for w in tokens if not w in stop_words])\n",
    "\n",
    "# lemmatise text\n",
    "lemmatizer = WordNetLemmatizer()\n",
    "df['tokens'] = df['tokens'].apply(lambda tokens: [lemmatizer.lemmatize(w) for w in tokens])"
   ]
  },
  {
   "cell_type": "markdown",
   "id": "0f52e1c1",
   "metadata": {},
   "source": [
    "### Text Classification\n",
    "Aim to identify the most important words for each genre"
   ]
  },
  {
   "cell_type": "code",
   "execution_count": null,
   "id": "846b28ce",
   "metadata": {},
   "outputs": [],
   "source": [
    "from sklearn.feature_extraction.text import TfidfVectorizer"
   ]
  },
  {
   "cell_type": "code",
   "execution_count": 145,
   "id": "e6a97c6d",
   "metadata": {},
   "outputs": [],
   "source": [
    "def clean_text(text):\n",
    "    # Remove punctuation using regex\n",
    "    text = re.sub(r'[^\\w\\s]', '', text)\n",
    "    return text \n",
    "\n",
    "df['Text'] = df['Text'].apply(clean_text)"
   ]
  },
  {
   "cell_type": "code",
   "execution_count": 146,
   "id": "478041c5",
   "metadata": {},
   "outputs": [],
   "source": [
    "#stop_words = set(stopwords.words('english')) - {'no', 'not'}\n",
    "\n",
    "\n",
    "\n",
    "# Define Lemmatizing and Tokenizing function\n",
    "class WordLemmaTokenizer(object):\n",
    "    def __init__(self):\n",
    "        self.wnl=WordNetLemmatizer()\n",
    "    def __call__(self,doc):\n",
    "        return [self.wnl.lemmatize(t) for t in word_tokenize(doc)]\n",
    "\n",
    "# Define vectorizer object\n",
    "vectorizer=TfidfVectorizer(analyzer='word',\n",
    "                           input='content',\n",
    "                           lowercase=True,\n",
    "                           stop_words= set(stopwords.words('english')) - {'no', 'not'},\n",
    "                           min_df=3,\n",
    "                           ngram_range=(1,1),\n",
    "                           tokenizer=WordLemmaTokenizer())"
   ]
  },
  {
   "cell_type": "code",
   "execution_count": 147,
   "id": "d4715677",
   "metadata": {
    "scrolled": true
   },
   "outputs": [
    {
     "name": "stderr",
     "output_type": "stream",
     "text": [
      "/Users/simoncrouch/opt/anaconda3/lib/python3.9/site-packages/sklearn/feature_extraction/text.py:396: UserWarning:\n",
      "\n",
      "Your stop_words may be inconsistent with your preprocessing. Tokenizing the stop words generated tokens [\"'d\", \"'ll\", \"'re\", \"'s\", \"'ve\", 'could', 'doe', 'ha', 'might', 'must', \"n't\", 'need', 'sha', 'wa', 'wo', 'would'] not in stop_words.\n",
      "\n"
     ]
    }
   ],
   "source": [
    "# Fit and transform the text data\n",
    "X_tfidf = vectorizer.fit_transform(df['Text'])"
   ]
  },
  {
   "cell_type": "code",
   "execution_count": 148,
   "id": "4baf3e3b",
   "metadata": {},
   "outputs": [],
   "source": [
    "feature_names = vectorizer.get_feature_names_out()"
   ]
  },
  {
   "cell_type": "code",
   "execution_count": 149,
   "id": "9e2b5cb9",
   "metadata": {},
   "outputs": [],
   "source": [
    "tfidf_df = pd.DataFrame(X_tfidf.toarray(), columns=feature_names)"
   ]
  },
  {
   "cell_type": "code",
   "execution_count": 150,
   "id": "dc9e727a",
   "metadata": {
    "scrolled": true
   },
   "outputs": [
    {
     "data": {
      "text/html": [
       "<div>\n",
       "<style scoped>\n",
       "    .dataframe tbody tr th:only-of-type {\n",
       "        vertical-align: middle;\n",
       "    }\n",
       "\n",
       "    .dataframe tbody tr th {\n",
       "        vertical-align: top;\n",
       "    }\n",
       "\n",
       "    .dataframe thead th {\n",
       "        text-align: right;\n",
       "    }\n",
       "</style>\n",
       "<table border=\"1\" class=\"dataframe\">\n",
       "  <thead>\n",
       "    <tr style=\"text-align: right;\">\n",
       "      <th></th>\n",
       "      <th>00s</th>\n",
       "      <th>1</th>\n",
       "      <th>10</th>\n",
       "      <th>100</th>\n",
       "      <th>1000</th>\n",
       "      <th>10minute</th>\n",
       "      <th>10th</th>\n",
       "      <th>11</th>\n",
       "      <th>11th</th>\n",
       "      <th>12</th>\n",
       "      <th>...</th>\n",
       "      <th>zine</th>\n",
       "      <th>zines</th>\n",
       "      <th>zinger</th>\n",
       "      <th>zip</th>\n",
       "      <th>zither</th>\n",
       "      <th>zone</th>\n",
       "      <th>zonked</th>\n",
       "      <th>zoom</th>\n",
       "      <th>zulu</th>\n",
       "      <th>à</th>\n",
       "    </tr>\n",
       "  </thead>\n",
       "  <tbody>\n",
       "    <tr>\n",
       "      <th>0</th>\n",
       "      <td>0.0</td>\n",
       "      <td>0.000000</td>\n",
       "      <td>0.054406</td>\n",
       "      <td>0.0</td>\n",
       "      <td>0.0</td>\n",
       "      <td>0.0</td>\n",
       "      <td>0.0</td>\n",
       "      <td>0.000000</td>\n",
       "      <td>0.0</td>\n",
       "      <td>0.0</td>\n",
       "      <td>...</td>\n",
       "      <td>0.0</td>\n",
       "      <td>0.0</td>\n",
       "      <td>0.0</td>\n",
       "      <td>0.0</td>\n",
       "      <td>0.0</td>\n",
       "      <td>0.0</td>\n",
       "      <td>0.0</td>\n",
       "      <td>0.0</td>\n",
       "      <td>0.0</td>\n",
       "      <td>0.0</td>\n",
       "    </tr>\n",
       "    <tr>\n",
       "      <th>1</th>\n",
       "      <td>0.0</td>\n",
       "      <td>0.000000</td>\n",
       "      <td>0.000000</td>\n",
       "      <td>0.0</td>\n",
       "      <td>0.0</td>\n",
       "      <td>0.0</td>\n",
       "      <td>0.0</td>\n",
       "      <td>0.000000</td>\n",
       "      <td>0.0</td>\n",
       "      <td>0.0</td>\n",
       "      <td>...</td>\n",
       "      <td>0.0</td>\n",
       "      <td>0.0</td>\n",
       "      <td>0.0</td>\n",
       "      <td>0.0</td>\n",
       "      <td>0.0</td>\n",
       "      <td>0.0</td>\n",
       "      <td>0.0</td>\n",
       "      <td>0.0</td>\n",
       "      <td>0.0</td>\n",
       "      <td>0.0</td>\n",
       "    </tr>\n",
       "    <tr>\n",
       "      <th>2</th>\n",
       "      <td>0.0</td>\n",
       "      <td>0.000000</td>\n",
       "      <td>0.000000</td>\n",
       "      <td>0.0</td>\n",
       "      <td>0.0</td>\n",
       "      <td>0.0</td>\n",
       "      <td>0.0</td>\n",
       "      <td>0.000000</td>\n",
       "      <td>0.0</td>\n",
       "      <td>0.0</td>\n",
       "      <td>...</td>\n",
       "      <td>0.0</td>\n",
       "      <td>0.0</td>\n",
       "      <td>0.0</td>\n",
       "      <td>0.0</td>\n",
       "      <td>0.0</td>\n",
       "      <td>0.0</td>\n",
       "      <td>0.0</td>\n",
       "      <td>0.0</td>\n",
       "      <td>0.0</td>\n",
       "      <td>0.0</td>\n",
       "    </tr>\n",
       "    <tr>\n",
       "      <th>3</th>\n",
       "      <td>0.0</td>\n",
       "      <td>0.000000</td>\n",
       "      <td>0.000000</td>\n",
       "      <td>0.0</td>\n",
       "      <td>0.0</td>\n",
       "      <td>0.0</td>\n",
       "      <td>0.0</td>\n",
       "      <td>0.000000</td>\n",
       "      <td>0.0</td>\n",
       "      <td>0.0</td>\n",
       "      <td>...</td>\n",
       "      <td>0.0</td>\n",
       "      <td>0.0</td>\n",
       "      <td>0.0</td>\n",
       "      <td>0.0</td>\n",
       "      <td>0.0</td>\n",
       "      <td>0.0</td>\n",
       "      <td>0.0</td>\n",
       "      <td>0.0</td>\n",
       "      <td>0.0</td>\n",
       "      <td>0.0</td>\n",
       "    </tr>\n",
       "    <tr>\n",
       "      <th>4</th>\n",
       "      <td>0.0</td>\n",
       "      <td>0.000000</td>\n",
       "      <td>0.000000</td>\n",
       "      <td>0.0</td>\n",
       "      <td>0.0</td>\n",
       "      <td>0.0</td>\n",
       "      <td>0.0</td>\n",
       "      <td>0.070506</td>\n",
       "      <td>0.0</td>\n",
       "      <td>0.0</td>\n",
       "      <td>...</td>\n",
       "      <td>0.0</td>\n",
       "      <td>0.0</td>\n",
       "      <td>0.0</td>\n",
       "      <td>0.0</td>\n",
       "      <td>0.0</td>\n",
       "      <td>0.0</td>\n",
       "      <td>0.0</td>\n",
       "      <td>0.0</td>\n",
       "      <td>0.0</td>\n",
       "      <td>0.0</td>\n",
       "    </tr>\n",
       "    <tr>\n",
       "      <th>...</th>\n",
       "      <td>...</td>\n",
       "      <td>...</td>\n",
       "      <td>...</td>\n",
       "      <td>...</td>\n",
       "      <td>...</td>\n",
       "      <td>...</td>\n",
       "      <td>...</td>\n",
       "      <td>...</td>\n",
       "      <td>...</td>\n",
       "      <td>...</td>\n",
       "      <td>...</td>\n",
       "      <td>...</td>\n",
       "      <td>...</td>\n",
       "      <td>...</td>\n",
       "      <td>...</td>\n",
       "      <td>...</td>\n",
       "      <td>...</td>\n",
       "      <td>...</td>\n",
       "      <td>...</td>\n",
       "      <td>...</td>\n",
       "      <td>...</td>\n",
       "    </tr>\n",
       "    <tr>\n",
       "      <th>790</th>\n",
       "      <td>0.0</td>\n",
       "      <td>0.055963</td>\n",
       "      <td>0.000000</td>\n",
       "      <td>0.0</td>\n",
       "      <td>0.0</td>\n",
       "      <td>0.0</td>\n",
       "      <td>0.0</td>\n",
       "      <td>0.000000</td>\n",
       "      <td>0.0</td>\n",
       "      <td>0.0</td>\n",
       "      <td>...</td>\n",
       "      <td>0.0</td>\n",
       "      <td>0.0</td>\n",
       "      <td>0.0</td>\n",
       "      <td>0.0</td>\n",
       "      <td>0.0</td>\n",
       "      <td>0.0</td>\n",
       "      <td>0.0</td>\n",
       "      <td>0.0</td>\n",
       "      <td>0.0</td>\n",
       "      <td>0.0</td>\n",
       "    </tr>\n",
       "    <tr>\n",
       "      <th>791</th>\n",
       "      <td>0.0</td>\n",
       "      <td>0.000000</td>\n",
       "      <td>0.000000</td>\n",
       "      <td>0.0</td>\n",
       "      <td>0.0</td>\n",
       "      <td>0.0</td>\n",
       "      <td>0.0</td>\n",
       "      <td>0.000000</td>\n",
       "      <td>0.0</td>\n",
       "      <td>0.0</td>\n",
       "      <td>...</td>\n",
       "      <td>0.0</td>\n",
       "      <td>0.0</td>\n",
       "      <td>0.0</td>\n",
       "      <td>0.0</td>\n",
       "      <td>0.0</td>\n",
       "      <td>0.0</td>\n",
       "      <td>0.0</td>\n",
       "      <td>0.0</td>\n",
       "      <td>0.0</td>\n",
       "      <td>0.0</td>\n",
       "    </tr>\n",
       "    <tr>\n",
       "      <th>792</th>\n",
       "      <td>0.0</td>\n",
       "      <td>0.000000</td>\n",
       "      <td>0.000000</td>\n",
       "      <td>0.0</td>\n",
       "      <td>0.0</td>\n",
       "      <td>0.0</td>\n",
       "      <td>0.0</td>\n",
       "      <td>0.000000</td>\n",
       "      <td>0.0</td>\n",
       "      <td>0.0</td>\n",
       "      <td>...</td>\n",
       "      <td>0.0</td>\n",
       "      <td>0.0</td>\n",
       "      <td>0.0</td>\n",
       "      <td>0.0</td>\n",
       "      <td>0.0</td>\n",
       "      <td>0.0</td>\n",
       "      <td>0.0</td>\n",
       "      <td>0.0</td>\n",
       "      <td>0.0</td>\n",
       "      <td>0.0</td>\n",
       "    </tr>\n",
       "    <tr>\n",
       "      <th>793</th>\n",
       "      <td>0.0</td>\n",
       "      <td>0.000000</td>\n",
       "      <td>0.000000</td>\n",
       "      <td>0.0</td>\n",
       "      <td>0.0</td>\n",
       "      <td>0.0</td>\n",
       "      <td>0.0</td>\n",
       "      <td>0.000000</td>\n",
       "      <td>0.0</td>\n",
       "      <td>0.0</td>\n",
       "      <td>...</td>\n",
       "      <td>0.0</td>\n",
       "      <td>0.0</td>\n",
       "      <td>0.0</td>\n",
       "      <td>0.0</td>\n",
       "      <td>0.0</td>\n",
       "      <td>0.0</td>\n",
       "      <td>0.0</td>\n",
       "      <td>0.0</td>\n",
       "      <td>0.0</td>\n",
       "      <td>0.0</td>\n",
       "    </tr>\n",
       "    <tr>\n",
       "      <th>794</th>\n",
       "      <td>0.0</td>\n",
       "      <td>0.000000</td>\n",
       "      <td>0.000000</td>\n",
       "      <td>0.0</td>\n",
       "      <td>0.0</td>\n",
       "      <td>0.0</td>\n",
       "      <td>0.0</td>\n",
       "      <td>0.000000</td>\n",
       "      <td>0.0</td>\n",
       "      <td>0.0</td>\n",
       "      <td>...</td>\n",
       "      <td>0.0</td>\n",
       "      <td>0.0</td>\n",
       "      <td>0.0</td>\n",
       "      <td>0.0</td>\n",
       "      <td>0.0</td>\n",
       "      <td>0.0</td>\n",
       "      <td>0.0</td>\n",
       "      <td>0.0</td>\n",
       "      <td>0.0</td>\n",
       "      <td>0.0</td>\n",
       "    </tr>\n",
       "  </tbody>\n",
       "</table>\n",
       "<p>795 rows × 11207 columns</p>\n",
       "</div>"
      ],
      "text/plain": [
       "     00s         1        10  100  1000  10minute  10th        11  11th   12  \\\n",
       "0    0.0  0.000000  0.054406  0.0   0.0       0.0   0.0  0.000000   0.0  0.0   \n",
       "1    0.0  0.000000  0.000000  0.0   0.0       0.0   0.0  0.000000   0.0  0.0   \n",
       "2    0.0  0.000000  0.000000  0.0   0.0       0.0   0.0  0.000000   0.0  0.0   \n",
       "3    0.0  0.000000  0.000000  0.0   0.0       0.0   0.0  0.000000   0.0  0.0   \n",
       "4    0.0  0.000000  0.000000  0.0   0.0       0.0   0.0  0.070506   0.0  0.0   \n",
       "..   ...       ...       ...  ...   ...       ...   ...       ...   ...  ...   \n",
       "790  0.0  0.055963  0.000000  0.0   0.0       0.0   0.0  0.000000   0.0  0.0   \n",
       "791  0.0  0.000000  0.000000  0.0   0.0       0.0   0.0  0.000000   0.0  0.0   \n",
       "792  0.0  0.000000  0.000000  0.0   0.0       0.0   0.0  0.000000   0.0  0.0   \n",
       "793  0.0  0.000000  0.000000  0.0   0.0       0.0   0.0  0.000000   0.0  0.0   \n",
       "794  0.0  0.000000  0.000000  0.0   0.0       0.0   0.0  0.000000   0.0  0.0   \n",
       "\n",
       "     ...  zine  zines  zinger  zip  zither  zone  zonked  zoom  zulu    à  \n",
       "0    ...   0.0    0.0     0.0  0.0     0.0   0.0     0.0   0.0   0.0  0.0  \n",
       "1    ...   0.0    0.0     0.0  0.0     0.0   0.0     0.0   0.0   0.0  0.0  \n",
       "2    ...   0.0    0.0     0.0  0.0     0.0   0.0     0.0   0.0   0.0  0.0  \n",
       "3    ...   0.0    0.0     0.0  0.0     0.0   0.0     0.0   0.0   0.0  0.0  \n",
       "4    ...   0.0    0.0     0.0  0.0     0.0   0.0     0.0   0.0   0.0  0.0  \n",
       "..   ...   ...    ...     ...  ...     ...   ...     ...   ...   ...  ...  \n",
       "790  ...   0.0    0.0     0.0  0.0     0.0   0.0     0.0   0.0   0.0  0.0  \n",
       "791  ...   0.0    0.0     0.0  0.0     0.0   0.0     0.0   0.0   0.0  0.0  \n",
       "792  ...   0.0    0.0     0.0  0.0     0.0   0.0     0.0   0.0   0.0  0.0  \n",
       "793  ...   0.0    0.0     0.0  0.0     0.0   0.0     0.0   0.0   0.0  0.0  \n",
       "794  ...   0.0    0.0     0.0  0.0     0.0   0.0     0.0   0.0   0.0  0.0  \n",
       "\n",
       "[795 rows x 11207 columns]"
      ]
     },
     "execution_count": 150,
     "metadata": {},
     "output_type": "execute_result"
    }
   ],
   "source": [
    "tfidf_df"
   ]
  },
  {
   "cell_type": "code",
   "execution_count": 151,
   "id": "7e54735b",
   "metadata": {},
   "outputs": [],
   "source": [
    "tfidf_df['Genre'] = df['Genre']\n",
    "genre_word_scores = tfidf_df.groupby('Genre').sum()"
   ]
  },
  {
   "cell_type": "code",
   "execution_count": 152,
   "id": "0893c723",
   "metadata": {},
   "outputs": [
    {
     "name": "stdout",
     "output_type": "stream",
     "text": [
      "Top 20 words for Electronic: ['like', 'album', 'song', 'wa', 'band', 'music', 'sound', 'ha', 'new', 'record', 'one', 'feel', 'time', 'guitar', 'year', 'track', 'make', 'first', 'even', 'not']\n",
      "Top 20 words for Experimental: ['album', 'like', 'band', 'song', 'new', 'ha', 'sound', 'music', 'wa', 'guitar', 'not', 'one', 'first', 'time', 'rock', 'record', 'year', 'pop', 'voice', 'track']\n",
      "Top 20 words for Folk: ['like', 'album', 'song', 'pop', 'sound', 'ha', 'music', 'wa', 'vocal', 'track', 'new', 'one', 'feel', 'band', 'voice', 'beat', 'guitar', 'not', 'rb', 'record']\n",
      "Top 20 words for Jazz: ['album', 'like', 'brown', 'music', 'sound', 'wa', 'song', 'beat', 'not', 'age', 'year', 'glass', 'one', 'rapper', 'ha', 'new', 'guitar', 'feel', 'vocal', 'band']\n",
      "Top 20 words for Metal: ['like', 'music', 'peso', 'album', 'voice', 'singer', 'song', 'sound', 'guitar', 'new', 'artist', 'gambino', 'donald', 'spring', 'childish', 'cover', 'wa', 'snow', 'one', 'reign']\n",
      "Top 20 words for Pop: ['like', 'album', 'song', 'wa', 'band', 'sound', 'new', 'music', 'one', 'ha', 'guitar', 'not', 'track', 'no', 'record', 'pop', 'year', 'voice', 'producer', 'feel']\n",
      "Top 20 words for Rap: ['album', 'like', 'song', 'sound', 'wa', 'music', 'new', 'band', 'one', 'not', 'ha', 'record', 'track', 'time', 'feel', 'pop', 'love', 'guitar', 'first', 'way']\n",
      "Top 20 words for Rock: ['like', 'album', 'song', 'music', 'sound', 'wa', 'band', 'ha', 'new', 'record', 'one', 'time', 'not', 'track', 'feel', 'year', 'guitar', 'rock', 'first', 'even']\n"
     ]
    }
   ],
   "source": [
    "top_n = 20  # Adjust this value to get more or fewer top words\n",
    "important_words_by_genre = {}\n",
    "\n",
    "for genre in genre_word_scores.index:\n",
    "    # Get the top N words for this genre\n",
    "    sorted_words = genre_word_scores.loc[genre].sort_values(ascending=False)[:top_n]\n",
    "    important_words_by_genre[genre] = sorted_words.index.tolist()\n",
    "\n",
    "# Now, important_words_by_genre contains the top N most important words for each genre\n",
    "for genre, words in important_words_by_genre.items():\n",
    "    print(f\"Top {top_n} words for {genre}: {words}\")\n"
   ]
  },
  {
   "cell_type": "markdown",
   "id": "838a46d9",
   "metadata": {},
   "source": [
    "# HERE\n",
    "Visualise the above! I think Metal stands out on its own.\n",
    "Visualization: Use visualizations such as word clouds or bar charts to see word frequency distributions for each genre, which might help in understanding the differences visually.\n",
    "\n",
    "Word Embeddings: Consider using word embeddings (like Word2Vec or GloVe) to capture semantic similarities, which might help in understanding which words are more contextually unique to certain genres.\n",
    "\n",
    "Could re-run with bi-grams included and see if that improves things.\n",
    "\n",
    "A lot of similar words used across genres (overlapping themes, generic vocabulary / defined review language) so trying chi^2 to see if I can identify words that are statistically significant between genres.\n"
   ]
  },
  {
   "cell_type": "code",
   "execution_count": null,
   "id": "e1d4f4fd",
   "metadata": {},
   "outputs": [],
   "source": [
    "from sklearn.feature_selection import chi2"
   ]
  },
  {
   "cell_type": "markdown",
   "id": "93c756c1",
   "metadata": {},
   "source": [
    "Even Chi^2 supports this. In that a lot of the unique words are specific to Metal and Rap.\n",
    "\n",
    "Why: Chi-square tests are often used in text classification to evaluate whether the presence of a word is independent of a genre (target variable). If a word is strongly associated with a genre, it will have a high chi-square value."
   ]
  },
  {
   "cell_type": "code",
   "execution_count": 161,
   "id": "e9721497",
   "metadata": {},
   "outputs": [
    {
     "name": "stdout",
     "output_type": "stream",
     "text": [
      "           Feature  Chi2_Score\n",
      "6246         metal   64.169152\n",
      "4239        gendel   38.130623\n",
      "7839           rap   35.727178\n",
      "7844        rapper   28.264811\n",
      "5392          jazz   28.164568\n",
      "895           band   21.496669\n",
      "8520   saxophonist   18.032724\n",
      "8479        sander   16.244042\n",
      "10902        welch   15.472142\n",
      "8750       shabaka   13.940216\n",
      "1566        carter   13.922557\n",
      "2730    desolation   13.223761\n",
      "7224       pharoah   12.723585\n",
      "9919        techno   12.531852\n",
      "2300       country   11.707757\n",
      "8963         sitar   11.690044\n",
      "4076        fratti   11.684111\n",
      "897     bandleader   11.527554\n",
      "10145         tomb   11.486581\n",
      "4240       gendels   10.965636\n",
      "8580       screamo   10.919283\n",
      "10985       wilkes   10.735663\n",
      "2569    deathmetal   10.698927\n",
      "9063        sludge   10.264839\n",
      "6696          niño   10.227915\n",
      "6383       mixtape   10.199014\n",
      "78             200   10.019603\n",
      "7873      rawlings    9.875880\n",
      "968           beat    9.714738\n",
      "3060         drill    9.406874\n"
     ]
    }
   ],
   "source": [
    "# Fit and transform the text data\n",
    "X = vectorizer.fit_transform(df['Text'])\n",
    "y = df['Genre']\n",
    "\n",
    "chi2_scores, p_values = chi2(X, y)\n",
    "feature_names = vectorizer.get_feature_names_out()\n",
    "\n",
    "# Combine feature names with chi2 scores and sort by importance\n",
    "chi2_df = pd.DataFrame({\"Feature\": feature_names, \"Chi2_Score\": chi2_scores})\n",
    "chi2_df = chi2_df.sort_values(by=\"Chi2_Score\", ascending=False)\n",
    "\n",
    "print(chi2_df.head(30))  # Top 10 most important words across all genres"
   ]
  },
  {
   "cell_type": "markdown",
   "id": "b411c242",
   "metadata": {},
   "source": [
    "Conclusion: Finding are that metal and rap have their own languages while, rock, pop etc share vocab. Below to visualise chi2 data with color depending on genre."
   ]
  },
  {
   "cell_type": "code",
   "execution_count": null,
   "id": "9c59dc4a",
   "metadata": {},
   "outputs": [],
   "source": [
    "import matplotlib.pyplot as plt\n",
    "import seaborn as sns\n",
    "\n",
    "plt.figure(figsize=(12, 8))\n",
    "sns.barplot(x='chi2_score', y='feature', hue='genre', data=top_words)\n",
    "plt.title('Top 10 Important Words by Genre (Chi² Scores)')\n",
    "plt.xlabel('Chi² Score')\n",
    "plt.ylabel('Words')\n",
    "plt.legend(title='Genre')\n",
    "plt.show()"
   ]
  },
  {
   "cell_type": "markdown",
   "id": "6c2b0ff1",
   "metadata": {},
   "source": [
    "Use language to predict score. vectorize again but this time add score to dataframe instead of Genre."
   ]
  },
  {
   "cell_type": "markdown",
   "id": "db242658",
   "metadata": {},
   "source": [
    "2. Using Language to Predict the Score\n",
    "\n",
    "    Approach: Predicting the score based on review text is a regression task because the score is numerical.\n",
    "        Text Representation: Convert the text data into numerical features using TF-IDF, BoW, or word embeddings (e.g., Word2Vec).\n",
    "        Model Selection: You can use regression models like Linear Regression, Random Forest Regressor, or even more advanced methods like XGBoost or neural networks (using PyTorch or TensorFlow).\n",
    "        Feature Engineering: You can also try including sentiment scores as features, which might correlate with the review score.\n",
    "       "
   ]
  },
  {
   "cell_type": "code",
   "execution_count": null,
   "id": "6acf4aeb",
   "metadata": {},
   "outputs": [],
   "source": [
    "from sklearn.feature_extraction.text import TfidfVectorizer\n",
    "from sklearn.linear_model import LinearRegression\n",
    "from sklearn.model_selection import train_test_split\n",
    "\n",
    "# TF-IDF for feature extraction\n",
    "vectorizer = TfidfVectorizer(max_features=5000)\n",
    "X = vectorizer.fit_transform(df['Review'])  # Text features\n",
    "y = df['Score']  # Target (numerical score)\n",
    "\n",
    "# Train-Test Split\n",
    "X_train, X_test, y_train, y_test = train_test_split(X, y, test_size=0.2, random_state=42)\n",
    "\n",
    "# Linear Regression Model\n",
    "model = LinearRegression()\n",
    "model.fit(X_train, y_train)\n",
    "\n",
    "# Predict and evaluate\n",
    "y_pred = model.predict(X_test)\n",
    "print(\"Predicted Scores:\", y_pred)"
   ]
  },
  {
   "cell_type": "markdown",
   "id": "0b290d30",
   "metadata": {},
   "source": [
    "Predicting Score from Review Text:\n",
    "\n",
    "    Convert review text into numerical features using TF-IDF or BoW.\n",
    "    Train regression models (e.g., Linear Regression, Random Forest).\n",
    "    Optionally, include sentiment analysis as a feature to enhance predictions."
   ]
  },
  {
   "cell_type": "code",
   "execution_count": null,
   "id": "0081efa1",
   "metadata": {},
   "outputs": [],
   "source": [
    "\n",
    "\n",
    "Exploratory analysis\n",
    "- word frequency\n",
    "- word cloud by genre and by score range\n",
    "\n",
    "Feature extraction (turn words to numbers)\n",
    " - bag of words or tf-idf\n",
    " \n",
    "Sentiment analysis / modelling score prediction\n",
    "\n",
    "\n",
    "Word cloud broken out by score range\n",
    "\n"
   ]
  }
 ],
 "metadata": {
  "kernelspec": {
   "display_name": "Python 3 (ipykernel)",
   "language": "python",
   "name": "python3"
  },
  "language_info": {
   "codemirror_mode": {
    "name": "ipython",
    "version": 3
   },
   "file_extension": ".py",
   "mimetype": "text/x-python",
   "name": "python",
   "nbconvert_exporter": "python",
   "pygments_lexer": "ipython3",
   "version": "3.9.12"
  }
 },
 "nbformat": 4,
 "nbformat_minor": 5
}
